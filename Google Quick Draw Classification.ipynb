{
 "cells": [
  {
   "cell_type": "markdown",
   "metadata": {},
   "source": [
    "# Google's QuickDraw: Image Classification\n",
    "\n",
    "\n",
    "#### Numpy bitmaps (`.npy`)\n",
    "All the simplified drawings have been rendered into a 28x28 grayscale bitmap in numpy `.npy` format. The files can be loaded with [`np.load()`](https://docs.scipy.org/doc/numpy-1.12.0/reference/generated/numpy.load.html). These images were generated from the simplified data, but are aligned to the center of the drawing's bounding box rather than the top-left corner."
   ]
  },
  {
   "cell_type": "code",
   "execution_count": 1,
   "metadata": {},
   "outputs": [],
   "source": [
    "import skimage\n",
    "import numpy as np\n",
    "import pandas as pd\n",
    "import matplotlib.pyplot as plt\n",
    "from glob import glob\n",
    "import itertools\n",
    "%matplotlib inline\n",
    "from sklearn.model_selection import train_test_split, GridSearchCV"
   ]
  },
  {
   "cell_type": "markdown",
   "metadata": {},
   "source": [
    "<center><h1> Data Wrangling </h1></center>\n",
    "\n"
   ]
  },
  {
   "cell_type": "code",
   "execution_count": 2,
   "metadata": {
    "scrolled": true
   },
   "outputs": [
    {
     "data": {
      "text/plain": [
       "['data/numpy_bitmap\\\\ambulance.npy',\n",
       " 'data/numpy_bitmap\\\\baseball.npy',\n",
       " 'data/numpy_bitmap\\\\beard.npy',\n",
       " 'data/numpy_bitmap\\\\bridge.npy',\n",
       " 'data/numpy_bitmap\\\\calculator.npy',\n",
       " 'data/numpy_bitmap\\\\cat.npy',\n",
       " 'data/numpy_bitmap\\\\lightbulb.npy',\n",
       " 'data/numpy_bitmap\\\\octopus.npy',\n",
       " 'data/numpy_bitmap\\\\smileyface.npy',\n",
       " 'data/numpy_bitmap\\\\wristwatch.npy']"
      ]
     },
     "execution_count": 2,
     "metadata": {},
     "output_type": "execute_result"
    }
   ],
   "source": [
    "files = glob(\"data/numpy_bitmap/*.npy\")\n",
    "files"
   ]
  },
  {
   "cell_type": "code",
   "execution_count": 3,
   "metadata": {},
   "outputs": [],
   "source": [
    "# load each class separately\n",
    "ambulance = np.load('data/numpy_bitmap/ambulance.npy')\n",
    "baseball = np.load('data/numpy_bitmap/baseball.npy')\n",
    "beard = np.load('data/numpy_bitmap/beard.npy')\n",
    "bridge = np.load('data/numpy_bitmap/bridge.npy')\n",
    "calculator = np.load('data/numpy_bitmap/calculator.npy')\n",
    "cat = np.load('data/numpy_bitmap/cat.npy')\n",
    "lightbulb = np.load('data/numpy_bitmap/lightbulb.npy')\n",
    "octopus = np.load('data/numpy_bitmap/octopus.npy')\n",
    "smileyface = np.load('data/numpy_bitmap/smileyface.npy')\n",
    "wristwatch = np.load('data/numpy_bitmap/wristwatch.npy')"
   ]
  },
  {
   "cell_type": "code",
   "execution_count": 42,
   "metadata": {},
   "outputs": [
    {
     "data": {
      "text/plain": [
       "numpy.ndarray"
      ]
     },
     "execution_count": 42,
     "metadata": {},
     "output_type": "execute_result"
    }
   ],
   "source": [
    "type(wristwatch[0])"
   ]
  },
  {
   "cell_type": "code",
   "execution_count": 4,
   "metadata": {},
   "outputs": [],
   "source": [
    "# Add class label to each array\n",
    "ambulance = np.c_[ambulance, np.zeros(len(ambulance))]\n",
    "baseball = np.c_[baseball, np.ones(len(baseball))]\n",
    "beard = np.c_[beard, 2*np.ones(len(beard))]\n",
    "bridge = np.c_[bridge, 3*np.ones(len(bridge))]\n",
    "calculator = np.c_[calculator, 4*np.ones(len(calculator))]\n",
    "cat = np.c_[cat, 5*np.ones(len(cat))]\n",
    "lightbulb = np.c_[lightbulb, 6*np.ones(len(lightbulb))]\n",
    "octopus = np.c_[octopus, 7*np.ones(len(octopus))]\n",
    "smileyface = np.c_[smileyface, 8*np.ones(len(smileyface))]\n",
    "wristwatch = np.c_[wristwatch, 9*np.ones(len(wristwatch))]"
   ]
  },
  {
   "cell_type": "code",
   "execution_count": 5,
   "metadata": {},
   "outputs": [],
   "source": [
    "# store the label codes in a dictionary\n",
    "label_dict = {0:'ambulance', 1:'baseball', 2:'beard', 3:'bridge', 4:'calculator',\n",
    "              5:'cat', 6:'lightbulb', 7:'octopus', 8:'smileyface', 9:'wristwatch'\n",
    "              }\n",
    "# store the arrays in a list\n",
    "arrays = [ambulance,baseball,beard,bridge,calculator,cat,lightbulb,octopus,smileyface,wristwatch]"
   ]
  },
  {
   "cell_type": "code",
   "execution_count": 6,
   "metadata": {},
   "outputs": [
    {
     "name": "stdout",
     "output_type": "stream",
     "text": [
      "ambulance shape:  (148004, 785)\n",
      "baseball shape:  (135375, 785)\n",
      "beard shape:  (165202, 785)\n",
      "bridge shape:  (133010, 785)\n",
      "calculator shape:  (128375, 785)\n",
      "cat shape:  (123202, 785)\n",
      "lightbulb shape:  (120879, 785)\n",
      "octopus shape:  (150152, 785)\n",
      "smileyface shape:  (124386, 785)\n",
      "wristwatch shape:  (162645, 785)\n"
     ]
    }
   ],
   "source": [
    "# Examine shape of each category\n",
    "for k, item in enumerate(arrays):\n",
    "    print(label_dict[k],'shape: ',item.shape)"
   ]
  },
  {
   "cell_type": "code",
   "execution_count": 7,
   "metadata": {},
   "outputs": [],
   "source": [
    "# List of 1000 drawings for each category without label\n",
    "short_arrays_X = []\n",
    "# List of 1000 drawings' label for each cateogry\n",
    "short_arrays_Y = []\n",
    "\n",
    "for item in arrays:\n",
    "    short_arrays_X.append(item[:2000,:784])\n",
    "    short_arrays_Y.append(item[:2000,-1])\n",
    "# Create our traing/test split data and normalize the features between 0 and 1   \n",
    "X = np.concatenate(short_arrays_X, axis=0).astype('float32')/255.\n",
    "y = np.concatenate(short_arrays_Y, axis=0).astype('float32')\n",
    "X_train, X_test, y_train, y_test = train_test_split(X,y,test_size=0.3,random_state=1)"
   ]
  },
  {
   "cell_type": "code",
   "execution_count": 8,
   "metadata": {},
   "outputs": [
    {
     "data": {
      "text/plain": [
       "{0.0: 615,\n",
       " 1.0: 613,\n",
       " 2.0: 624,\n",
       " 3.0: 570,\n",
       " 4.0: 628,\n",
       " 5.0: 604,\n",
       " 6.0: 595,\n",
       " 7.0: 583,\n",
       " 8.0: 566,\n",
       " 9.0: 602}"
      ]
     },
     "execution_count": 8,
     "metadata": {},
     "output_type": "execute_result"
    }
   ],
   "source": [
    "unique, counts = np.unique(y_test, return_counts=True)\n",
    "dict(zip(unique, counts))"
   ]
  },
  {
   "cell_type": "markdown",
   "metadata": {},
   "source": [
    "<center><h1> Image Preprocessing / Exploratory Analysis </h1></center>"
   ]
  },
  {
   "cell_type": "code",
   "execution_count": 9,
   "metadata": {},
   "outputs": [
    {
     "data": {
      "image/png": "[encoded data removed]",
      "text/plain": [
       "<matplotlib.figure.Figure at 0x11598017c88>"
      ]
     },
     "metadata": {},
     "output_type": "display_data"
    }
   ],
   "source": [
    "# Create Image Intensity Histrogram for each class\n",
    "freq = []\n",
    "bins = []\n",
    "patches = []\n",
    "\n",
    "fig, axs = plt.subplots(10, 2, figsize=(15,20))\n",
    "plt.suptitle('Binning image intensity distribution', x=.7,y=1)\n",
    "for i, array in enumerate(arrays):\n",
    "    axs[i,0].set_title(label_dict[i].upper())\n",
    "    axs[i,0].imshow(array[0,:784].reshape((28,28)), cmap=\"gray_r\")\n",
    "    a_freq, a_bins, a_patches = axs[i,1].hist(array[0,:784].reshape((28,28)).flatten(), bins=30,)\n",
    "    freq.append(a_freq)\n",
    "    bins.append(a_bins)\n",
    "    patches.append(a_patches)\n",
    "plt.tight_layout()"
   ]
  },
  {
   "cell_type": "code",
   "execution_count": 10,
   "metadata": {},
   "outputs": [
    {
     "data": {
      "image/png": "[encoded data removed]",
      "text/plain": [
       "<matplotlib.figure.Figure at 0x115cea0b940>"
      ]
     },
     "metadata": {},
     "output_type": "display_data"
    }
   ],
   "source": [
    "from skimage.feature import canny\n",
    "fig = plt.figure(figsize=(10,7))\n",
    "edges = []\n",
    "plt.suptitle('Edge Detection')\n",
    "plt.subplots_adjust(hspace=-.2)\n",
    "for i, array in enumerate(arrays):\n",
    "    ax = fig.add_subplot(2,5,i+1)\n",
    "    edge = canny(array[0,:784].reshape((28,28)), sigma=3)\n",
    "    plt.imshow(edge, cmap='binary')\n",
    "    edges.append(edge)\n",
    "    plt.title(label_dict[i].upper())\n",
    "    "
   ]
  },
  {
   "cell_type": "markdown",
   "metadata": {},
   "source": [
    "<center><h1>Modeling</h1></center>"
   ]
  },
  {
   "cell_type": "code",
   "execution_count": 11,
   "metadata": {},
   "outputs": [],
   "source": [
    "from sklearn.neighbors import KNeighborsClassifier\n",
    "from sklearn.ensemble import RandomForestClassifier\n",
    "from sklearn.svm import SVC, LinearSVC\n",
    "from sklearn.neural_network import MLPClassifier\n",
    "from sklearn.metrics import accuracy_score, confusion_matrix"
   ]
  },
  {
   "cell_type": "markdown",
   "metadata": {},
   "source": [
    "## K-Nearest Neighbor"
   ]
  },
  {
   "cell_type": "code",
   "execution_count": 12,
   "metadata": {},
   "outputs": [
    {
     "name": "stdout",
     "output_type": "stream",
     "text": [
      "KNeighborsClassifier(algorithm='auto', leaf_size=30, metric='minkowski',\n",
      "           metric_params=None, n_jobs=-1, n_neighbors=5, p=2,\n",
      "           weights='uniform')\n",
      "KNN accuracy:  0.768166666667\n"
     ]
    }
   ],
   "source": [
    "knn = KNeighborsClassifier(n_jobs=-1)\n",
    "knn.fit(X_train, y_train)\n",
    "print(knn)\n",
    "y_pred_knn = knn.predict(X_test)\n",
    "acc_knn = accuracy_score(y_test, y_pred_knn)\n",
    "print ('KNN accuracy: ',acc_knn)"
   ]
  },
  {
   "cell_type": "code",
   "execution_count": 13,
   "metadata": {},
   "outputs": [
    {
     "data": {
      "text/html": [
       "<div>\n",
       "<style>\n",
       "    .dataframe thead tr:only-child th {\n",
       "        text-align: right;\n",
       "    }\n",
       "\n",
       "    .dataframe thead th {\n",
       "        text-align: left;\n",
       "    }\n",
       "\n",
       "    .dataframe tbody tr th {\n",
       "        vertical-align: top;\n",
       "    }\n",
       "</style>\n",
       "<table border=\"1\" class=\"dataframe\">\n",
       "  <thead>\n",
       "    <tr style=\"text-align: right;\">\n",
       "      <th></th>\n",
       "      <th>mean_fit_time</th>\n",
       "      <th>mean_score_time</th>\n",
       "      <th>mean_test_score</th>\n",
       "      <th>mean_train_score</th>\n",
       "      <th>param_n_neighbors</th>\n",
       "      <th>params</th>\n",
       "      <th>rank_test_score</th>\n",
       "      <th>split0_test_score</th>\n",
       "      <th>split0_train_score</th>\n",
       "      <th>split1_test_score</th>\n",
       "      <th>split1_train_score</th>\n",
       "      <th>split2_test_score</th>\n",
       "      <th>split2_train_score</th>\n",
       "      <th>std_fit_time</th>\n",
       "      <th>std_score_time</th>\n",
       "      <th>std_test_score</th>\n",
       "      <th>std_train_score</th>\n",
       "    </tr>\n",
       "  </thead>\n",
       "  <tbody>\n",
       "    <tr>\n",
       "      <th>3</th>\n",
       "      <td>8.650211</td>\n",
       "      <td>160.607327</td>\n",
       "      <td>0.755286</td>\n",
       "      <td>0.840571</td>\n",
       "      <td>4</td>\n",
       "      <td>{'n_neighbors': 4}</td>\n",
       "      <td>1</td>\n",
       "      <td>0.756155</td>\n",
       "      <td>0.841355</td>\n",
       "      <td>0.758465</td>\n",
       "      <td>0.838976</td>\n",
       "      <td>0.751233</td>\n",
       "      <td>0.841384</td>\n",
       "      <td>1.954845</td>\n",
       "      <td>0.978023</td>\n",
       "      <td>0.003015</td>\n",
       "      <td>0.001128</td>\n",
       "    </tr>\n",
       "    <tr>\n",
       "      <th>5</th>\n",
       "      <td>8.734906</td>\n",
       "      <td>129.387831</td>\n",
       "      <td>0.751929</td>\n",
       "      <td>0.813178</td>\n",
       "      <td>6</td>\n",
       "      <td>{'n_neighbors': 6}</td>\n",
       "      <td>2</td>\n",
       "      <td>0.752516</td>\n",
       "      <td>0.811019</td>\n",
       "      <td>0.755679</td>\n",
       "      <td>0.814442</td>\n",
       "      <td>0.747587</td>\n",
       "      <td>0.814073</td>\n",
       "      <td>1.260780</td>\n",
       "      <td>29.046055</td>\n",
       "      <td>0.003329</td>\n",
       "      <td>0.001534</td>\n",
       "    </tr>\n",
       "    <tr>\n",
       "      <th>4</th>\n",
       "      <td>7.255375</td>\n",
       "      <td>168.255438</td>\n",
       "      <td>0.747714</td>\n",
       "      <td>0.818714</td>\n",
       "      <td>5</td>\n",
       "      <td>{'n_neighbors': 5}</td>\n",
       "      <td>3</td>\n",
       "      <td>0.751231</td>\n",
       "      <td>0.818630</td>\n",
       "      <td>0.747750</td>\n",
       "      <td>0.818620</td>\n",
       "      <td>0.744156</td>\n",
       "      <td>0.818893</td>\n",
       "      <td>0.786994</td>\n",
       "      <td>1.320918</td>\n",
       "      <td>0.002889</td>\n",
       "      <td>0.000126</td>\n",
       "    </tr>\n",
       "    <tr>\n",
       "      <th>2</th>\n",
       "      <td>7.534857</td>\n",
       "      <td>168.006265</td>\n",
       "      <td>0.746000</td>\n",
       "      <td>0.855072</td>\n",
       "      <td>3</td>\n",
       "      <td>{'n_neighbors': 3}</td>\n",
       "      <td>4</td>\n",
       "      <td>0.745451</td>\n",
       "      <td>0.856791</td>\n",
       "      <td>0.746464</td>\n",
       "      <td>0.856546</td>\n",
       "      <td>0.746086</td>\n",
       "      <td>0.851880</td>\n",
       "      <td>1.877536</td>\n",
       "      <td>6.694877</td>\n",
       "      <td>0.000418</td>\n",
       "      <td>0.002260</td>\n",
       "    </tr>\n",
       "    <tr>\n",
       "      <th>6</th>\n",
       "      <td>6.691157</td>\n",
       "      <td>106.208383</td>\n",
       "      <td>0.743786</td>\n",
       "      <td>0.797357</td>\n",
       "      <td>7</td>\n",
       "      <td>{'n_neighbors': 7}</td>\n",
       "      <td>5</td>\n",
       "      <td>0.742882</td>\n",
       "      <td>0.796548</td>\n",
       "      <td>0.747535</td>\n",
       "      <td>0.796979</td>\n",
       "      <td>0.740939</td>\n",
       "      <td>0.798543</td>\n",
       "      <td>0.949251</td>\n",
       "      <td>2.336624</td>\n",
       "      <td>0.002767</td>\n",
       "      <td>0.000857</td>\n",
       "    </tr>\n",
       "    <tr>\n",
       "      <th>0</th>\n",
       "      <td>1.912380</td>\n",
       "      <td>162.134569</td>\n",
       "      <td>0.738857</td>\n",
       "      <td>1.000000</td>\n",
       "      <td>1</td>\n",
       "      <td>{'n_neighbors': 1}</td>\n",
       "      <td>6</td>\n",
       "      <td>0.734532</td>\n",
       "      <td>1.000000</td>\n",
       "      <td>0.738963</td>\n",
       "      <td>1.000000</td>\n",
       "      <td>0.743084</td>\n",
       "      <td>1.000000</td>\n",
       "      <td>0.361358</td>\n",
       "      <td>5.046647</td>\n",
       "      <td>0.003492</td>\n",
       "      <td>0.000000</td>\n",
       "    </tr>\n",
       "    <tr>\n",
       "      <th>1</th>\n",
       "      <td>4.136730</td>\n",
       "      <td>170.863649</td>\n",
       "      <td>0.737071</td>\n",
       "      <td>0.891214</td>\n",
       "      <td>2</td>\n",
       "      <td>{'n_neighbors': 2}</td>\n",
       "      <td>7</td>\n",
       "      <td>0.737529</td>\n",
       "      <td>0.891735</td>\n",
       "      <td>0.740249</td>\n",
       "      <td>0.890722</td>\n",
       "      <td>0.733433</td>\n",
       "      <td>0.891186</td>\n",
       "      <td>0.581439</td>\n",
       "      <td>0.724683</td>\n",
       "      <td>0.002800</td>\n",
       "      <td>0.000414</td>\n",
       "    </tr>\n",
       "  </tbody>\n",
       "</table>\n",
       "</div>"
      ],
      "text/plain": [
       "   mean_fit_time  mean_score_time  mean_test_score  mean_train_score  \\\n",
       "3       8.650211       160.607327         0.755286          0.840571   \n",
       "5       8.734906       129.387831         0.751929          0.813178   \n",
       "4       7.255375       168.255438         0.747714          0.818714   \n",
       "2       7.534857       168.006265         0.746000          0.855072   \n",
       "6       6.691157       106.208383         0.743786          0.797357   \n",
       "0       1.912380       162.134569         0.738857          1.000000   \n",
       "1       4.136730       170.863649         0.737071          0.891214   \n",
       "\n",
       "  param_n_neighbors              params  rank_test_score  split0_test_score  \\\n",
       "3                 4  {'n_neighbors': 4}                1           0.756155   \n",
       "5                 6  {'n_neighbors': 6}                2           0.752516   \n",
       "4                 5  {'n_neighbors': 5}                3           0.751231   \n",
       "2                 3  {'n_neighbors': 3}                4           0.745451   \n",
       "6                 7  {'n_neighbors': 7}                5           0.742882   \n",
       "0                 1  {'n_neighbors': 1}                6           0.734532   \n",
       "1                 2  {'n_neighbors': 2}                7           0.737529   \n",
       "\n",
       "   split0_train_score  split1_test_score  split1_train_score  \\\n",
       "3            0.841355           0.758465            0.838976   \n",
       "5            0.811019           0.755679            0.814442   \n",
       "4            0.818630           0.747750            0.818620   \n",
       "2            0.856791           0.746464            0.856546   \n",
       "6            0.796548           0.747535            0.796979   \n",
       "0            1.000000           0.738963            1.000000   \n",
       "1            0.891735           0.740249            0.890722   \n",
       "\n",
       "   split2_test_score  split2_train_score  std_fit_time  std_score_time  \\\n",
       "3           0.751233            0.841384      1.954845        0.978023   \n",
       "5           0.747587            0.814073      1.260780       29.046055   \n",
       "4           0.744156            0.818893      0.786994        1.320918   \n",
       "2           0.746086            0.851880      1.877536        6.694877   \n",
       "6           0.740939            0.798543      0.949251        2.336624   \n",
       "0           0.743084            1.000000      0.361358        5.046647   \n",
       "1           0.733433            0.891186      0.581439        0.724683   \n",
       "\n",
       "   std_test_score  std_train_score  \n",
       "3        0.003015         0.001128  \n",
       "5        0.003329         0.001534  \n",
       "4        0.002889         0.000126  \n",
       "2        0.000418         0.002260  \n",
       "6        0.002767         0.000857  \n",
       "0        0.003492         0.000000  \n",
       "1        0.002800         0.000414  "
      ]
     },
     "execution_count": 13,
     "metadata": {},
     "output_type": "execute_result"
    }
   ],
   "source": [
    "parameters = {'n_neighbors': np.arange(2,6,1)}\n",
    "\n",
    "knn = KNeighborsClassifier(n_jobs=-1)\n",
    "knn = GridSearchCV(knn, parameters, n_jobs=-1)\n",
    "knn.fit(X_train, y_train)\n",
    "\n",
    "results_knn = pd.DataFrame(knn.cv_results_)\n",
    "results_knn.sort_values('mean_test_score', ascending = False)"
   ]
  },
  {
   "cell_type": "code",
   "execution_count": 14,
   "metadata": {},
   "outputs": [
    {
     "data": {
      "text/plain": [
       "<matplotlib.axes._subplots.AxesSubplot at 0x115cfa3e400>"
      ]
     },
     "execution_count": 14,
     "metadata": {},
     "output_type": "execute_result"
    },
    {
     "data": {
      "image/png": "[encoded data removed]",
      "text/plain": [
       "<matplotlib.figure.Figure at 0x115cfe3ee10>"
      ]
     },
     "metadata": {},
     "output_type": "display_data"
    }
   ],
   "source": [
    "results_knn.plot('param_n_neighbors','mean_test_score')"
   ]
  },
  {
   "cell_type": "markdown",
   "metadata": {},
   "source": [
    "## Random Forest "
   ]
  },
  {
   "cell_type": "code",
   "execution_count": 15,
   "metadata": {},
   "outputs": [
    {
     "name": "stdout",
     "output_type": "stream",
     "text": [
      "RandomForestClassifier(bootstrap=True, class_weight=None, criterion='gini',\n",
      "            max_depth=None, max_features='auto', max_leaf_nodes=None,\n",
      "            min_impurity_decrease=0.0, min_impurity_split=None,\n",
      "            min_samples_leaf=1, min_samples_split=2,\n",
      "            min_weight_fraction_leaf=0.0, n_estimators=10, n_jobs=1,\n",
      "            oob_score=False, random_state=1, verbose=0, warm_start=False)\n",
      "Random forest accuracy:  0.685666666667\n"
     ]
    }
   ],
   "source": [
    "rfc = RandomForestClassifier(random_state=1)\n",
    "rfc.fit(X_train, y_train)\n",
    "print(rfc)\n",
    "y_pred_rfc = rfc.predict(X_test)\n",
    "acc_rfc = accuracy_score(y_test, y_pred_rfc)\n",
    "print ('Random forest accuracy: ',acc_rfc)"
   ]
  },
  {
   "cell_type": "code",
   "execution_count": 16,
   "metadata": {},
   "outputs": [],
   "source": [
    "parameters = {'n_estimators': np.arange(10,150,10)}\n",
    "rfc = RandomForestClassifier(random_state=1, n_jobs=-1)\n",
    "rfc_gs = GridSearchCV(rfc, parameters)\n",
    "rfc_gs.fit(X_train, y_train)\n",
    "\n",
    "results_rfc_gs = pd.DataFrame(rfc_gs.cv_results_)"
   ]
  },
  {
   "cell_type": "code",
   "execution_count": 17,
   "metadata": {},
   "outputs": [
    {
     "data": {
      "text/html": [
       "<div>\n",
       "<style>\n",
       "    .dataframe thead tr:only-child th {\n",
       "        text-align: right;\n",
       "    }\n",
       "\n",
       "    .dataframe thead th {\n",
       "        text-align: left;\n",
       "    }\n",
       "\n",
       "    .dataframe tbody tr th {\n",
       "        vertical-align: top;\n",
       "    }\n",
       "</style>\n",
       "<table border=\"1\" class=\"dataframe\">\n",
       "  <thead>\n",
       "    <tr style=\"text-align: right;\">\n",
       "      <th></th>\n",
       "      <th>mean_fit_time</th>\n",
       "      <th>mean_score_time</th>\n",
       "      <th>mean_test_score</th>\n",
       "      <th>mean_train_score</th>\n",
       "      <th>param_n_estimators</th>\n",
       "      <th>params</th>\n",
       "      <th>rank_test_score</th>\n",
       "      <th>split0_test_score</th>\n",
       "      <th>split0_train_score</th>\n",
       "      <th>split1_test_score</th>\n",
       "      <th>split1_train_score</th>\n",
       "      <th>split2_test_score</th>\n",
       "      <th>split2_train_score</th>\n",
       "      <th>std_fit_time</th>\n",
       "      <th>std_score_time</th>\n",
       "      <th>std_test_score</th>\n",
       "      <th>std_train_score</th>\n",
       "    </tr>\n",
       "  </thead>\n",
       "  <tbody>\n",
       "    <tr>\n",
       "      <th>13</th>\n",
       "      <td>2.648423</td>\n",
       "      <td>0.209853</td>\n",
       "      <td>0.767357</td>\n",
       "      <td>1.000000</td>\n",
       "      <td>140</td>\n",
       "      <td>{'n_estimators': 140}</td>\n",
       "      <td>1</td>\n",
       "      <td>0.771997</td>\n",
       "      <td>1.000000</td>\n",
       "      <td>0.763395</td>\n",
       "      <td>1.000000</td>\n",
       "      <td>0.766674</td>\n",
       "      <td>1.000000</td>\n",
       "      <td>0.083711</td>\n",
       "      <td>0.000721</td>\n",
       "      <td>0.003546</td>\n",
       "      <td>0.000000</td>\n",
       "    </tr>\n",
       "    <tr>\n",
       "      <th>12</th>\n",
       "      <td>2.458763</td>\n",
       "      <td>0.142227</td>\n",
       "      <td>0.766071</td>\n",
       "      <td>1.000000</td>\n",
       "      <td>130</td>\n",
       "      <td>{'n_estimators': 130}</td>\n",
       "      <td>2</td>\n",
       "      <td>0.770071</td>\n",
       "      <td>1.000000</td>\n",
       "      <td>0.762109</td>\n",
       "      <td>1.000000</td>\n",
       "      <td>0.766030</td>\n",
       "      <td>1.000000</td>\n",
       "      <td>0.111131</td>\n",
       "      <td>0.049706</td>\n",
       "      <td>0.003251</td>\n",
       "      <td>0.000000</td>\n",
       "    </tr>\n",
       "    <tr>\n",
       "      <th>11</th>\n",
       "      <td>2.219804</td>\n",
       "      <td>0.176938</td>\n",
       "      <td>0.765714</td>\n",
       "      <td>1.000000</td>\n",
       "      <td>120</td>\n",
       "      <td>{'n_estimators': 120}</td>\n",
       "      <td>3</td>\n",
       "      <td>0.769857</td>\n",
       "      <td>1.000000</td>\n",
       "      <td>0.762323</td>\n",
       "      <td>1.000000</td>\n",
       "      <td>0.764958</td>\n",
       "      <td>1.000000</td>\n",
       "      <td>0.005774</td>\n",
       "      <td>0.049425</td>\n",
       "      <td>0.003122</td>\n",
       "      <td>0.000000</td>\n",
       "    </tr>\n",
       "    <tr>\n",
       "      <th>10</th>\n",
       "      <td>2.157736</td>\n",
       "      <td>0.109521</td>\n",
       "      <td>0.762857</td>\n",
       "      <td>1.000000</td>\n",
       "      <td>110</td>\n",
       "      <td>{'n_estimators': 110}</td>\n",
       "      <td>4</td>\n",
       "      <td>0.766645</td>\n",
       "      <td>1.000000</td>\n",
       "      <td>0.758251</td>\n",
       "      <td>1.000000</td>\n",
       "      <td>0.763671</td>\n",
       "      <td>1.000000</td>\n",
       "      <td>0.085229</td>\n",
       "      <td>0.003542</td>\n",
       "      <td>0.003476</td>\n",
       "      <td>0.000000</td>\n",
       "    </tr>\n",
       "    <tr>\n",
       "      <th>9</th>\n",
       "      <td>1.875051</td>\n",
       "      <td>0.106906</td>\n",
       "      <td>0.762357</td>\n",
       "      <td>1.000000</td>\n",
       "      <td>100</td>\n",
       "      <td>{'n_estimators': 100}</td>\n",
       "      <td>5</td>\n",
       "      <td>0.763862</td>\n",
       "      <td>1.000000</td>\n",
       "      <td>0.761037</td>\n",
       "      <td>1.000000</td>\n",
       "      <td>0.762170</td>\n",
       "      <td>1.000000</td>\n",
       "      <td>0.023721</td>\n",
       "      <td>0.001026</td>\n",
       "      <td>0.001161</td>\n",
       "      <td>0.000000</td>\n",
       "    </tr>\n",
       "    <tr>\n",
       "      <th>7</th>\n",
       "      <td>1.594735</td>\n",
       "      <td>0.110263</td>\n",
       "      <td>0.762000</td>\n",
       "      <td>1.000000</td>\n",
       "      <td>80</td>\n",
       "      <td>{'n_estimators': 80}</td>\n",
       "      <td>6</td>\n",
       "      <td>0.763648</td>\n",
       "      <td>1.000000</td>\n",
       "      <td>0.757823</td>\n",
       "      <td>1.000000</td>\n",
       "      <td>0.764529</td>\n",
       "      <td>1.000000</td>\n",
       "      <td>0.036763</td>\n",
       "      <td>0.003389</td>\n",
       "      <td>0.002975</td>\n",
       "      <td>0.000000</td>\n",
       "    </tr>\n",
       "    <tr>\n",
       "      <th>8</th>\n",
       "      <td>1.736514</td>\n",
       "      <td>0.106757</td>\n",
       "      <td>0.761929</td>\n",
       "      <td>1.000000</td>\n",
       "      <td>90</td>\n",
       "      <td>{'n_estimators': 90}</td>\n",
       "      <td>7</td>\n",
       "      <td>0.764504</td>\n",
       "      <td>1.000000</td>\n",
       "      <td>0.759323</td>\n",
       "      <td>1.000000</td>\n",
       "      <td>0.761956</td>\n",
       "      <td>1.000000</td>\n",
       "      <td>0.036070</td>\n",
       "      <td>0.000417</td>\n",
       "      <td>0.002116</td>\n",
       "      <td>0.000000</td>\n",
       "    </tr>\n",
       "    <tr>\n",
       "      <th>6</th>\n",
       "      <td>1.332257</td>\n",
       "      <td>0.107890</td>\n",
       "      <td>0.757714</td>\n",
       "      <td>1.000000</td>\n",
       "      <td>70</td>\n",
       "      <td>{'n_estimators': 70}</td>\n",
       "      <td>8</td>\n",
       "      <td>0.761079</td>\n",
       "      <td>1.000000</td>\n",
       "      <td>0.755465</td>\n",
       "      <td>1.000000</td>\n",
       "      <td>0.756594</td>\n",
       "      <td>1.000000</td>\n",
       "      <td>0.007120</td>\n",
       "      <td>0.000701</td>\n",
       "      <td>0.002425</td>\n",
       "      <td>0.000000</td>\n",
       "    </tr>\n",
       "    <tr>\n",
       "      <th>5</th>\n",
       "      <td>1.168019</td>\n",
       "      <td>0.109067</td>\n",
       "      <td>0.754786</td>\n",
       "      <td>0.999964</td>\n",
       "      <td>60</td>\n",
       "      <td>{'n_estimators': 60}</td>\n",
       "      <td>9</td>\n",
       "      <td>0.759580</td>\n",
       "      <td>0.999893</td>\n",
       "      <td>0.751822</td>\n",
       "      <td>1.000000</td>\n",
       "      <td>0.752949</td>\n",
       "      <td>1.000000</td>\n",
       "      <td>0.047879</td>\n",
       "      <td>0.002861</td>\n",
       "      <td>0.003424</td>\n",
       "      <td>0.000051</td>\n",
       "    </tr>\n",
       "    <tr>\n",
       "      <th>4</th>\n",
       "      <td>1.021062</td>\n",
       "      <td>0.109251</td>\n",
       "      <td>0.751500</td>\n",
       "      <td>0.999964</td>\n",
       "      <td>50</td>\n",
       "      <td>{'n_estimators': 50}</td>\n",
       "      <td>10</td>\n",
       "      <td>0.757654</td>\n",
       "      <td>0.999893</td>\n",
       "      <td>0.747321</td>\n",
       "      <td>1.000000</td>\n",
       "      <td>0.749517</td>\n",
       "      <td>1.000000</td>\n",
       "      <td>0.037588</td>\n",
       "      <td>0.002590</td>\n",
       "      <td>0.004446</td>\n",
       "      <td>0.000051</td>\n",
       "    </tr>\n",
       "    <tr>\n",
       "      <th>3</th>\n",
       "      <td>0.837913</td>\n",
       "      <td>0.110759</td>\n",
       "      <td>0.743714</td>\n",
       "      <td>0.999929</td>\n",
       "      <td>40</td>\n",
       "      <td>{'n_estimators': 40}</td>\n",
       "      <td>11</td>\n",
       "      <td>0.751873</td>\n",
       "      <td>0.999786</td>\n",
       "      <td>0.739606</td>\n",
       "      <td>1.000000</td>\n",
       "      <td>0.739653</td>\n",
       "      <td>1.000000</td>\n",
       "      <td>0.059817</td>\n",
       "      <td>0.004609</td>\n",
       "      <td>0.005773</td>\n",
       "      <td>0.000101</td>\n",
       "    </tr>\n",
       "    <tr>\n",
       "      <th>2</th>\n",
       "      <td>0.677565</td>\n",
       "      <td>0.110915</td>\n",
       "      <td>0.733643</td>\n",
       "      <td>0.999821</td>\n",
       "      <td>30</td>\n",
       "      <td>{'n_estimators': 30}</td>\n",
       "      <td>12</td>\n",
       "      <td>0.735603</td>\n",
       "      <td>0.999786</td>\n",
       "      <td>0.732748</td>\n",
       "      <td>0.999679</td>\n",
       "      <td>0.732576</td>\n",
       "      <td>1.000000</td>\n",
       "      <td>0.012674</td>\n",
       "      <td>0.003609</td>\n",
       "      <td>0.001389</td>\n",
       "      <td>0.000134</td>\n",
       "    </tr>\n",
       "    <tr>\n",
       "      <th>1</th>\n",
       "      <td>0.462297</td>\n",
       "      <td>0.108429</td>\n",
       "      <td>0.709357</td>\n",
       "      <td>0.999750</td>\n",
       "      <td>20</td>\n",
       "      <td>{'n_estimators': 20}</td>\n",
       "      <td>13</td>\n",
       "      <td>0.713338</td>\n",
       "      <td>0.999678</td>\n",
       "      <td>0.704029</td>\n",
       "      <td>0.999679</td>\n",
       "      <td>0.710701</td>\n",
       "      <td>0.999893</td>\n",
       "      <td>0.006409</td>\n",
       "      <td>0.000614</td>\n",
       "      <td>0.003918</td>\n",
       "      <td>0.000101</td>\n",
       "    </tr>\n",
       "    <tr>\n",
       "      <th>0</th>\n",
       "      <td>0.326736</td>\n",
       "      <td>0.110621</td>\n",
       "      <td>0.662571</td>\n",
       "      <td>0.995250</td>\n",
       "      <td>10</td>\n",
       "      <td>{'n_estimators': 10}</td>\n",
       "      <td>14</td>\n",
       "      <td>0.661314</td>\n",
       "      <td>0.994962</td>\n",
       "      <td>0.665452</td>\n",
       "      <td>0.995286</td>\n",
       "      <td>0.660948</td>\n",
       "      <td>0.995502</td>\n",
       "      <td>0.034297</td>\n",
       "      <td>0.003622</td>\n",
       "      <td>0.002042</td>\n",
       "      <td>0.000222</td>\n",
       "    </tr>\n",
       "  </tbody>\n",
       "</table>\n",
       "</div>"
      ],
      "text/plain": [
       "    mean_fit_time  mean_score_time  mean_test_score  mean_train_score  \\\n",
       "13       2.648423         0.209853         0.767357          1.000000   \n",
       "12       2.458763         0.142227         0.766071          1.000000   \n",
       "11       2.219804         0.176938         0.765714          1.000000   \n",
       "10       2.157736         0.109521         0.762857          1.000000   \n",
       "9        1.875051         0.106906         0.762357          1.000000   \n",
       "7        1.594735         0.110263         0.762000          1.000000   \n",
       "8        1.736514         0.106757         0.761929          1.000000   \n",
       "6        1.332257         0.107890         0.757714          1.000000   \n",
       "5        1.168019         0.109067         0.754786          0.999964   \n",
       "4        1.021062         0.109251         0.751500          0.999964   \n",
       "3        0.837913         0.110759         0.743714          0.999929   \n",
       "2        0.677565         0.110915         0.733643          0.999821   \n",
       "1        0.462297         0.108429         0.709357          0.999750   \n",
       "0        0.326736         0.110621         0.662571          0.995250   \n",
       "\n",
       "   param_n_estimators                 params  rank_test_score  \\\n",
       "13                140  {'n_estimators': 140}                1   \n",
       "12                130  {'n_estimators': 130}                2   \n",
       "11                120  {'n_estimators': 120}                3   \n",
       "10                110  {'n_estimators': 110}                4   \n",
       "9                 100  {'n_estimators': 100}                5   \n",
       "7                  80   {'n_estimators': 80}                6   \n",
       "8                  90   {'n_estimators': 90}                7   \n",
       "6                  70   {'n_estimators': 70}                8   \n",
       "5                  60   {'n_estimators': 60}                9   \n",
       "4                  50   {'n_estimators': 50}               10   \n",
       "3                  40   {'n_estimators': 40}               11   \n",
       "2                  30   {'n_estimators': 30}               12   \n",
       "1                  20   {'n_estimators': 20}               13   \n",
       "0                  10   {'n_estimators': 10}               14   \n",
       "\n",
       "    split0_test_score  split0_train_score  split1_test_score  \\\n",
       "13           0.771997            1.000000           0.763395   \n",
       "12           0.770071            1.000000           0.762109   \n",
       "11           0.769857            1.000000           0.762323   \n",
       "10           0.766645            1.000000           0.758251   \n",
       "9            0.763862            1.000000           0.761037   \n",
       "7            0.763648            1.000000           0.757823   \n",
       "8            0.764504            1.000000           0.759323   \n",
       "6            0.761079            1.000000           0.755465   \n",
       "5            0.759580            0.999893           0.751822   \n",
       "4            0.757654            0.999893           0.747321   \n",
       "3            0.751873            0.999786           0.739606   \n",
       "2            0.735603            0.999786           0.732748   \n",
       "1            0.713338            0.999678           0.704029   \n",
       "0            0.661314            0.994962           0.665452   \n",
       "\n",
       "    split1_train_score  split2_test_score  split2_train_score  std_fit_time  \\\n",
       "13            1.000000           0.766674            1.000000      0.083711   \n",
       "12            1.000000           0.766030            1.000000      0.111131   \n",
       "11            1.000000           0.764958            1.000000      0.005774   \n",
       "10            1.000000           0.763671            1.000000      0.085229   \n",
       "9             1.000000           0.762170            1.000000      0.023721   \n",
       "7             1.000000           0.764529            1.000000      0.036763   \n",
       "8             1.000000           0.761956            1.000000      0.036070   \n",
       "6             1.000000           0.756594            1.000000      0.007120   \n",
       "5             1.000000           0.752949            1.000000      0.047879   \n",
       "4             1.000000           0.749517            1.000000      0.037588   \n",
       "3             1.000000           0.739653            1.000000      0.059817   \n",
       "2             0.999679           0.732576            1.000000      0.012674   \n",
       "1             0.999679           0.710701            0.999893      0.006409   \n",
       "0             0.995286           0.660948            0.995502      0.034297   \n",
       "\n",
       "    std_score_time  std_test_score  std_train_score  \n",
       "13        0.000721        0.003546         0.000000  \n",
       "12        0.049706        0.003251         0.000000  \n",
       "11        0.049425        0.003122         0.000000  \n",
       "10        0.003542        0.003476         0.000000  \n",
       "9         0.001026        0.001161         0.000000  \n",
       "7         0.003389        0.002975         0.000000  \n",
       "8         0.000417        0.002116         0.000000  \n",
       "6         0.000701        0.002425         0.000000  \n",
       "5         0.002861        0.003424         0.000051  \n",
       "4         0.002590        0.004446         0.000051  \n",
       "3         0.004609        0.005773         0.000101  \n",
       "2         0.003609        0.001389         0.000134  \n",
       "1         0.000614        0.003918         0.000101  \n",
       "0         0.003622        0.002042         0.000222  "
      ]
     },
     "execution_count": 17,
     "metadata": {},
     "output_type": "execute_result"
    }
   ],
   "source": [
    "results_rfc_gs.sort_values('mean_test_score', ascending = False)"
   ]
  },
  {
   "cell_type": "code",
   "execution_count": 18,
   "metadata": {},
   "outputs": [
    {
     "data": {
      "text/plain": [
       "<matplotlib.axes._subplots.AxesSubplot at 0x115cf3f61d0>"
      ]
     },
     "execution_count": 18,
     "metadata": {},
     "output_type": "execute_result"
    },
    {
     "data": {
      "image/png": "[encoded data removed]",
      "text/plain": [
       "<matplotlib.figure.Figure at 0x115cece0e80>"
      ]
     },
     "metadata": {},
     "output_type": "display_data"
    }
   ],
   "source": [
    "results_rfc_gs.plot('param_n_estimators','mean_test_score')"
   ]
  },
  {
   "cell_type": "code",
   "execution_count": 41,
   "metadata": {},
   "outputs": [
    {
     "data": {
      "text/html": [
       "<div>\n",
       "<style>\n",
       "    .dataframe thead tr:only-child th {\n",
       "        text-align: right;\n",
       "    }\n",
       "\n",
       "    .dataframe thead th {\n",
       "        text-align: left;\n",
       "    }\n",
       "\n",
       "    .dataframe tbody tr th {\n",
       "        vertical-align: top;\n",
       "    }\n",
       "</style>\n",
       "<table border=\"1\" class=\"dataframe\">\n",
       "  <thead>\n",
       "    <tr style=\"text-align: right;\">\n",
       "      <th></th>\n",
       "      <th>mean_fit_time</th>\n",
       "      <th>mean_score_time</th>\n",
       "      <th>mean_test_score</th>\n",
       "      <th>mean_train_score</th>\n",
       "      <th>param_max_features</th>\n",
       "      <th>params</th>\n",
       "      <th>rank_test_score</th>\n",
       "      <th>split0_test_score</th>\n",
       "      <th>split0_train_score</th>\n",
       "      <th>split1_test_score</th>\n",
       "      <th>split1_train_score</th>\n",
       "      <th>split2_test_score</th>\n",
       "      <th>split2_train_score</th>\n",
       "      <th>std_fit_time</th>\n",
       "      <th>std_score_time</th>\n",
       "      <th>std_test_score</th>\n",
       "      <th>std_train_score</th>\n",
       "    </tr>\n",
       "  </thead>\n",
       "  <tbody>\n",
       "    <tr>\n",
       "      <th>0</th>\n",
       "      <td>5.120579</td>\n",
       "      <td>4.041717</td>\n",
       "      <td>0.761929</td>\n",
       "      <td>1.0</td>\n",
       "      <td>sqrt</td>\n",
       "      <td>{'max_features': 'sqrt'}</td>\n",
       "      <td>1</td>\n",
       "      <td>0.763648</td>\n",
       "      <td>1.0</td>\n",
       "      <td>0.757823</td>\n",
       "      <td>1.0</td>\n",
       "      <td>0.764315</td>\n",
       "      <td>1.0</td>\n",
       "      <td>1.540226</td>\n",
       "      <td>1.076913</td>\n",
       "      <td>0.002916</td>\n",
       "      <td>0.0</td>\n",
       "    </tr>\n",
       "    <tr>\n",
       "      <th>1</th>\n",
       "      <td>21.396071</td>\n",
       "      <td>4.868914</td>\n",
       "      <td>0.760286</td>\n",
       "      <td>1.0</td>\n",
       "      <td>0.1</td>\n",
       "      <td>{'max_features': 0.1}</td>\n",
       "      <td>2</td>\n",
       "      <td>0.763648</td>\n",
       "      <td>1.0</td>\n",
       "      <td>0.755251</td>\n",
       "      <td>1.0</td>\n",
       "      <td>0.761956</td>\n",
       "      <td>1.0</td>\n",
       "      <td>0.761026</td>\n",
       "      <td>0.220410</td>\n",
       "      <td>0.003626</td>\n",
       "      <td>0.0</td>\n",
       "    </tr>\n",
       "    <tr>\n",
       "      <th>2</th>\n",
       "      <td>71.535193</td>\n",
       "      <td>6.152427</td>\n",
       "      <td>0.759786</td>\n",
       "      <td>1.0</td>\n",
       "      <td>0.3</td>\n",
       "      <td>{'max_features': 0.3}</td>\n",
       "      <td>3</td>\n",
       "      <td>0.762149</td>\n",
       "      <td>1.0</td>\n",
       "      <td>0.754608</td>\n",
       "      <td>1.0</td>\n",
       "      <td>0.762599</td>\n",
       "      <td>1.0</td>\n",
       "      <td>1.685276</td>\n",
       "      <td>0.510325</td>\n",
       "      <td>0.003666</td>\n",
       "      <td>0.0</td>\n",
       "    </tr>\n",
       "    <tr>\n",
       "      <th>3</th>\n",
       "      <td>123.848430</td>\n",
       "      <td>6.160301</td>\n",
       "      <td>0.758429</td>\n",
       "      <td>1.0</td>\n",
       "      <td>0.5</td>\n",
       "      <td>{'max_features': 0.5}</td>\n",
       "      <td>4</td>\n",
       "      <td>0.766003</td>\n",
       "      <td>1.0</td>\n",
       "      <td>0.751393</td>\n",
       "      <td>1.0</td>\n",
       "      <td>0.757881</td>\n",
       "      <td>1.0</td>\n",
       "      <td>0.959323</td>\n",
       "      <td>0.197468</td>\n",
       "      <td>0.005978</td>\n",
       "      <td>0.0</td>\n",
       "    </tr>\n",
       "    <tr>\n",
       "      <th>4</th>\n",
       "      <td>157.419768</td>\n",
       "      <td>3.525996</td>\n",
       "      <td>0.752143</td>\n",
       "      <td>1.0</td>\n",
       "      <td>0.7</td>\n",
       "      <td>{'max_features': 0.7}</td>\n",
       "      <td>5</td>\n",
       "      <td>0.757654</td>\n",
       "      <td>1.0</td>\n",
       "      <td>0.747535</td>\n",
       "      <td>1.0</td>\n",
       "      <td>0.751233</td>\n",
       "      <td>1.0</td>\n",
       "      <td>10.823597</td>\n",
       "      <td>0.522408</td>\n",
       "      <td>0.004181</td>\n",
       "      <td>0.0</td>\n",
       "    </tr>\n",
       "    <tr>\n",
       "      <th>5</th>\n",
       "      <td>150.765659</td>\n",
       "      <td>0.468227</td>\n",
       "      <td>0.744857</td>\n",
       "      <td>1.0</td>\n",
       "      <td>0.99</td>\n",
       "      <td>{'max_features': 0.99}</td>\n",
       "      <td>6</td>\n",
       "      <td>0.752944</td>\n",
       "      <td>1.0</td>\n",
       "      <td>0.737034</td>\n",
       "      <td>1.0</td>\n",
       "      <td>0.744585</td>\n",
       "      <td>1.0</td>\n",
       "      <td>25.775075</td>\n",
       "      <td>0.265694</td>\n",
       "      <td>0.006499</td>\n",
       "      <td>0.0</td>\n",
       "    </tr>\n",
       "  </tbody>\n",
       "</table>\n",
       "</div>"
      ],
      "text/plain": [
       "   mean_fit_time  mean_score_time  mean_test_score  mean_train_score  \\\n",
       "0       5.120579         4.041717         0.761929               1.0   \n",
       "1      21.396071         4.868914         0.760286               1.0   \n",
       "2      71.535193         6.152427         0.759786               1.0   \n",
       "3     123.848430         6.160301         0.758429               1.0   \n",
       "4     157.419768         3.525996         0.752143               1.0   \n",
       "5     150.765659         0.468227         0.744857               1.0   \n",
       "\n",
       "  param_max_features                    params  rank_test_score  \\\n",
       "0               sqrt  {'max_features': 'sqrt'}                1   \n",
       "1                0.1     {'max_features': 0.1}                2   \n",
       "2                0.3     {'max_features': 0.3}                3   \n",
       "3                0.5     {'max_features': 0.5}                4   \n",
       "4                0.7     {'max_features': 0.7}                5   \n",
       "5               0.99    {'max_features': 0.99}                6   \n",
       "\n",
       "   split0_test_score  split0_train_score  split1_test_score  \\\n",
       "0           0.763648                 1.0           0.757823   \n",
       "1           0.763648                 1.0           0.755251   \n",
       "2           0.762149                 1.0           0.754608   \n",
       "3           0.766003                 1.0           0.751393   \n",
       "4           0.757654                 1.0           0.747535   \n",
       "5           0.752944                 1.0           0.737034   \n",
       "\n",
       "   split1_train_score  split2_test_score  split2_train_score  std_fit_time  \\\n",
       "0                 1.0           0.764315                 1.0      1.540226   \n",
       "1                 1.0           0.761956                 1.0      0.761026   \n",
       "2                 1.0           0.762599                 1.0      1.685276   \n",
       "3                 1.0           0.757881                 1.0      0.959323   \n",
       "4                 1.0           0.751233                 1.0     10.823597   \n",
       "5                 1.0           0.744585                 1.0     25.775075   \n",
       "\n",
       "   std_score_time  std_test_score  std_train_score  \n",
       "0        1.076913        0.002916              0.0  \n",
       "1        0.220410        0.003626              0.0  \n",
       "2        0.510325        0.003666              0.0  \n",
       "3        0.197468        0.005978              0.0  \n",
       "4        0.522408        0.004181              0.0  \n",
       "5        0.265694        0.006499              0.0  "
      ]
     },
     "execution_count": 41,
     "metadata": {},
     "output_type": "execute_result"
    }
   ],
   "source": [
    "parameters = {'max_features':['sqrt',.1,.3,.5,.7,.99]}\n",
    "\n",
    "rfc = RandomForestClassifier(n_estimators= 80, random_state=1, n_jobs=-1)\n",
    "rfc_gs = GridSearchCV(rfc, parameters, n_jobs=-1)\n",
    "rfc_gs.fit(X_train, y_train)\n",
    "\n",
    "results_rfc_gs = pd.DataFrame(rfc_gs.cv_results_)\n",
    "results_rfc_gs.sort_values('mean_test_score', ascending = False)"
   ]
  },
  {
   "cell_type": "code",
   "execution_count": 20,
   "metadata": {},
   "outputs": [
    {
     "name": "stdout",
     "output_type": "stream",
     "text": [
      "Random forest accuracy:  0.772666666667\n"
     ]
    }
   ],
   "source": [
    "rfc = RandomForestClassifier(n_estimators=60, max_features=.3, random_state=1)\n",
    "rfc.fit(X_train, y_train)\n",
    "y_pred_rfc = rfc.predict(X_test)\n",
    "acc_rfc = accuracy_score(y_test, y_pred_rfc)\n",
    "print ('Random forest accuracy: ',acc_rfc)"
   ]
  },
  {
   "cell_type": "code",
   "execution_count": 21,
   "metadata": {},
   "outputs": [
    {
     "data": {
      "text/plain": [
       "Text(0.5,1.05,'Pixel importances\\n')"
      ]
     },
     "execution_count": 21,
     "metadata": {},
     "output_type": "execute_result"
    },
    {
     "data": {
      "image/png": "[encoded data removed]",
      "text/plain": [
       "<matplotlib.figure.Figure at 0x115d556dc50>"
      ]
     },
     "metadata": {},
     "output_type": "display_data"
    }
   ],
   "source": [
    "importances = rfc.feature_importances_\n",
    "importances = importances.reshape((28,28))\n",
    "fig = plt.matshow(importances, cmap=plt.cm.hot)\n",
    "plt.title('Pixel importances\\n')"
   ]
  },
  {
   "cell_type": "markdown",
   "metadata": {},
   "source": [
    "# Support Vector Machine \n",
    "We can compared a linear support-vector model and a non-linear support-vector model\n",
    "#### LinearSVC"
   ]
  },
  {
   "cell_type": "code",
   "execution_count": 22,
   "metadata": {},
   "outputs": [
    {
     "name": "stdout",
     "output_type": "stream",
     "text": [
      "LinearSVC(C=1.0, class_weight=None, dual=True, fit_intercept=True,\n",
      "     intercept_scaling=1, loss='squared_hinge', max_iter=1000,\n",
      "     multi_class='ovr', penalty='l2', random_state=1, tol=0.0001,\n",
      "     verbose=0)\n",
      "Linear SVC accuracy:  0.662333333333\n"
     ]
    }
   ],
   "source": [
    "lsvc = LinearSVC(random_state=1)\n",
    "lsvc.fit(X_train, y_train)\n",
    "print(lsvc)\n",
    "y_pred_lsvc = lsvc.predict(X_test)\n",
    "acc_lsvc = accuracy_score(y_test, y_pred_lsvc)\n",
    "print('Linear SVC accuracy: ',acc_lsvc)"
   ]
  },
  {
   "cell_type": "markdown",
   "metadata": {},
   "source": [
    "#### SGDClassifier"
   ]
  },
  {
   "cell_type": "code",
   "execution_count": 23,
   "metadata": {},
   "outputs": [
    {
     "name": "stdout",
     "output_type": "stream",
     "text": [
      "SVC(C=1.0, cache_size=200, class_weight=None, coef0=0.0,\n",
      "  decision_function_shape='ovr', degree=3, gamma='auto', kernel='rbf',\n",
      "  max_iter=-1, probability=False, random_state=1, shrinking=True,\n",
      "  tol=0.001, verbose=False)\n",
      "Gaussian Radial Basis Function SVC Accuracy:  0.75\n"
     ]
    }
   ],
   "source": [
    "svc = SVC(kernel='rbf', random_state=1) \n",
    "svc.fit(X_train, y_train)\n",
    "print(svc)\n",
    "y_pred_svc = svc.predict(X_test)\n",
    "acc_svc = accuracy_score(y_test, y_pred_svc)\n",
    "print ('Gaussian Radial Basis Function SVC Accuracy: ',acc_svc)"
   ]
  },
  {
   "cell_type": "markdown",
   "metadata": {},
   "source": [
    "# Multi-Layer Perceptron"
   ]
  },
  {
   "cell_type": "code",
   "execution_count": 24,
   "metadata": {},
   "outputs": [
    {
     "name": "stdout",
     "output_type": "stream",
     "text": [
      "MLPClassifier(activation='relu', alpha=0.0001, batch_size='auto', beta_1=0.9,\n",
      "       beta_2=0.999, early_stopping=False, epsilon=1e-08,\n",
      "       hidden_layer_sizes=(100,), learning_rate='constant',\n",
      "       learning_rate_init=0.001, max_iter=200, momentum=0.9,\n",
      "       nesterovs_momentum=True, power_t=0.5, random_state=1, shuffle=True,\n",
      "       solver='adam', tol=0.0001, validation_fraction=0.1, verbose=False,\n",
      "       warm_start=False)\n",
      "mlp accuracy:  0.780333333333\n"
     ]
    }
   ],
   "source": [
    "mlp = MLPClassifier(random_state=1)\n",
    "mlp.fit(X_train, y_train)\n",
    "print(mlp)\n",
    "y_pred_mlp = mlp.predict(X_test)\n",
    "acc_mlp = accuracy_score(y_test, y_pred_mlp)\n",
    "print ('mlp accuracy: ',acc_mlp)"
   ]
  },
  {
   "cell_type": "markdown",
   "metadata": {},
   "source": [
    "For tuning the hyper-parameters for a Multi-Layer Perceptron, we can try different number of layers. The default activiation function (ReLu) is the most effective choice from sklearn and the the defualt optimization algorithm (adam) is the best choice due to the size of our dataset. "
   ]
  },
  {
   "cell_type": "code",
   "execution_count": 25,
   "metadata": {},
   "outputs": [
    {
     "data": {
      "text/html": [
       "<div>\n",
       "<style>\n",
       "    .dataframe thead tr:only-child th {\n",
       "        text-align: right;\n",
       "    }\n",
       "\n",
       "    .dataframe thead th {\n",
       "        text-align: left;\n",
       "    }\n",
       "\n",
       "    .dataframe tbody tr th {\n",
       "        vertical-align: top;\n",
       "    }\n",
       "</style>\n",
       "<table border=\"1\" class=\"dataframe\">\n",
       "  <thead>\n",
       "    <tr style=\"text-align: right;\">\n",
       "      <th></th>\n",
       "      <th>mean_fit_time</th>\n",
       "      <th>mean_score_time</th>\n",
       "      <th>mean_test_score</th>\n",
       "      <th>mean_train_score</th>\n",
       "      <th>param_hidden_layer_sizes</th>\n",
       "      <th>params</th>\n",
       "      <th>rank_test_score</th>\n",
       "      <th>split0_test_score</th>\n",
       "      <th>split0_train_score</th>\n",
       "      <th>split1_test_score</th>\n",
       "      <th>split1_train_score</th>\n",
       "      <th>split2_test_score</th>\n",
       "      <th>split2_train_score</th>\n",
       "      <th>std_fit_time</th>\n",
       "      <th>std_score_time</th>\n",
       "      <th>std_test_score</th>\n",
       "      <th>std_train_score</th>\n",
       "    </tr>\n",
       "  </thead>\n",
       "  <tbody>\n",
       "    <tr>\n",
       "      <th>1</th>\n",
       "      <td>571.174946</td>\n",
       "      <td>0.518413</td>\n",
       "      <td>0.801143</td>\n",
       "      <td>1.000000</td>\n",
       "      <td>(784, 784)</td>\n",
       "      <td>{'hidden_layer_sizes': (784, 784)}</td>\n",
       "      <td>1</td>\n",
       "      <td>0.805609</td>\n",
       "      <td>1.00000</td>\n",
       "      <td>0.794042</td>\n",
       "      <td>1.000000</td>\n",
       "      <td>0.803774</td>\n",
       "      <td>1.000000</td>\n",
       "      <td>16.364282</td>\n",
       "      <td>0.038592</td>\n",
       "      <td>0.005076</td>\n",
       "      <td>0.000000</td>\n",
       "    </tr>\n",
       "    <tr>\n",
       "      <th>0</th>\n",
       "      <td>660.484900</td>\n",
       "      <td>0.204058</td>\n",
       "      <td>0.797714</td>\n",
       "      <td>1.000000</td>\n",
       "      <td>(784,)</td>\n",
       "      <td>{'hidden_layer_sizes': (784,)}</td>\n",
       "      <td>2</td>\n",
       "      <td>0.803254</td>\n",
       "      <td>1.00000</td>\n",
       "      <td>0.791899</td>\n",
       "      <td>1.000000</td>\n",
       "      <td>0.797984</td>\n",
       "      <td>1.000000</td>\n",
       "      <td>3.740682</td>\n",
       "      <td>0.023213</td>\n",
       "      <td>0.004641</td>\n",
       "      <td>0.000000</td>\n",
       "    </tr>\n",
       "    <tr>\n",
       "      <th>2</th>\n",
       "      <td>419.653466</td>\n",
       "      <td>0.720471</td>\n",
       "      <td>0.783571</td>\n",
       "      <td>0.993786</td>\n",
       "      <td>(784, 784, 784)</td>\n",
       "      <td>{'hidden_layer_sizes': (784, 784, 784)}</td>\n",
       "      <td>3</td>\n",
       "      <td>0.787626</td>\n",
       "      <td>0.99657</td>\n",
       "      <td>0.775825</td>\n",
       "      <td>0.991751</td>\n",
       "      <td>0.787261</td>\n",
       "      <td>0.993038</td>\n",
       "      <td>116.113026</td>\n",
       "      <td>0.254860</td>\n",
       "      <td>0.005479</td>\n",
       "      <td>0.002037</td>\n",
       "    </tr>\n",
       "  </tbody>\n",
       "</table>\n",
       "</div>"
      ],
      "text/plain": [
       "   mean_fit_time  mean_score_time  mean_test_score  mean_train_score  \\\n",
       "1     571.174946         0.518413         0.801143          1.000000   \n",
       "0     660.484900         0.204058         0.797714          1.000000   \n",
       "2     419.653466         0.720471         0.783571          0.993786   \n",
       "\n",
       "  param_hidden_layer_sizes                                   params  \\\n",
       "1               (784, 784)       {'hidden_layer_sizes': (784, 784)}   \n",
       "0                   (784,)           {'hidden_layer_sizes': (784,)}   \n",
       "2          (784, 784, 784)  {'hidden_layer_sizes': (784, 784, 784)}   \n",
       "\n",
       "   rank_test_score  split0_test_score  split0_train_score  split1_test_score  \\\n",
       "1                1           0.805609             1.00000           0.794042   \n",
       "0                2           0.803254             1.00000           0.791899   \n",
       "2                3           0.787626             0.99657           0.775825   \n",
       "\n",
       "   split1_train_score  split2_test_score  split2_train_score  std_fit_time  \\\n",
       "1            1.000000           0.803774            1.000000     16.364282   \n",
       "0            1.000000           0.797984            1.000000      3.740682   \n",
       "2            0.991751           0.787261            0.993038    116.113026   \n",
       "\n",
       "   std_score_time  std_test_score  std_train_score  \n",
       "1        0.038592        0.005076         0.000000  \n",
       "0        0.023213        0.004641         0.000000  \n",
       "2        0.254860        0.005479         0.002037  "
      ]
     },
     "execution_count": 25,
     "metadata": {},
     "output_type": "execute_result"
    }
   ],
   "source": [
    "parameters = {'hidden_layer_sizes' : [(784,), (784,784),(784,784,784)] }\n",
    "\n",
    "mlp = MLPClassifier(random_state=1)\n",
    "mlp = GridSearchCV(mlp, parameters, n_jobs=-1)\n",
    "mlp.fit(X_train, y_train)\n",
    "\n",
    "results=pd.DataFrame(mlp.cv_results_)\n",
    "results.sort_values('mean_test_score', ascending = False)"
   ]
  },
  {
   "cell_type": "markdown",
   "metadata": {},
   "source": [
    "## Convolution Neural Network"
   ]
  },
  {
   "cell_type": "code",
   "execution_count": 26,
   "metadata": {},
   "outputs": [
    {
     "name": "stderr",
     "output_type": "stream",
     "text": [
      "Using TensorFlow backend.\n"
     ]
    }
   ],
   "source": [
    "import keras\n",
    "from keras import backend as K\n",
    "from keras.utils import np_utils\n",
    "from keras.models import Sequential\n",
    "from keras.layers import Dense, Dropout, Flatten\n",
    "from keras.layers import Conv2D, MaxPooling2D"
   ]
  },
  {
   "cell_type": "code",
   "execution_count": 27,
   "metadata": {},
   "outputs": [],
   "source": [
    "# one hot encode outputs\n",
    "y_train_cnn = np_utils.to_categorical(y_train)\n",
    "y_test_cnn = np_utils.to_categorical(y_test)\n",
    "num_classes = y_test_cnn.shape[1]\n",
    "\n",
    "# reshape to be [samples][width][height][pixels] \n",
    "X_train_cnn = X_train.reshape(X_train.shape[0], 28, 28, 1).astype('float32')\n",
    "X_test_cnn = X_test.reshape(X_test.shape[0], 28, 28, 1).astype('float32')"
   ]
  },
  {
   "cell_type": "code",
   "execution_count": 28,
   "metadata": {},
   "outputs": [],
   "source": [
    "model = Sequential()\n",
    "model.add(Conv2D(32, kernel_size=(3,3), activation='relu',input_shape=(28, 28, 1)))\n",
    "model.add(Conv2D(64, (3,3), activation='relu'))\n",
    "model.add(MaxPooling2D(pool_size=(2, 2)))\n",
    "model.add(Dropout(0.25))\n",
    "model.add(Flatten())\n",
    "model.add(Dense(128, activation='relu'))\n",
    "model.add(Dropout(0.5))\n",
    "model.add(Dense(num_classes, activation='softmax'))"
   ]
  },
  {
   "cell_type": "code",
   "execution_count": 29,
   "metadata": {},
   "outputs": [
    {
     "data": {
      "image/svg+xml": [
       "<svg height=\"719pt\" viewBox=\"0.00 0.00 392.00 719.00\" width=\"392pt\" xmlns=\"http://www.w3.org/2000/svg\" xmlns:xlink=\"http://www.w3.org/1999/xlink\">\n",
       "<g class=\"graph\" id=\"graph0\" transform=\"scale(1 1) rotate(0) translate(4 715)\">\n",
       "<title>G</title>\n",
       "<polygon fill=\"white\" points=\"-4,4 -4,-715 388,-715 388,4 -4,4\" stroke=\"none\"/>\n",
       "<!-- 1192225925608 -->\n",
       "<g class=\"node\" id=\"node1\"><title>1192225925608</title>\n",
       "<polygon fill=\"none\" points=\"20,-664.5 20,-710.5 364,-710.5 364,-664.5 20,-664.5\" stroke=\"black\"/>\n",
       "<text font-family=\"Times New Roman,serif\" font-size=\"14.00\" text-anchor=\"middle\" x=\"108\" y=\"-683.8\">conv2d_1_input: InputLayer</text>\n",
       "<polyline fill=\"none\" points=\"196,-664.5 196,-710.5 \" stroke=\"black\"/>\n",
       "<text font-family=\"Times New Roman,serif\" font-size=\"14.00\" text-anchor=\"middle\" x=\"224\" y=\"-695.3\">input:</text>\n",
       "<polyline fill=\"none\" points=\"196,-687.5 252,-687.5 \" stroke=\"black\"/>\n",
       "<text font-family=\"Times New Roman,serif\" font-size=\"14.00\" text-anchor=\"middle\" x=\"224\" y=\"-672.3\">output:</text>\n",
       "<polyline fill=\"none\" points=\"252,-664.5 252,-710.5 \" stroke=\"black\"/>\n",
       "<text font-family=\"Times New Roman,serif\" font-size=\"14.00\" text-anchor=\"middle\" x=\"308\" y=\"-695.3\">(None, 28, 28, 1)</text>\n",
       "<polyline fill=\"none\" points=\"252,-687.5 364,-687.5 \" stroke=\"black\"/>\n",
       "<text font-family=\"Times New Roman,serif\" font-size=\"14.00\" text-anchor=\"middle\" x=\"308\" y=\"-672.3\">(None, 28, 28, 1)</text>\n",
       "</g>\n",
       "<!-- 1201526818184 -->\n",
       "<g class=\"node\" id=\"node2\"><title>1201526818184</title>\n",
       "<polygon fill=\"none\" points=\"41,-581.5 41,-627.5 343,-627.5 343,-581.5 41,-581.5\" stroke=\"black\"/>\n",
       "<text font-family=\"Times New Roman,serif\" font-size=\"14.00\" text-anchor=\"middle\" x=\"104.5\" y=\"-600.8\">conv2d_1: Conv2D</text>\n",
       "<polyline fill=\"none\" points=\"168,-581.5 168,-627.5 \" stroke=\"black\"/>\n",
       "<text font-family=\"Times New Roman,serif\" font-size=\"14.00\" text-anchor=\"middle\" x=\"196\" y=\"-612.3\">input:</text>\n",
       "<polyline fill=\"none\" points=\"168,-604.5 224,-604.5 \" stroke=\"black\"/>\n",
       "<text font-family=\"Times New Roman,serif\" font-size=\"14.00\" text-anchor=\"middle\" x=\"196\" y=\"-589.3\">output:</text>\n",
       "<polyline fill=\"none\" points=\"224,-581.5 224,-627.5 \" stroke=\"black\"/>\n",
       "<text font-family=\"Times New Roman,serif\" font-size=\"14.00\" text-anchor=\"middle\" x=\"283.5\" y=\"-612.3\">(None, 28, 28, 1)</text>\n",
       "<polyline fill=\"none\" points=\"224,-604.5 343,-604.5 \" stroke=\"black\"/>\n",
       "<text font-family=\"Times New Roman,serif\" font-size=\"14.00\" text-anchor=\"middle\" x=\"283.5\" y=\"-589.3\">(None, 26, 26, 32)</text>\n",
       "</g>\n",
       "<!-- 1192225925608&#45;&gt;1201526818184 -->\n",
       "<g class=\"edge\" id=\"edge1\"><title>1192225925608-&gt;1201526818184</title>\n",
       "<path d=\"M192,-664.366C192,-656.152 192,-646.658 192,-637.725\" fill=\"none\" stroke=\"black\"/>\n",
       "<polygon fill=\"black\" points=\"195.5,-637.607 192,-627.607 188.5,-637.607 195.5,-637.607\" stroke=\"black\"/>\n",
       "</g>\n",
       "<!-- 1193183934784 -->\n",
       "<g class=\"node\" id=\"node3\"><title>1193183934784</title>\n",
       "<polygon fill=\"none\" points=\"41,-498.5 41,-544.5 343,-544.5 343,-498.5 41,-498.5\" stroke=\"black\"/>\n",
       "<text font-family=\"Times New Roman,serif\" font-size=\"14.00\" text-anchor=\"middle\" x=\"104.5\" y=\"-517.8\">conv2d_2: Conv2D</text>\n",
       "<polyline fill=\"none\" points=\"168,-498.5 168,-544.5 \" stroke=\"black\"/>\n",
       "<text font-family=\"Times New Roman,serif\" font-size=\"14.00\" text-anchor=\"middle\" x=\"196\" y=\"-529.3\">input:</text>\n",
       "<polyline fill=\"none\" points=\"168,-521.5 224,-521.5 \" stroke=\"black\"/>\n",
       "<text font-family=\"Times New Roman,serif\" font-size=\"14.00\" text-anchor=\"middle\" x=\"196\" y=\"-506.3\">output:</text>\n",
       "<polyline fill=\"none\" points=\"224,-498.5 224,-544.5 \" stroke=\"black\"/>\n",
       "<text font-family=\"Times New Roman,serif\" font-size=\"14.00\" text-anchor=\"middle\" x=\"283.5\" y=\"-529.3\">(None, 26, 26, 32)</text>\n",
       "<polyline fill=\"none\" points=\"224,-521.5 343,-521.5 \" stroke=\"black\"/>\n",
       "<text font-family=\"Times New Roman,serif\" font-size=\"14.00\" text-anchor=\"middle\" x=\"283.5\" y=\"-506.3\">(None, 24, 24, 64)</text>\n",
       "</g>\n",
       "<!-- 1201526818184&#45;&gt;1193183934784 -->\n",
       "<g class=\"edge\" id=\"edge2\"><title>1201526818184-&gt;1193183934784</title>\n",
       "<path d=\"M192,-581.366C192,-573.152 192,-563.658 192,-554.725\" fill=\"none\" stroke=\"black\"/>\n",
       "<polygon fill=\"black\" points=\"195.5,-554.607 192,-544.607 188.5,-554.607 195.5,-554.607\" stroke=\"black\"/>\n",
       "</g>\n",
       "<!-- 1201527122128 -->\n",
       "<g class=\"node\" id=\"node4\"><title>1201527122128</title>\n",
       "<polygon fill=\"none\" points=\"0,-415.5 0,-461.5 384,-461.5 384,-415.5 0,-415.5\" stroke=\"black\"/>\n",
       "<text font-family=\"Times New Roman,serif\" font-size=\"14.00\" text-anchor=\"middle\" x=\"104.5\" y=\"-434.8\">max_pooling2d_1: MaxPooling2D</text>\n",
       "<polyline fill=\"none\" points=\"209,-415.5 209,-461.5 \" stroke=\"black\"/>\n",
       "<text font-family=\"Times New Roman,serif\" font-size=\"14.00\" text-anchor=\"middle\" x=\"237\" y=\"-446.3\">input:</text>\n",
       "<polyline fill=\"none\" points=\"209,-438.5 265,-438.5 \" stroke=\"black\"/>\n",
       "<text font-family=\"Times New Roman,serif\" font-size=\"14.00\" text-anchor=\"middle\" x=\"237\" y=\"-423.3\">output:</text>\n",
       "<polyline fill=\"none\" points=\"265,-415.5 265,-461.5 \" stroke=\"black\"/>\n",
       "<text font-family=\"Times New Roman,serif\" font-size=\"14.00\" text-anchor=\"middle\" x=\"324.5\" y=\"-446.3\">(None, 24, 24, 64)</text>\n",
       "<polyline fill=\"none\" points=\"265,-438.5 384,-438.5 \" stroke=\"black\"/>\n",
       "<text font-family=\"Times New Roman,serif\" font-size=\"14.00\" text-anchor=\"middle\" x=\"324.5\" y=\"-423.3\">(None, 12, 12, 64)</text>\n",
       "</g>\n",
       "<!-- 1193183934784&#45;&gt;1201527122128 -->\n",
       "<g class=\"edge\" id=\"edge3\"><title>1193183934784-&gt;1201527122128</title>\n",
       "<path d=\"M192,-498.366C192,-490.152 192,-480.658 192,-471.725\" fill=\"none\" stroke=\"black\"/>\n",
       "<polygon fill=\"black\" points=\"195.5,-471.607 192,-461.607 188.5,-471.607 195.5,-471.607\" stroke=\"black\"/>\n",
       "</g>\n",
       "<!-- 1201526940056 -->\n",
       "<g class=\"node\" id=\"node5\"><title>1201526940056</title>\n",
       "<polygon fill=\"none\" points=\"39.5,-332.5 39.5,-378.5 344.5,-378.5 344.5,-332.5 39.5,-332.5\" stroke=\"black\"/>\n",
       "<text font-family=\"Times New Roman,serif\" font-size=\"14.00\" text-anchor=\"middle\" x=\"104.5\" y=\"-351.8\">dropout_1: Dropout</text>\n",
       "<polyline fill=\"none\" points=\"169.5,-332.5 169.5,-378.5 \" stroke=\"black\"/>\n",
       "<text font-family=\"Times New Roman,serif\" font-size=\"14.00\" text-anchor=\"middle\" x=\"197.5\" y=\"-363.3\">input:</text>\n",
       "<polyline fill=\"none\" points=\"169.5,-355.5 225.5,-355.5 \" stroke=\"black\"/>\n",
       "<text font-family=\"Times New Roman,serif\" font-size=\"14.00\" text-anchor=\"middle\" x=\"197.5\" y=\"-340.3\">output:</text>\n",
       "<polyline fill=\"none\" points=\"225.5,-332.5 225.5,-378.5 \" stroke=\"black\"/>\n",
       "<text font-family=\"Times New Roman,serif\" font-size=\"14.00\" text-anchor=\"middle\" x=\"285\" y=\"-363.3\">(None, 12, 12, 64)</text>\n",
       "<polyline fill=\"none\" points=\"225.5,-355.5 344.5,-355.5 \" stroke=\"black\"/>\n",
       "<text font-family=\"Times New Roman,serif\" font-size=\"14.00\" text-anchor=\"middle\" x=\"285\" y=\"-340.3\">(None, 12, 12, 64)</text>\n",
       "</g>\n",
       "<!-- 1201527122128&#45;&gt;1201526940056 -->\n",
       "<g class=\"edge\" id=\"edge4\"><title>1201527122128-&gt;1201526940056</title>\n",
       "<path d=\"M192,-415.366C192,-407.152 192,-397.658 192,-388.725\" fill=\"none\" stroke=\"black\"/>\n",
       "<polygon fill=\"black\" points=\"195.5,-388.607 192,-378.607 188.5,-388.607 195.5,-388.607\" stroke=\"black\"/>\n",
       "</g>\n",
       "<!-- 1201528395256 -->\n",
       "<g class=\"node\" id=\"node6\"><title>1201528395256</title>\n",
       "<polygon fill=\"none\" points=\"50,-249.5 50,-295.5 334,-295.5 334,-249.5 50,-249.5\" stroke=\"black\"/>\n",
       "<text font-family=\"Times New Roman,serif\" font-size=\"14.00\" text-anchor=\"middle\" x=\"104.5\" y=\"-268.8\">flatten_1: Flatten</text>\n",
       "<polyline fill=\"none\" points=\"159,-249.5 159,-295.5 \" stroke=\"black\"/>\n",
       "<text font-family=\"Times New Roman,serif\" font-size=\"14.00\" text-anchor=\"middle\" x=\"187\" y=\"-280.3\">input:</text>\n",
       "<polyline fill=\"none\" points=\"159,-272.5 215,-272.5 \" stroke=\"black\"/>\n",
       "<text font-family=\"Times New Roman,serif\" font-size=\"14.00\" text-anchor=\"middle\" x=\"187\" y=\"-257.3\">output:</text>\n",
       "<polyline fill=\"none\" points=\"215,-249.5 215,-295.5 \" stroke=\"black\"/>\n",
       "<text font-family=\"Times New Roman,serif\" font-size=\"14.00\" text-anchor=\"middle\" x=\"274.5\" y=\"-280.3\">(None, 12, 12, 64)</text>\n",
       "<polyline fill=\"none\" points=\"215,-272.5 334,-272.5 \" stroke=\"black\"/>\n",
       "<text font-family=\"Times New Roman,serif\" font-size=\"14.00\" text-anchor=\"middle\" x=\"274.5\" y=\"-257.3\">(None, 9216)</text>\n",
       "</g>\n",
       "<!-- 1201526940056&#45;&gt;1201528395256 -->\n",
       "<g class=\"edge\" id=\"edge5\"><title>1201526940056-&gt;1201528395256</title>\n",
       "<path d=\"M192,-332.366C192,-324.152 192,-314.658 192,-305.725\" fill=\"none\" stroke=\"black\"/>\n",
       "<polygon fill=\"black\" points=\"195.5,-305.607 192,-295.607 188.5,-305.607 195.5,-305.607\" stroke=\"black\"/>\n",
       "</g>\n",
       "<!-- 1201528394976 -->\n",
       "<g class=\"node\" id=\"node7\"><title>1201528394976</title>\n",
       "<polygon fill=\"none\" points=\"67,-166.5 67,-212.5 317,-212.5 317,-166.5 67,-166.5\" stroke=\"black\"/>\n",
       "<text font-family=\"Times New Roman,serif\" font-size=\"14.00\" text-anchor=\"middle\" x=\"119\" y=\"-185.8\">dense_1: Dense</text>\n",
       "<polyline fill=\"none\" points=\"171,-166.5 171,-212.5 \" stroke=\"black\"/>\n",
       "<text font-family=\"Times New Roman,serif\" font-size=\"14.00\" text-anchor=\"middle\" x=\"199\" y=\"-197.3\">input:</text>\n",
       "<polyline fill=\"none\" points=\"171,-189.5 227,-189.5 \" stroke=\"black\"/>\n",
       "<text font-family=\"Times New Roman,serif\" font-size=\"14.00\" text-anchor=\"middle\" x=\"199\" y=\"-174.3\">output:</text>\n",
       "<polyline fill=\"none\" points=\"227,-166.5 227,-212.5 \" stroke=\"black\"/>\n",
       "<text font-family=\"Times New Roman,serif\" font-size=\"14.00\" text-anchor=\"middle\" x=\"272\" y=\"-197.3\">(None, 9216)</text>\n",
       "<polyline fill=\"none\" points=\"227,-189.5 317,-189.5 \" stroke=\"black\"/>\n",
       "<text font-family=\"Times New Roman,serif\" font-size=\"14.00\" text-anchor=\"middle\" x=\"272\" y=\"-174.3\">(None, 128)</text>\n",
       "</g>\n",
       "<!-- 1201528395256&#45;&gt;1201528394976 -->\n",
       "<g class=\"edge\" id=\"edge6\"><title>1201528395256-&gt;1201528394976</title>\n",
       "<path d=\"M192,-249.366C192,-241.152 192,-231.658 192,-222.725\" fill=\"none\" stroke=\"black\"/>\n",
       "<polygon fill=\"black\" points=\"195.5,-222.607 192,-212.607 188.5,-222.607 195.5,-222.607\" stroke=\"black\"/>\n",
       "</g>\n",
       "<!-- 1201528464944 -->\n",
       "<g class=\"node\" id=\"node8\"><title>1201528464944</title>\n",
       "<polygon fill=\"none\" points=\"57.5,-83.5 57.5,-129.5 326.5,-129.5 326.5,-83.5 57.5,-83.5\" stroke=\"black\"/>\n",
       "<text font-family=\"Times New Roman,serif\" font-size=\"14.00\" text-anchor=\"middle\" x=\"122.5\" y=\"-102.8\">dropout_2: Dropout</text>\n",
       "<polyline fill=\"none\" points=\"187.5,-83.5 187.5,-129.5 \" stroke=\"black\"/>\n",
       "<text font-family=\"Times New Roman,serif\" font-size=\"14.00\" text-anchor=\"middle\" x=\"215.5\" y=\"-114.3\">input:</text>\n",
       "<polyline fill=\"none\" points=\"187.5,-106.5 243.5,-106.5 \" stroke=\"black\"/>\n",
       "<text font-family=\"Times New Roman,serif\" font-size=\"14.00\" text-anchor=\"middle\" x=\"215.5\" y=\"-91.3\">output:</text>\n",
       "<polyline fill=\"none\" points=\"243.5,-83.5 243.5,-129.5 \" stroke=\"black\"/>\n",
       "<text font-family=\"Times New Roman,serif\" font-size=\"14.00\" text-anchor=\"middle\" x=\"285\" y=\"-114.3\">(None, 128)</text>\n",
       "<polyline fill=\"none\" points=\"243.5,-106.5 326.5,-106.5 \" stroke=\"black\"/>\n",
       "<text font-family=\"Times New Roman,serif\" font-size=\"14.00\" text-anchor=\"middle\" x=\"285\" y=\"-91.3\">(None, 128)</text>\n",
       "</g>\n",
       "<!-- 1201528394976&#45;&gt;1201528464944 -->\n",
       "<g class=\"edge\" id=\"edge7\"><title>1201528394976-&gt;1201528464944</title>\n",
       "<path d=\"M192,-166.366C192,-158.152 192,-148.658 192,-139.725\" fill=\"none\" stroke=\"black\"/>\n",
       "<polygon fill=\"black\" points=\"195.5,-139.607 192,-129.607 188.5,-139.607 195.5,-139.607\" stroke=\"black\"/>\n",
       "</g>\n",
       "<!-- 1201525116544 -->\n",
       "<g class=\"node\" id=\"node9\"><title>1201525116544</title>\n",
       "<polygon fill=\"none\" points=\"70.5,-0.5 70.5,-46.5 313.5,-46.5 313.5,-0.5 70.5,-0.5\" stroke=\"black\"/>\n",
       "<text font-family=\"Times New Roman,serif\" font-size=\"14.00\" text-anchor=\"middle\" x=\"122.5\" y=\"-19.8\">dense_2: Dense</text>\n",
       "<polyline fill=\"none\" points=\"174.5,-0.5 174.5,-46.5 \" stroke=\"black\"/>\n",
       "<text font-family=\"Times New Roman,serif\" font-size=\"14.00\" text-anchor=\"middle\" x=\"202.5\" y=\"-31.3\">input:</text>\n",
       "<polyline fill=\"none\" points=\"174.5,-23.5 230.5,-23.5 \" stroke=\"black\"/>\n",
       "<text font-family=\"Times New Roman,serif\" font-size=\"14.00\" text-anchor=\"middle\" x=\"202.5\" y=\"-8.3\">output:</text>\n",
       "<polyline fill=\"none\" points=\"230.5,-0.5 230.5,-46.5 \" stroke=\"black\"/>\n",
       "<text font-family=\"Times New Roman,serif\" font-size=\"14.00\" text-anchor=\"middle\" x=\"272\" y=\"-31.3\">(None, 128)</text>\n",
       "<polyline fill=\"none\" points=\"230.5,-23.5 313.5,-23.5 \" stroke=\"black\"/>\n",
       "<text font-family=\"Times New Roman,serif\" font-size=\"14.00\" text-anchor=\"middle\" x=\"272\" y=\"-8.3\">(None, 10)</text>\n",
       "</g>\n",
       "<!-- 1201528464944&#45;&gt;1201525116544 -->\n",
       "<g class=\"edge\" id=\"edge8\"><title>1201528464944-&gt;1201525116544</title>\n",
       "<path d=\"M192,-83.3664C192,-75.1516 192,-65.6579 192,-56.7252\" fill=\"none\" stroke=\"black\"/>\n",
       "<polygon fill=\"black\" points=\"195.5,-56.6068 192,-46.6068 188.5,-56.6069 195.5,-56.6068\" stroke=\"black\"/>\n",
       "</g>\n",
       "</g>\n",
       "</svg>"
      ],
      "text/plain": [
       "<IPython.core.display.SVG object>"
      ]
     },
     "execution_count": 29,
     "metadata": {},
     "output_type": "execute_result"
    }
   ],
   "source": [
    "from IPython.display import SVG\n",
    "from keras.utils.vis_utils import model_to_dot\n",
    "\n",
    "SVG(model_to_dot(model, show_shapes=True, \n",
    "                 show_layer_names=True, rankdir='TB').create(prog='dot', format='svg'))"
   ]
  },
  {
   "cell_type": "code",
   "execution_count": 30,
   "metadata": {},
   "outputs": [],
   "source": [
    "model.compile(loss=keras.losses.categorical_crossentropy,\n",
    "              optimizer='adam',\n",
    "              metrics=['accuracy'])"
   ]
  },
  {
   "cell_type": "code",
   "execution_count": 31,
   "metadata": {},
   "outputs": [
    {
     "name": "stdout",
     "output_type": "stream",
     "text": [
      "Train on 14000 samples, validate on 6000 samples\n",
      "Epoch 1/10\n",
      "14000/14000 [==============================] - 34s 2ms/step - loss: 0.9917 - acc: 0.6841 - val_loss: 0.5411 - val_acc: 0.8402\n",
      "Epoch 2/10\n",
      "14000/14000 [==============================] - 35s 2ms/step - loss: 0.5859 - acc: 0.8214 - val_loss: 0.4338 - val_acc: 0.8665\n",
      "Epoch 3/10\n",
      "14000/14000 [==============================] - 34s 2ms/step - loss: 0.4870 - acc: 0.8537 - val_loss: 0.3992 - val_acc: 0.8757\n",
      "Epoch 4/10\n",
      "14000/14000 [==============================] - 33s 2ms/step - loss: 0.4145 - acc: 0.8746 - val_loss: 0.3787 - val_acc: 0.8875\n",
      "Epoch 5/10\n",
      "14000/14000 [==============================] - 33s 2ms/step - loss: 0.3688 - acc: 0.8836 - val_loss: 0.3728 - val_acc: 0.8887\n",
      "Epoch 6/10\n",
      "14000/14000 [==============================] - 34s 2ms/step - loss: 0.3158 - acc: 0.9003 - val_loss: 0.3635 - val_acc: 0.8938\n",
      "Epoch 7/10\n",
      "14000/14000 [==============================] - 35s 2ms/step - loss: 0.2717 - acc: 0.9121 - val_loss: 0.3714 - val_acc: 0.8950\n",
      "Epoch 8/10\n",
      "14000/14000 [==============================] - 34s 2ms/step - loss: 0.2478 - acc: 0.9201 - val_loss: 0.3551 - val_acc: 0.9013\n",
      "Epoch 9/10\n",
      "14000/14000 [==============================] - 34s 2ms/step - loss: 0.2285 - acc: 0.9251 - val_loss: 0.3689 - val_acc: 0.8990\n",
      "Epoch 10/10\n",
      "14000/14000 [==============================] - 34s 2ms/step - loss: 0.2071 - acc: 0.9324 - val_loss: 0.3651 - val_acc: 0.9007\n"
     ]
    }
   ],
   "source": [
    "cnn_model = model.fit(X_train_cnn, y_train_cnn,\n",
    "          batch_size=64,\n",
    "          epochs=10,\n",
    "          validation_data=(X_test_cnn, y_test_cnn))"
   ]
  },
  {
   "cell_type": "code",
   "execution_count": 32,
   "metadata": {},
   "outputs": [
    {
     "data": {
      "image/png": "[encoded data removed]",
      "text/plain": [
       "<matplotlib.figure.Figure at 0x117c1177b70>"
      ]
     },
     "metadata": {},
     "output_type": "display_data"
    }
   ],
   "source": [
    "plt.plot(cnn_model.history['acc'])\n",
    "plt.plot(cnn_model.history['val_acc'])\n",
    "plt.title('model accuracy')\n",
    "plt.ylabel('accuracy')\n",
    "plt.xlabel('epoch')\n",
    "plt.legend(['train', 'test'], loc='upper left')\n",
    "plt.show()"
   ]
  },
  {
   "cell_type": "code",
   "execution_count": 33,
   "metadata": {},
   "outputs": [
    {
     "name": "stdout",
     "output_type": "stream",
     "text": [
      "6000/6000 [==============================] - 4s 656us/step\n"
     ]
    }
   ],
   "source": [
    "score = model.evaluate(X_test_cnn, y_test_cnn, verbose=1)"
   ]
  },
  {
   "cell_type": "code",
   "execution_count": 34,
   "metadata": {},
   "outputs": [
    {
     "name": "stdout",
     "output_type": "stream",
     "text": [
      "Test loss: 0.365115616779\n",
      "Test accuracy: 0.900666666667\n"
     ]
    }
   ],
   "source": [
    "print('Test loss:', score[0])\n",
    "print('Test accuracy:', score[1])"
   ]
  },
  {
   "cell_type": "code",
   "execution_count": 35,
   "metadata": {},
   "outputs": [],
   "source": [
    "test_image =np.expand_dims(X_test_cnn[0], axis=3)\n",
    "test_image = test_image.reshape(1,28, 28,1)"
   ]
  },
  {
   "cell_type": "code",
   "execution_count": 36,
   "metadata": {},
   "outputs": [
    {
     "data": {
      "text/plain": [
       "<matplotlib.image.AxesImage at 0x117c1127f28>"
      ]
     },
     "execution_count": 36,
     "metadata": {},
     "output_type": "execute_result"
    },
    {
     "data": {
      "image/png": "[encoded data removed]",
      "text/plain": [
       "<matplotlib.figure.Figure at 0x117c0c18d30>"
      ]
     },
     "metadata": {},
     "output_type": "display_data"
    }
   ],
   "source": [
    "plt.imshow(X_test_cnn[0][:,:,0], cmap=plt.get_cmap('binary'))"
   ]
  },
  {
   "cell_type": "code",
   "execution_count": 37,
   "metadata": {},
   "outputs": [
    {
     "data": {
      "text/plain": [
       "array([ 0.,  0.,  0.,  0.,  0.,  1.,  0.,  0.,  0.,  0.])"
      ]
     },
     "execution_count": 37,
     "metadata": {},
     "output_type": "execute_result"
    }
   ],
   "source": [
    "y_test_cnn[0]"
   ]
  },
  {
   "cell_type": "code",
   "execution_count": 38,
   "metadata": {},
   "outputs": [
    {
     "data": {
      "text/plain": [
       "array([5], dtype=int64)"
      ]
     },
     "execution_count": 38,
     "metadata": {},
     "output_type": "execute_result"
    }
   ],
   "source": [
    "model.predict_classes(test_image,batch_size=1)"
   ]
  },
  {
   "cell_type": "code",
   "execution_count": 39,
   "metadata": {},
   "outputs": [],
   "source": [
    "y_pred_cnn = model.predict_classes(X_test_cnn, verbose=0)"
   ]
  },
  {
   "cell_type": "code",
   "execution_count": 40,
   "metadata": {},
   "outputs": [
    {
     "data": {
      "image/png": "[encoded data removed]",
      "text/plain": [
       "<matplotlib.figure.Figure at 0x117c0cabef0>"
      ]
     },
     "metadata": {},
     "output_type": "display_data"
    }
   ],
   "source": [
    "# Compute confusion matrix\n",
    "cf_matrix = confusion_matrix(y_test, y_pred_cnn)\n",
    "np.set_printoptions(precision=2)\n",
    "\n",
    "# Plot non-normalized confusion matrix\n",
    "fig = plt.figure(figsize=(10,7))\n",
    "fig = plt.imshow(cf_matrix, interpolation='nearest', cmap=plt.cm.Blues)\n",
    "_ =plt.title('Confusion Matrix - CNN')\n",
    "_ = plt.colorbar()\n",
    "_ = tick_marks = np.arange(len(label_dict))\n",
    "_ = plt.xticks(tick_marks, label_dict.values(), rotation=90)\n",
    "_ = plt.yticks(tick_marks, label_dict.values())\n",
    "_ = plt.tight_layout()\n",
    "_ = plt.ylabel('True label')\n",
    "_ = plt.xlabel('Predicted label')\n",
    "thresh = cf_matrix.max() / 2.\n",
    "for i, j in itertools.product(range(cf_matrix.shape[0]), range(cf_matrix.shape[1])):\n",
    "    plt.text(j, i, cf_matrix[i, j], horizontalalignment=\"center\",\n",
    "                color=\"white\" if cf_matrix[i, j] > thresh else \"black\")"
   ]
  },
  {
   "cell_type": "code",
   "execution_count": null,
   "metadata": {},
   "outputs": [],
   "source": []
  }
 ],
 "metadata": {
  "kernelspec": {
   "display_name": "Python 3",
   "language": "python",
   "name": "python3"
  },
  "language_info": {
   "codemirror_mode": {
    "name": "ipython",
    "version": 3
   },
   "file_extension": ".py",
   "mimetype": "text/x-python",
   "name": "python",
   "nbconvert_exporter": "python",
   "pygments_lexer": "ipython3",
   "version": "3.6.3"
  }
 },
 "nbformat": 4,
 "nbformat_minor": 2
}
