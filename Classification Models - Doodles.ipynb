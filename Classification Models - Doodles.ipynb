{
 "cells": [
  {
   "cell_type": "markdown",
   "metadata": {},
   "source": [
    "<center><h1> Classification Models - Google's Quick-Draw Doodles </h1></center>"
   ]
  },
  {
   "cell_type": "code",
   "execution_count": 1,
   "metadata": {},
   "outputs": [],
   "source": [
    "import numpy as np # linear algebra\n",
    "import pandas as pd # data processing\n",
    "import matplotlib.pyplot as plt # Plotting library\n",
    "% matplotlib inline\n",
    "import pickle\n",
    "from sklearn.neighbors import KNeighborsClassifier\n",
    "from sklearn.ensemble import RandomForestClassifier\n",
    "from sklearn.svm import SVC, LinearSVC\n",
    "from sklearn.neural_network import MLPClassifier\n",
    "from sklearn.metrics import accuracy_score, confusion_matrix\n",
    "from sklearn.model_selection import GridSearchCV"
   ]
  },
  {
   "cell_type": "code",
   "execution_count": 2,
   "metadata": {},
   "outputs": [],
   "source": [
    "# Loading X_train\n",
    "with open('xtrain_doodle.pickle','rb') as f:\n",
    "    X_train = pickle.load(f)\n",
    "\n",
    "# Loading X_test\n",
    "with open('xtest_doodle.pickle','rb') as f:\n",
    "    X_test = pickle.load(f)\n",
    "    \n",
    "# Loading y_train\n",
    "with open('ytrain_doodle.pickle','rb') as f:\n",
    "    y_train = pickle.load(f)\n",
    "\n",
    "# Loading y_test\n",
    "with open('ytest_doodle.pickle','rb') as f:\n",
    "    y_test = pickle.load(f)"
   ]
  },
  {
   "cell_type": "markdown",
   "metadata": {},
   "source": [
    "## K-Nearest Neighbors\n",
    "\n",
    "By simply randomly guessing, one should be able to reach ~10% accuracy (since there are only ten class labels). A machine learning algorithm will need to obtain > 10% accuracy in order to demonstrate that it has in fact “learned” something (or found an underlying pattern in the data).\n",
    "\n",
    "To start, we’ll model the data with the k-Nearest Neighbor (k-NN) classifier, arguably the most simple, easy to understand machine learning algorithm. The k-NN algorithm classifies unknown data points by finding the most common class among the k-closest examples. Each data point in the k closest examples casts a vote and the category with the most votes is chosen."
   ]
  },
  {
   "cell_type": "code",
   "execution_count": 3,
   "metadata": {},
   "outputs": [
    {
     "name": "stdout",
     "output_type": "stream",
     "text": [
      "KNeighborsClassifier(algorithm='auto', leaf_size=30, metric='minkowski',\n",
      "           metric_params=None, n_jobs=-1, n_neighbors=5, p=2,\n",
      "           weights='uniform')\n",
      "KNN accuracy:  0.823444444444\n"
     ]
    }
   ],
   "source": [
    "# Base model\n",
    "knn = KNeighborsClassifier(n_jobs=-1)\n",
    "knn.fit(X_train, y_train)\n",
    "print(knn)\n",
    "y_pred_knn = knn.predict(X_test)\n",
    "acc_knn = accuracy_score(y_test, y_pred_knn)\n",
    "print ('KNN accuracy: ',acc_knn)"
   ]
  },
  {
   "cell_type": "code",
   "execution_count": 4,
   "metadata": {},
   "outputs": [
    {
     "data": {
      "text/html": [
       "<div>\n",
       "<style>\n",
       "    .dataframe thead tr:only-child th {\n",
       "        text-align: right;\n",
       "    }\n",
       "\n",
       "    .dataframe thead th {\n",
       "        text-align: left;\n",
       "    }\n",
       "\n",
       "    .dataframe tbody tr th {\n",
       "        vertical-align: top;\n",
       "    }\n",
       "</style>\n",
       "<table border=\"1\" class=\"dataframe\">\n",
       "  <thead>\n",
       "    <tr style=\"text-align: right;\">\n",
       "      <th></th>\n",
       "      <th>mean_fit_time</th>\n",
       "      <th>mean_score_time</th>\n",
       "      <th>mean_test_score</th>\n",
       "      <th>mean_train_score</th>\n",
       "      <th>param_n_neighbors</th>\n",
       "      <th>params</th>\n",
       "      <th>rank_test_score</th>\n",
       "      <th>split0_test_score</th>\n",
       "      <th>split0_train_score</th>\n",
       "      <th>split1_test_score</th>\n",
       "      <th>split1_train_score</th>\n",
       "      <th>split2_test_score</th>\n",
       "      <th>split2_train_score</th>\n",
       "      <th>std_fit_time</th>\n",
       "      <th>std_score_time</th>\n",
       "      <th>std_test_score</th>\n",
       "      <th>std_train_score</th>\n",
       "    </tr>\n",
       "  </thead>\n",
       "  <tbody>\n",
       "    <tr>\n",
       "      <th>4</th>\n",
       "      <td>15.159114</td>\n",
       "      <td>301.266755</td>\n",
       "      <td>0.803667</td>\n",
       "      <td>0.858048</td>\n",
       "      <td>5</td>\n",
       "      <td>{'n_neighbors': 5}</td>\n",
       "      <td>1</td>\n",
       "      <td>0.798229</td>\n",
       "      <td>0.859541</td>\n",
       "      <td>0.807115</td>\n",
       "      <td>0.859153</td>\n",
       "      <td>0.805659</td>\n",
       "      <td>0.855449</td>\n",
       "      <td>2.380351</td>\n",
       "      <td>1.740807</td>\n",
       "      <td>0.003892</td>\n",
       "      <td>0.001844</td>\n",
       "    </tr>\n",
       "    <tr>\n",
       "      <th>3</th>\n",
       "      <td>17.929702</td>\n",
       "      <td>299.007169</td>\n",
       "      <td>0.799762</td>\n",
       "      <td>0.866691</td>\n",
       "      <td>4</td>\n",
       "      <td>{'n_neighbors': 4}</td>\n",
       "      <td>2</td>\n",
       "      <td>0.794088</td>\n",
       "      <td>0.869115</td>\n",
       "      <td>0.805401</td>\n",
       "      <td>0.865938</td>\n",
       "      <td>0.799800</td>\n",
       "      <td>0.865019</td>\n",
       "      <td>3.513635</td>\n",
       "      <td>1.033115</td>\n",
       "      <td>0.004619</td>\n",
       "      <td>0.001755</td>\n",
       "    </tr>\n",
       "    <tr>\n",
       "      <th>2</th>\n",
       "      <td>12.917111</td>\n",
       "      <td>330.066750</td>\n",
       "      <td>0.798143</td>\n",
       "      <td>0.880429</td>\n",
       "      <td>3</td>\n",
       "      <td>{'n_neighbors': 3}</td>\n",
       "      <td>3</td>\n",
       "      <td>0.791946</td>\n",
       "      <td>0.883046</td>\n",
       "      <td>0.803972</td>\n",
       "      <td>0.881366</td>\n",
       "      <td>0.798514</td>\n",
       "      <td>0.876875</td>\n",
       "      <td>4.061108</td>\n",
       "      <td>22.627243</td>\n",
       "      <td>0.004917</td>\n",
       "      <td>0.002605</td>\n",
       "    </tr>\n",
       "    <tr>\n",
       "      <th>0</th>\n",
       "      <td>4.301164</td>\n",
       "      <td>330.908154</td>\n",
       "      <td>0.792952</td>\n",
       "      <td>1.000000</td>\n",
       "      <td>1</td>\n",
       "      <td>{'n_neighbors': 1}</td>\n",
       "      <td>4</td>\n",
       "      <td>0.784093</td>\n",
       "      <td>1.000000</td>\n",
       "      <td>0.797828</td>\n",
       "      <td>1.000000</td>\n",
       "      <td>0.796942</td>\n",
       "      <td>1.000000</td>\n",
       "      <td>1.254481</td>\n",
       "      <td>7.949024</td>\n",
       "      <td>0.006277</td>\n",
       "      <td>0.000000</td>\n",
       "    </tr>\n",
       "    <tr>\n",
       "      <th>1</th>\n",
       "      <td>6.256927</td>\n",
       "      <td>341.293044</td>\n",
       "      <td>0.775095</td>\n",
       "      <td>0.896453</td>\n",
       "      <td>2</td>\n",
       "      <td>{'n_neighbors': 2}</td>\n",
       "      <td>5</td>\n",
       "      <td>0.768528</td>\n",
       "      <td>0.901550</td>\n",
       "      <td>0.776682</td>\n",
       "      <td>0.897222</td>\n",
       "      <td>0.780080</td>\n",
       "      <td>0.890587</td>\n",
       "      <td>0.524468</td>\n",
       "      <td>1.593294</td>\n",
       "      <td>0.004848</td>\n",
       "      <td>0.004509</td>\n",
       "    </tr>\n",
       "  </tbody>\n",
       "</table>\n",
       "</div>"
      ],
      "text/plain": [
       "   mean_fit_time  mean_score_time  mean_test_score  mean_train_score  \\\n",
       "4      15.159114       301.266755         0.803667          0.858048   \n",
       "3      17.929702       299.007169         0.799762          0.866691   \n",
       "2      12.917111       330.066750         0.798143          0.880429   \n",
       "0       4.301164       330.908154         0.792952          1.000000   \n",
       "1       6.256927       341.293044         0.775095          0.896453   \n",
       "\n",
       "  param_n_neighbors              params  rank_test_score  split0_test_score  \\\n",
       "4                 5  {'n_neighbors': 5}                1           0.798229   \n",
       "3                 4  {'n_neighbors': 4}                2           0.794088   \n",
       "2                 3  {'n_neighbors': 3}                3           0.791946   \n",
       "0                 1  {'n_neighbors': 1}                4           0.784093   \n",
       "1                 2  {'n_neighbors': 2}                5           0.768528   \n",
       "\n",
       "   split0_train_score  split1_test_score  split1_train_score  \\\n",
       "4            0.859541           0.807115            0.859153   \n",
       "3            0.869115           0.805401            0.865938   \n",
       "2            0.883046           0.803972            0.881366   \n",
       "0            1.000000           0.797828            1.000000   \n",
       "1            0.901550           0.776682            0.897222   \n",
       "\n",
       "   split2_test_score  split2_train_score  std_fit_time  std_score_time  \\\n",
       "4           0.805659            0.855449      2.380351        1.740807   \n",
       "3           0.799800            0.865019      3.513635        1.033115   \n",
       "2           0.798514            0.876875      4.061108       22.627243   \n",
       "0           0.796942            1.000000      1.254481        7.949024   \n",
       "1           0.780080            0.890587      0.524468        1.593294   \n",
       "\n",
       "   std_test_score  std_train_score  \n",
       "4        0.003892         0.001844  \n",
       "3        0.004619         0.001755  \n",
       "2        0.004917         0.002605  \n",
       "0        0.006277         0.000000  \n",
       "1        0.004848         0.004509  "
      ]
     },
     "execution_count": 4,
     "metadata": {},
     "output_type": "execute_result"
    }
   ],
   "source": [
    "# Tuning number of neighbors\n",
    "parameters = {'n_neighbors': np.arange(1,6,1)}\n",
    "\n",
    "knn = KNeighborsClassifier(n_jobs=-1)\n",
    "knn = GridSearchCV(knn, parameters, n_jobs=-1)\n",
    "knn.fit(X_train, y_train)\n",
    "\n",
    "results_knn = pd.DataFrame(knn.cv_results_)\n",
    "results_knn.sort_values('mean_test_score', ascending = False)"
   ]
  },
  {
   "cell_type": "code",
   "execution_count": 5,
   "metadata": {},
   "outputs": [
    {
     "data": {
      "text/plain": [
       "<matplotlib.axes._subplots.AxesSubplot at 0x28e56426e80>"
      ]
     },
     "execution_count": 5,
     "metadata": {},
     "output_type": "execute_result"
    },
    {
     "data": {
      "image/png": "[encoded data removed]",
      "text/plain": [
       "<matplotlib.figure.Figure at 0x28e557d56a0>"
      ]
     },
     "metadata": {},
     "output_type": "display_data"
    }
   ],
   "source": [
    "# Plot results of grid search\n",
    "results_knn.plot('param_n_neighbors','mean_test_score')"
   ]
  },
  {
   "cell_type": "markdown",
   "metadata": {},
   "source": [
    "From examining our plot and using the elbow-method using 3 neighbors seems like the best choice to avoid overfitting. The main advantage of the KNN algorithm is that it performs well with multi-modal classes because the basis of its decision is based on a small neighborhood of similar objects. This is why its results were fairly high with **80%**. The main disadvantage is the computational cost are very high and the results take far too long. \n",
    "\n",
    "\n",
    "## Random Forest\n",
    "Random forests is an ensemble model which means that it uses the results from many different models to calculate a label"
   ]
  },
  {
   "cell_type": "code",
   "execution_count": 6,
   "metadata": {},
   "outputs": [
    {
     "name": "stdout",
     "output_type": "stream",
     "text": [
      "RandomForestClassifier(bootstrap=True, class_weight=None, criterion='gini',\n",
      "            max_depth=None, max_features='auto', max_leaf_nodes=None,\n",
      "            min_impurity_decrease=0.0, min_impurity_split=None,\n",
      "            min_samples_leaf=1, min_samples_split=2,\n",
      "            min_weight_fraction_leaf=0.0, n_estimators=10, n_jobs=1,\n",
      "            oob_score=False, random_state=1, verbose=0, warm_start=False)\n",
      "Random forest accuracy:  0.741222222222\n"
     ]
    }
   ],
   "source": [
    "# Base RFC model\n",
    "rfc = RandomForestClassifier(random_state=1)\n",
    "rfc.fit(X_train, y_train)\n",
    "print(rfc)\n",
    "y_pred_rfc = rfc.predict(X_test)\n",
    "acc_rfc = accuracy_score(y_test, y_pred_rfc)\n",
    "print ('Random forest accuracy: ',acc_rfc)"
   ]
  },
  {
   "cell_type": "code",
   "execution_count": 7,
   "metadata": {},
   "outputs": [
    {
     "data": {
      "text/html": [
       "<div>\n",
       "<style>\n",
       "    .dataframe thead tr:only-child th {\n",
       "        text-align: right;\n",
       "    }\n",
       "\n",
       "    .dataframe thead th {\n",
       "        text-align: left;\n",
       "    }\n",
       "\n",
       "    .dataframe tbody tr th {\n",
       "        vertical-align: top;\n",
       "    }\n",
       "</style>\n",
       "<table border=\"1\" class=\"dataframe\">\n",
       "  <thead>\n",
       "    <tr style=\"text-align: right;\">\n",
       "      <th></th>\n",
       "      <th>mean_fit_time</th>\n",
       "      <th>mean_score_time</th>\n",
       "      <th>mean_test_score</th>\n",
       "      <th>mean_train_score</th>\n",
       "      <th>param_n_estimators</th>\n",
       "      <th>params</th>\n",
       "      <th>rank_test_score</th>\n",
       "      <th>split0_test_score</th>\n",
       "      <th>split0_train_score</th>\n",
       "      <th>split1_test_score</th>\n",
       "      <th>split1_train_score</th>\n",
       "      <th>split2_test_score</th>\n",
       "      <th>split2_train_score</th>\n",
       "      <th>std_fit_time</th>\n",
       "      <th>std_score_time</th>\n",
       "      <th>std_test_score</th>\n",
       "      <th>std_train_score</th>\n",
       "    </tr>\n",
       "  </thead>\n",
       "  <tbody>\n",
       "    <tr>\n",
       "      <th>13</th>\n",
       "      <td>19.292059</td>\n",
       "      <td>1.149590</td>\n",
       "      <td>0.796762</td>\n",
       "      <td>1.000000</td>\n",
       "      <td>140</td>\n",
       "      <td>{'n_estimators': 140}</td>\n",
       "      <td>1</td>\n",
       "      <td>0.794802</td>\n",
       "      <td>1.000000</td>\n",
       "      <td>0.797543</td>\n",
       "      <td>1.000000</td>\n",
       "      <td>0.797942</td>\n",
       "      <td>1.000000</td>\n",
       "      <td>0.240707</td>\n",
       "      <td>0.429854</td>\n",
       "      <td>0.001396</td>\n",
       "      <td>0.000000</td>\n",
       "    </tr>\n",
       "    <tr>\n",
       "      <th>12</th>\n",
       "      <td>19.672376</td>\n",
       "      <td>3.783545</td>\n",
       "      <td>0.796000</td>\n",
       "      <td>1.000000</td>\n",
       "      <td>130</td>\n",
       "      <td>{'n_estimators': 130}</td>\n",
       "      <td>2</td>\n",
       "      <td>0.794374</td>\n",
       "      <td>1.000000</td>\n",
       "      <td>0.796114</td>\n",
       "      <td>1.000000</td>\n",
       "      <td>0.797514</td>\n",
       "      <td>1.000000</td>\n",
       "      <td>0.964979</td>\n",
       "      <td>0.598431</td>\n",
       "      <td>0.001284</td>\n",
       "      <td>0.000000</td>\n",
       "    </tr>\n",
       "    <tr>\n",
       "      <th>11</th>\n",
       "      <td>21.318638</td>\n",
       "      <td>3.072779</td>\n",
       "      <td>0.795381</td>\n",
       "      <td>1.000000</td>\n",
       "      <td>120</td>\n",
       "      <td>{'n_estimators': 120}</td>\n",
       "      <td>3</td>\n",
       "      <td>0.792089</td>\n",
       "      <td>1.000000</td>\n",
       "      <td>0.795685</td>\n",
       "      <td>1.000000</td>\n",
       "      <td>0.798371</td>\n",
       "      <td>1.000000</td>\n",
       "      <td>0.544133</td>\n",
       "      <td>0.219600</td>\n",
       "      <td>0.002574</td>\n",
       "      <td>0.000000</td>\n",
       "    </tr>\n",
       "    <tr>\n",
       "      <th>10</th>\n",
       "      <td>17.716274</td>\n",
       "      <td>4.665519</td>\n",
       "      <td>0.794857</td>\n",
       "      <td>1.000000</td>\n",
       "      <td>110</td>\n",
       "      <td>{'n_estimators': 110}</td>\n",
       "      <td>4</td>\n",
       "      <td>0.793231</td>\n",
       "      <td>1.000000</td>\n",
       "      <td>0.794971</td>\n",
       "      <td>1.000000</td>\n",
       "      <td>0.796370</td>\n",
       "      <td>1.000000</td>\n",
       "      <td>1.146288</td>\n",
       "      <td>0.681305</td>\n",
       "      <td>0.001284</td>\n",
       "      <td>0.000000</td>\n",
       "    </tr>\n",
       "    <tr>\n",
       "      <th>8</th>\n",
       "      <td>15.525800</td>\n",
       "      <td>2.744658</td>\n",
       "      <td>0.794476</td>\n",
       "      <td>1.000000</td>\n",
       "      <td>90</td>\n",
       "      <td>{'n_estimators': 90}</td>\n",
       "      <td>5</td>\n",
       "      <td>0.793231</td>\n",
       "      <td>1.000000</td>\n",
       "      <td>0.794971</td>\n",
       "      <td>1.000000</td>\n",
       "      <td>0.795227</td>\n",
       "      <td>1.000000</td>\n",
       "      <td>0.542561</td>\n",
       "      <td>0.326609</td>\n",
       "      <td>0.000887</td>\n",
       "      <td>0.000000</td>\n",
       "    </tr>\n",
       "    <tr>\n",
       "      <th>9</th>\n",
       "      <td>15.778126</td>\n",
       "      <td>3.428494</td>\n",
       "      <td>0.794476</td>\n",
       "      <td>1.000000</td>\n",
       "      <td>100</td>\n",
       "      <td>{'n_estimators': 100}</td>\n",
       "      <td>5</td>\n",
       "      <td>0.794517</td>\n",
       "      <td>1.000000</td>\n",
       "      <td>0.791970</td>\n",
       "      <td>1.000000</td>\n",
       "      <td>0.796942</td>\n",
       "      <td>1.000000</td>\n",
       "      <td>1.351707</td>\n",
       "      <td>1.163521</td>\n",
       "      <td>0.002030</td>\n",
       "      <td>0.000000</td>\n",
       "    </tr>\n",
       "    <tr>\n",
       "      <th>7</th>\n",
       "      <td>11.270192</td>\n",
       "      <td>4.496298</td>\n",
       "      <td>0.793143</td>\n",
       "      <td>1.000000</td>\n",
       "      <td>80</td>\n",
       "      <td>{'n_estimators': 80}</td>\n",
       "      <td>7</td>\n",
       "      <td>0.791518</td>\n",
       "      <td>1.000000</td>\n",
       "      <td>0.793828</td>\n",
       "      <td>1.000000</td>\n",
       "      <td>0.794084</td>\n",
       "      <td>1.000000</td>\n",
       "      <td>0.991523</td>\n",
       "      <td>0.178800</td>\n",
       "      <td>0.001154</td>\n",
       "      <td>0.000000</td>\n",
       "    </tr>\n",
       "    <tr>\n",
       "      <th>6</th>\n",
       "      <td>11.928091</td>\n",
       "      <td>1.834425</td>\n",
       "      <td>0.791048</td>\n",
       "      <td>1.000000</td>\n",
       "      <td>70</td>\n",
       "      <td>{'n_estimators': 70}</td>\n",
       "      <td>8</td>\n",
       "      <td>0.790376</td>\n",
       "      <td>1.000000</td>\n",
       "      <td>0.791113</td>\n",
       "      <td>1.000000</td>\n",
       "      <td>0.791655</td>\n",
       "      <td>1.000000</td>\n",
       "      <td>0.192424</td>\n",
       "      <td>0.028863</td>\n",
       "      <td>0.000524</td>\n",
       "      <td>0.000000</td>\n",
       "    </tr>\n",
       "    <tr>\n",
       "      <th>5</th>\n",
       "      <td>9.591010</td>\n",
       "      <td>3.212407</td>\n",
       "      <td>0.787476</td>\n",
       "      <td>1.000000</td>\n",
       "      <td>60</td>\n",
       "      <td>{'n_estimators': 60}</td>\n",
       "      <td>9</td>\n",
       "      <td>0.785092</td>\n",
       "      <td>1.000000</td>\n",
       "      <td>0.786398</td>\n",
       "      <td>1.000000</td>\n",
       "      <td>0.790940</td>\n",
       "      <td>1.000000</td>\n",
       "      <td>0.665965</td>\n",
       "      <td>0.564890</td>\n",
       "      <td>0.002506</td>\n",
       "      <td>0.000000</td>\n",
       "    </tr>\n",
       "    <tr>\n",
       "      <th>4</th>\n",
       "      <td>6.794490</td>\n",
       "      <td>2.622984</td>\n",
       "      <td>0.784714</td>\n",
       "      <td>0.999952</td>\n",
       "      <td>50</td>\n",
       "      <td>{'n_estimators': 50}</td>\n",
       "      <td>10</td>\n",
       "      <td>0.780665</td>\n",
       "      <td>0.999929</td>\n",
       "      <td>0.784255</td>\n",
       "      <td>0.999929</td>\n",
       "      <td>0.789225</td>\n",
       "      <td>1.000000</td>\n",
       "      <td>0.550546</td>\n",
       "      <td>1.319092</td>\n",
       "      <td>0.003510</td>\n",
       "      <td>0.000034</td>\n",
       "    </tr>\n",
       "    <tr>\n",
       "      <th>3</th>\n",
       "      <td>6.134922</td>\n",
       "      <td>1.914214</td>\n",
       "      <td>0.781476</td>\n",
       "      <td>0.999952</td>\n",
       "      <td>40</td>\n",
       "      <td>{'n_estimators': 40}</td>\n",
       "      <td>11</td>\n",
       "      <td>0.777810</td>\n",
       "      <td>0.999929</td>\n",
       "      <td>0.778111</td>\n",
       "      <td>0.999929</td>\n",
       "      <td>0.788511</td>\n",
       "      <td>1.000000</td>\n",
       "      <td>0.754823</td>\n",
       "      <td>0.378247</td>\n",
       "      <td>0.004975</td>\n",
       "      <td>0.000034</td>\n",
       "    </tr>\n",
       "    <tr>\n",
       "      <th>2</th>\n",
       "      <td>4.496637</td>\n",
       "      <td>2.172190</td>\n",
       "      <td>0.769667</td>\n",
       "      <td>0.999929</td>\n",
       "      <td>30</td>\n",
       "      <td>{'n_estimators': 30}</td>\n",
       "      <td>12</td>\n",
       "      <td>0.764101</td>\n",
       "      <td>0.999857</td>\n",
       "      <td>0.768824</td>\n",
       "      <td>0.999929</td>\n",
       "      <td>0.776079</td>\n",
       "      <td>1.000000</td>\n",
       "      <td>0.325128</td>\n",
       "      <td>0.020777</td>\n",
       "      <td>0.004926</td>\n",
       "      <td>0.000058</td>\n",
       "    </tr>\n",
       "    <tr>\n",
       "      <th>1</th>\n",
       "      <td>1.840076</td>\n",
       "      <td>0.851390</td>\n",
       "      <td>0.755571</td>\n",
       "      <td>0.999524</td>\n",
       "      <td>20</td>\n",
       "      <td>{'n_estimators': 20}</td>\n",
       "      <td>13</td>\n",
       "      <td>0.752820</td>\n",
       "      <td>0.999571</td>\n",
       "      <td>0.752393</td>\n",
       "      <td>0.999214</td>\n",
       "      <td>0.761503</td>\n",
       "      <td>0.999786</td>\n",
       "      <td>0.305029</td>\n",
       "      <td>0.162990</td>\n",
       "      <td>0.004197</td>\n",
       "      <td>0.000236</td>\n",
       "    </tr>\n",
       "    <tr>\n",
       "      <th>0</th>\n",
       "      <td>1.119002</td>\n",
       "      <td>0.398269</td>\n",
       "      <td>0.719429</td>\n",
       "      <td>0.995905</td>\n",
       "      <td>10</td>\n",
       "      <td>{'n_estimators': 10}</td>\n",
       "      <td>14</td>\n",
       "      <td>0.713837</td>\n",
       "      <td>0.996142</td>\n",
       "      <td>0.717674</td>\n",
       "      <td>0.995857</td>\n",
       "      <td>0.726779</td>\n",
       "      <td>0.995715</td>\n",
       "      <td>0.104789</td>\n",
       "      <td>0.104845</td>\n",
       "      <td>0.005427</td>\n",
       "      <td>0.000178</td>\n",
       "    </tr>\n",
       "  </tbody>\n",
       "</table>\n",
       "</div>"
      ],
      "text/plain": [
       "    mean_fit_time  mean_score_time  mean_test_score  mean_train_score  \\\n",
       "13      19.292059         1.149590         0.796762          1.000000   \n",
       "12      19.672376         3.783545         0.796000          1.000000   \n",
       "11      21.318638         3.072779         0.795381          1.000000   \n",
       "10      17.716274         4.665519         0.794857          1.000000   \n",
       "8       15.525800         2.744658         0.794476          1.000000   \n",
       "9       15.778126         3.428494         0.794476          1.000000   \n",
       "7       11.270192         4.496298         0.793143          1.000000   \n",
       "6       11.928091         1.834425         0.791048          1.000000   \n",
       "5        9.591010         3.212407         0.787476          1.000000   \n",
       "4        6.794490         2.622984         0.784714          0.999952   \n",
       "3        6.134922         1.914214         0.781476          0.999952   \n",
       "2        4.496637         2.172190         0.769667          0.999929   \n",
       "1        1.840076         0.851390         0.755571          0.999524   \n",
       "0        1.119002         0.398269         0.719429          0.995905   \n",
       "\n",
       "   param_n_estimators                 params  rank_test_score  \\\n",
       "13                140  {'n_estimators': 140}                1   \n",
       "12                130  {'n_estimators': 130}                2   \n",
       "11                120  {'n_estimators': 120}                3   \n",
       "10                110  {'n_estimators': 110}                4   \n",
       "8                  90   {'n_estimators': 90}                5   \n",
       "9                 100  {'n_estimators': 100}                5   \n",
       "7                  80   {'n_estimators': 80}                7   \n",
       "6                  70   {'n_estimators': 70}                8   \n",
       "5                  60   {'n_estimators': 60}                9   \n",
       "4                  50   {'n_estimators': 50}               10   \n",
       "3                  40   {'n_estimators': 40}               11   \n",
       "2                  30   {'n_estimators': 30}               12   \n",
       "1                  20   {'n_estimators': 20}               13   \n",
       "0                  10   {'n_estimators': 10}               14   \n",
       "\n",
       "    split0_test_score  split0_train_score  split1_test_score  \\\n",
       "13           0.794802            1.000000           0.797543   \n",
       "12           0.794374            1.000000           0.796114   \n",
       "11           0.792089            1.000000           0.795685   \n",
       "10           0.793231            1.000000           0.794971   \n",
       "8            0.793231            1.000000           0.794971   \n",
       "9            0.794517            1.000000           0.791970   \n",
       "7            0.791518            1.000000           0.793828   \n",
       "6            0.790376            1.000000           0.791113   \n",
       "5            0.785092            1.000000           0.786398   \n",
       "4            0.780665            0.999929           0.784255   \n",
       "3            0.777810            0.999929           0.778111   \n",
       "2            0.764101            0.999857           0.768824   \n",
       "1            0.752820            0.999571           0.752393   \n",
       "0            0.713837            0.996142           0.717674   \n",
       "\n",
       "    split1_train_score  split2_test_score  split2_train_score  std_fit_time  \\\n",
       "13            1.000000           0.797942            1.000000      0.240707   \n",
       "12            1.000000           0.797514            1.000000      0.964979   \n",
       "11            1.000000           0.798371            1.000000      0.544133   \n",
       "10            1.000000           0.796370            1.000000      1.146288   \n",
       "8             1.000000           0.795227            1.000000      0.542561   \n",
       "9             1.000000           0.796942            1.000000      1.351707   \n",
       "7             1.000000           0.794084            1.000000      0.991523   \n",
       "6             1.000000           0.791655            1.000000      0.192424   \n",
       "5             1.000000           0.790940            1.000000      0.665965   \n",
       "4             0.999929           0.789225            1.000000      0.550546   \n",
       "3             0.999929           0.788511            1.000000      0.754823   \n",
       "2             0.999929           0.776079            1.000000      0.325128   \n",
       "1             0.999214           0.761503            0.999786      0.305029   \n",
       "0             0.995857           0.726779            0.995715      0.104789   \n",
       "\n",
       "    std_score_time  std_test_score  std_train_score  \n",
       "13        0.429854        0.001396         0.000000  \n",
       "12        0.598431        0.001284         0.000000  \n",
       "11        0.219600        0.002574         0.000000  \n",
       "10        0.681305        0.001284         0.000000  \n",
       "8         0.326609        0.000887         0.000000  \n",
       "9         1.163521        0.002030         0.000000  \n",
       "7         0.178800        0.001154         0.000000  \n",
       "6         0.028863        0.000524         0.000000  \n",
       "5         0.564890        0.002506         0.000000  \n",
       "4         1.319092        0.003510         0.000034  \n",
       "3         0.378247        0.004975         0.000034  \n",
       "2         0.020777        0.004926         0.000058  \n",
       "1         0.162990        0.004197         0.000236  \n",
       "0         0.104845        0.005427         0.000178  "
      ]
     },
     "execution_count": 7,
     "metadata": {},
     "output_type": "execute_result"
    }
   ],
   "source": [
    "# Tuning number of estimators in the ensemble method\n",
    "parameters = {'n_estimators': np.arange(10,150,10)}\n",
    "rfc = RandomForestClassifier(random_state=1, n_jobs=-1)\n",
    "rfc_gs = GridSearchCV(rfc, parameters, n_jobs=-1)\n",
    "rfc_gs.fit(X_train, y_train)\n",
    "\n",
    "results_rfc_gs = pd.DataFrame(rfc_gs.cv_results_)\n",
    "results_rfc_gs.sort_values('mean_test_score', ascending = False)"
   ]
  },
  {
   "cell_type": "code",
   "execution_count": 8,
   "metadata": {},
   "outputs": [
    {
     "data": {
      "text/plain": [
       "<matplotlib.axes._subplots.AxesSubplot at 0x28e568ea978>"
      ]
     },
     "execution_count": 8,
     "metadata": {},
     "output_type": "execute_result"
    },
    {
     "data": {
      "image/png": "[encoded data removed]",
      "text/plain": [
       "<matplotlib.figure.Figure at 0x28e557d5978>"
      ]
     },
     "metadata": {},
     "output_type": "display_data"
    }
   ],
   "source": [
    "# Plot results of grid search\n",
    "results_rfc_gs.plot('param_n_estimators','mean_test_score')"
   ]
  },
  {
   "cell_type": "code",
   "execution_count": 9,
   "metadata": {},
   "outputs": [
    {
     "data": {
      "text/html": [
       "<div>\n",
       "<style>\n",
       "    .dataframe thead tr:only-child th {\n",
       "        text-align: right;\n",
       "    }\n",
       "\n",
       "    .dataframe thead th {\n",
       "        text-align: left;\n",
       "    }\n",
       "\n",
       "    .dataframe tbody tr th {\n",
       "        vertical-align: top;\n",
       "    }\n",
       "</style>\n",
       "<table border=\"1\" class=\"dataframe\">\n",
       "  <thead>\n",
       "    <tr style=\"text-align: right;\">\n",
       "      <th></th>\n",
       "      <th>mean_fit_time</th>\n",
       "      <th>mean_score_time</th>\n",
       "      <th>mean_test_score</th>\n",
       "      <th>mean_train_score</th>\n",
       "      <th>param_max_features</th>\n",
       "      <th>params</th>\n",
       "      <th>rank_test_score</th>\n",
       "      <th>split0_test_score</th>\n",
       "      <th>split0_train_score</th>\n",
       "      <th>split1_test_score</th>\n",
       "      <th>split1_train_score</th>\n",
       "      <th>split2_test_score</th>\n",
       "      <th>split2_train_score</th>\n",
       "      <th>std_fit_time</th>\n",
       "      <th>std_score_time</th>\n",
       "      <th>std_test_score</th>\n",
       "      <th>std_train_score</th>\n",
       "    </tr>\n",
       "  </thead>\n",
       "  <tbody>\n",
       "    <tr>\n",
       "      <th>0</th>\n",
       "      <td>9.442740</td>\n",
       "      <td>5.410194</td>\n",
       "      <td>0.792476</td>\n",
       "      <td>1.0</td>\n",
       "      <td>sqrt</td>\n",
       "      <td>{'max_features': 'sqrt'}</td>\n",
       "      <td>1</td>\n",
       "      <td>0.790661</td>\n",
       "      <td>1.0</td>\n",
       "      <td>0.793399</td>\n",
       "      <td>1.0</td>\n",
       "      <td>0.793370</td>\n",
       "      <td>1.0</td>\n",
       "      <td>2.745044</td>\n",
       "      <td>0.540342</td>\n",
       "      <td>0.001284</td>\n",
       "      <td>0.0</td>\n",
       "    </tr>\n",
       "    <tr>\n",
       "      <th>1</th>\n",
       "      <td>35.379024</td>\n",
       "      <td>5.562453</td>\n",
       "      <td>0.791952</td>\n",
       "      <td>1.0</td>\n",
       "      <td>0.1</td>\n",
       "      <td>{'max_features': 0.1}</td>\n",
       "      <td>2</td>\n",
       "      <td>0.791804</td>\n",
       "      <td>1.0</td>\n",
       "      <td>0.791685</td>\n",
       "      <td>1.0</td>\n",
       "      <td>0.792369</td>\n",
       "      <td>1.0</td>\n",
       "      <td>1.845104</td>\n",
       "      <td>0.582647</td>\n",
       "      <td>0.000299</td>\n",
       "      <td>0.0</td>\n",
       "    </tr>\n",
       "    <tr>\n",
       "      <th>2</th>\n",
       "      <td>96.980901</td>\n",
       "      <td>3.734677</td>\n",
       "      <td>0.787381</td>\n",
       "      <td>1.0</td>\n",
       "      <td>0.3</td>\n",
       "      <td>{'max_features': 0.3}</td>\n",
       "      <td>3</td>\n",
       "      <td>0.783236</td>\n",
       "      <td>1.0</td>\n",
       "      <td>0.786541</td>\n",
       "      <td>1.0</td>\n",
       "      <td>0.792369</td>\n",
       "      <td>1.0</td>\n",
       "      <td>2.239400</td>\n",
       "      <td>0.641036</td>\n",
       "      <td>0.003776</td>\n",
       "      <td>0.0</td>\n",
       "    </tr>\n",
       "    <tr>\n",
       "      <th>3</th>\n",
       "      <td>115.514322</td>\n",
       "      <td>0.529917</td>\n",
       "      <td>0.780429</td>\n",
       "      <td>1.0</td>\n",
       "      <td>0.5</td>\n",
       "      <td>{'max_features': 0.5}</td>\n",
       "      <td>4</td>\n",
       "      <td>0.774954</td>\n",
       "      <td>1.0</td>\n",
       "      <td>0.781683</td>\n",
       "      <td>1.0</td>\n",
       "      <td>0.784653</td>\n",
       "      <td>1.0</td>\n",
       "      <td>9.688215</td>\n",
       "      <td>0.283916</td>\n",
       "      <td>0.004058</td>\n",
       "      <td>0.0</td>\n",
       "    </tr>\n",
       "  </tbody>\n",
       "</table>\n",
       "</div>"
      ],
      "text/plain": [
       "   mean_fit_time  mean_score_time  mean_test_score  mean_train_score  \\\n",
       "0       9.442740         5.410194         0.792476               1.0   \n",
       "1      35.379024         5.562453         0.791952               1.0   \n",
       "2      96.980901         3.734677         0.787381               1.0   \n",
       "3     115.514322         0.529917         0.780429               1.0   \n",
       "\n",
       "  param_max_features                    params  rank_test_score  \\\n",
       "0               sqrt  {'max_features': 'sqrt'}                1   \n",
       "1                0.1     {'max_features': 0.1}                2   \n",
       "2                0.3     {'max_features': 0.3}                3   \n",
       "3                0.5     {'max_features': 0.5}                4   \n",
       "\n",
       "   split0_test_score  split0_train_score  split1_test_score  \\\n",
       "0           0.790661                 1.0           0.793399   \n",
       "1           0.791804                 1.0           0.791685   \n",
       "2           0.783236                 1.0           0.786541   \n",
       "3           0.774954                 1.0           0.781683   \n",
       "\n",
       "   split1_train_score  split2_test_score  split2_train_score  std_fit_time  \\\n",
       "0                 1.0           0.793370                 1.0      2.745044   \n",
       "1                 1.0           0.792369                 1.0      1.845104   \n",
       "2                 1.0           0.792369                 1.0      2.239400   \n",
       "3                 1.0           0.784653                 1.0      9.688215   \n",
       "\n",
       "   std_score_time  std_test_score  std_train_score  \n",
       "0        0.540342        0.001284              0.0  \n",
       "1        0.582647        0.000299              0.0  \n",
       "2        0.641036        0.003776              0.0  \n",
       "3        0.283916        0.004058              0.0  "
      ]
     },
     "execution_count": 9,
     "metadata": {},
     "output_type": "execute_result"
    }
   ],
   "source": [
    "# Tuning max features\n",
    "parameters = {'max_features':['sqrt',.1,.3,.5]}\n",
    "\n",
    "rfc = RandomForestClassifier(n_estimators= 80, random_state=1, n_jobs=-1)\n",
    "rfc_gs = GridSearchCV(rfc, parameters, n_jobs=-1)\n",
    "rfc_gs.fit(X_train, y_train)\n",
    "\n",
    "results_rfc_gs = pd.DataFrame(rfc_gs.cv_results_)\n",
    "results_rfc_gs.sort_values('mean_test_score', ascending = False)"
   ]
  },
  {
   "cell_type": "code",
   "execution_count": 10,
   "metadata": {},
   "outputs": [
    {
     "data": {
      "text/plain": [
       "<matplotlib.axes._subplots.AxesSubplot at 0x28e568fe128>"
      ]
     },
     "execution_count": 10,
     "metadata": {},
     "output_type": "execute_result"
    },
    {
     "data": {
      "image/png": "[encoded data removed]",
      "text/plain": [
       "<matplotlib.figure.Figure at 0x28e58c0f320>"
      ]
     },
     "metadata": {},
     "output_type": "display_data"
    }
   ],
   "source": [
    "# Plot results of grid search\n",
    "results_rfc_gs.plot('param_max_features','mean_test_score')"
   ]
  },
  {
   "cell_type": "code",
   "execution_count": 11,
   "metadata": {},
   "outputs": [
    {
     "name": "stdout",
     "output_type": "stream",
     "text": [
      "Random forest accuracy:  0.804777777778\n"
     ]
    }
   ],
   "source": [
    "# Modeling RFC with best hyper-parameters\n",
    "rfc = RandomForestClassifier(n_estimators=80, max_features='sqrt', random_state=1, n_jobs=-1)\n",
    "rfc.fit(X_train, y_train)\n",
    "y_pred_rfc = rfc.predict(X_test)\n",
    "acc_rfc = accuracy_score(y_test, y_pred_rfc)\n",
    "print ('Random forest accuracy: ',acc_rfc)"
   ]
  },
  {
   "cell_type": "code",
   "execution_count": 12,
   "metadata": {},
   "outputs": [
    {
     "data": {
      "text/plain": [
       "<matplotlib.colorbar.Colorbar at 0x28e58cb97b8>"
      ]
     },
     "execution_count": 12,
     "metadata": {},
     "output_type": "execute_result"
    },
    {
     "data": {
      "image/png": "[encoded data removed]",
      "text/plain": [
       "<matplotlib.figure.Figure at 0x28e58c24898>"
      ]
     },
     "metadata": {},
     "output_type": "display_data"
    }
   ],
   "source": [
    "# Seeing what pixels are the most important in deciding the label\n",
    "importances = rfc.feature_importances_\n",
    "importances = importances.reshape((28,28))\n",
    "fig = plt.matshow(importances, cmap=plt.cm.hot)\n",
    "plt.title('Pixel importances\\n')\n",
    "plt.colorbar()"
   ]
  },
  {
   "cell_type": "markdown",
   "metadata": {},
   "source": [
    "The random forest had an accuracy score very close to the k-nn model. The features that are most important are on the edge and in the middle of each side.\n",
    "\n",
    "## Support Vector Machine \n",
    "SVM classification uses planes in space to divide data points. We can compared a linear divider a non-linear divider\n",
    "\n",
    "\n",
    "#### LinearSVC"
   ]
  },
  {
   "cell_type": "code",
   "execution_count": 13,
   "metadata": {},
   "outputs": [
    {
     "name": "stdout",
     "output_type": "stream",
     "text": [
      "LinearSVC(C=1.0, class_weight=None, dual=True, fit_intercept=True,\n",
      "     intercept_scaling=1, loss='squared_hinge', max_iter=1000,\n",
      "     multi_class='ovr', penalty='l2', random_state=1, tol=0.0001,\n",
      "     verbose=0)\n",
      "Linear SVC accuracy:  0.717777777778\n"
     ]
    }
   ],
   "source": [
    "lsvc = LinearSVC(random_state=1)\n",
    "lsvc.fit(X_train, y_train)\n",
    "print(lsvc)\n",
    "y_pred_lsvc = lsvc.predict(X_test)\n",
    "acc_lsvc = accuracy_score(y_test, y_pred_lsvc)\n",
    "print('Linear SVC accuracy: ',acc_lsvc)"
   ]
  },
  {
   "cell_type": "markdown",
   "metadata": {},
   "source": [
    "#### Non-Linear SVM (Radial Basis Function)"
   ]
  },
  {
   "cell_type": "code",
   "execution_count": 14,
   "metadata": {},
   "outputs": [
    {
     "name": "stdout",
     "output_type": "stream",
     "text": [
      "SVC(C=1.0, cache_size=200, class_weight=None, coef0=0.0,\n",
      "  decision_function_shape='ovr', degree=3, gamma='auto', kernel='rbf',\n",
      "  max_iter=-1, probability=False, random_state=1, shrinking=True,\n",
      "  tol=0.001, verbose=False)\n",
      "Gaussian Radial Basis Function SVC Accuracy:  0.781555555556\n"
     ]
    }
   ],
   "source": [
    "svc = SVC(kernel='rbf', random_state=1) \n",
    "svc.fit(X_train, y_train)\n",
    "print(svc)\n",
    "y_pred_svc = svc.predict(X_test)\n",
    "acc_svc = accuracy_score(y_test, y_pred_svc)\n",
    "print ('Gaussian Radial Basis Function SVC Accuracy: ',acc_svc)"
   ]
  },
  {
   "cell_type": "markdown",
   "metadata": {},
   "source": [
    "## Multi-Layer Perceptron\n",
    "\n",
    "A perceptron is a neural network with a very basic architecture. This will be good to compare against the convolutional neural network. Neural Networks receive an input (a single vector), and transform it through a series of hidden layers. Each hidden layer is made up of a set of neurons, where each neuron is fully connected to all neurons in the previous layer, and where neurons in a single layer function completely independently and do not share any connections. The last fully-connected layer is called the “output layer” and in classification settings it represents the class scores.\n",
    "\n",
    "For tuning the hyper-parameters for a Multi-Layer Perceptron, we can try different number of layers and number of neurons in each layer. The default activiation function (ReLu) is the most effective choice from sklearn and the the defualt optimization algorithm (adam) is the best choice due to the size of our dataset. "
   ]
  },
  {
   "cell_type": "code",
   "execution_count": 15,
   "metadata": {},
   "outputs": [
    {
     "name": "stdout",
     "output_type": "stream",
     "text": [
      "MLPClassifier(activation='relu', alpha=0.0001, batch_size='auto', beta_1=0.9,\n",
      "       beta_2=0.999, early_stopping=False, epsilon=1e-08,\n",
      "       hidden_layer_sizes=(100,), learning_rate='constant',\n",
      "       learning_rate_init=0.001, max_iter=200, momentum=0.9,\n",
      "       nesterovs_momentum=True, power_t=0.5, random_state=1, shuffle=True,\n",
      "       solver='adam', tol=0.0001, validation_fraction=0.1, verbose=False,\n",
      "       warm_start=False)\n",
      "mlp accuracy:  0.809888888889\n"
     ]
    }
   ],
   "source": [
    "# Base model\n",
    "mlp = MLPClassifier(random_state=1)\n",
    "mlp.fit(X_train, y_train)\n",
    "print(mlp)\n",
    "y_pred_mlp = mlp.predict(X_test)\n",
    "acc_mlp = accuracy_score(y_test, y_pred_mlp)\n",
    "print ('mlp accuracy: ',acc_mlp)"
   ]
  },
  {
   "cell_type": "code",
   "execution_count": 16,
   "metadata": {},
   "outputs": [
    {
     "data": {
      "text/html": [
       "<div>\n",
       "<style>\n",
       "    .dataframe thead tr:only-child th {\n",
       "        text-align: right;\n",
       "    }\n",
       "\n",
       "    .dataframe thead th {\n",
       "        text-align: left;\n",
       "    }\n",
       "\n",
       "    .dataframe tbody tr th {\n",
       "        vertical-align: top;\n",
       "    }\n",
       "</style>\n",
       "<table border=\"1\" class=\"dataframe\">\n",
       "  <thead>\n",
       "    <tr style=\"text-align: right;\">\n",
       "      <th></th>\n",
       "      <th>mean_fit_time</th>\n",
       "      <th>mean_score_time</th>\n",
       "      <th>mean_test_score</th>\n",
       "      <th>mean_train_score</th>\n",
       "      <th>param_hidden_layer_sizes</th>\n",
       "      <th>params</th>\n",
       "      <th>rank_test_score</th>\n",
       "      <th>split0_test_score</th>\n",
       "      <th>split0_train_score</th>\n",
       "      <th>split1_test_score</th>\n",
       "      <th>split1_train_score</th>\n",
       "      <th>split2_test_score</th>\n",
       "      <th>split2_train_score</th>\n",
       "      <th>std_fit_time</th>\n",
       "      <th>std_score_time</th>\n",
       "      <th>std_test_score</th>\n",
       "      <th>std_train_score</th>\n",
       "    </tr>\n",
       "  </thead>\n",
       "  <tbody>\n",
       "    <tr>\n",
       "      <th>1</th>\n",
       "      <td>429.114419</td>\n",
       "      <td>0.230383</td>\n",
       "      <td>0.829905</td>\n",
       "      <td>0.999857</td>\n",
       "      <td>(784,)</td>\n",
       "      <td>{'hidden_layer_sizes': (784,)}</td>\n",
       "      <td>1</td>\n",
       "      <td>0.828788</td>\n",
       "      <td>1.000000</td>\n",
       "      <td>0.830547</td>\n",
       "      <td>0.999714</td>\n",
       "      <td>0.830380</td>\n",
       "      <td>0.999857</td>\n",
       "      <td>11.424963</td>\n",
       "      <td>0.053379</td>\n",
       "      <td>0.000793</td>\n",
       "      <td>0.000117</td>\n",
       "    </tr>\n",
       "    <tr>\n",
       "      <th>0</th>\n",
       "      <td>233.408281</td>\n",
       "      <td>0.076132</td>\n",
       "      <td>0.796714</td>\n",
       "      <td>0.998000</td>\n",
       "      <td>(100,)</td>\n",
       "      <td>{'hidden_layer_sizes': (100,)}</td>\n",
       "      <td>2</td>\n",
       "      <td>0.795088</td>\n",
       "      <td>1.000000</td>\n",
       "      <td>0.794113</td>\n",
       "      <td>0.998072</td>\n",
       "      <td>0.800943</td>\n",
       "      <td>0.995929</td>\n",
       "      <td>65.416715</td>\n",
       "      <td>0.004772</td>\n",
       "      <td>0.003016</td>\n",
       "      <td>0.001663</td>\n",
       "    </tr>\n",
       "    <tr>\n",
       "      <th>2</th>\n",
       "      <td>210.363594</td>\n",
       "      <td>0.111370</td>\n",
       "      <td>0.796619</td>\n",
       "      <td>0.977883</td>\n",
       "      <td>(100, 100)</td>\n",
       "      <td>{'hidden_layer_sizes': (100, 100)}</td>\n",
       "      <td>3</td>\n",
       "      <td>0.794802</td>\n",
       "      <td>1.000000</td>\n",
       "      <td>0.799686</td>\n",
       "      <td>0.934790</td>\n",
       "      <td>0.795370</td>\n",
       "      <td>0.998857</td>\n",
       "      <td>87.118083</td>\n",
       "      <td>0.004907</td>\n",
       "      <td>0.002181</td>\n",
       "      <td>0.030474</td>\n",
       "    </tr>\n",
       "    <tr>\n",
       "      <th>3</th>\n",
       "      <td>166.001598</td>\n",
       "      <td>0.106050</td>\n",
       "      <td>0.782476</td>\n",
       "      <td>0.970644</td>\n",
       "      <td>(100, 100, 100)</td>\n",
       "      <td>{'hidden_layer_sizes': (100, 100, 100)}</td>\n",
       "      <td>4</td>\n",
       "      <td>0.777524</td>\n",
       "      <td>0.979853</td>\n",
       "      <td>0.787255</td>\n",
       "      <td>0.989144</td>\n",
       "      <td>0.782652</td>\n",
       "      <td>0.942937</td>\n",
       "      <td>33.899260</td>\n",
       "      <td>0.016375</td>\n",
       "      <td>0.003975</td>\n",
       "      <td>0.019956</td>\n",
       "    </tr>\n",
       "  </tbody>\n",
       "</table>\n",
       "</div>"
      ],
      "text/plain": [
       "   mean_fit_time  mean_score_time  mean_test_score  mean_train_score  \\\n",
       "1     429.114419         0.230383         0.829905          0.999857   \n",
       "0     233.408281         0.076132         0.796714          0.998000   \n",
       "2     210.363594         0.111370         0.796619          0.977883   \n",
       "3     166.001598         0.106050         0.782476          0.970644   \n",
       "\n",
       "  param_hidden_layer_sizes                                   params  \\\n",
       "1                   (784,)           {'hidden_layer_sizes': (784,)}   \n",
       "0                   (100,)           {'hidden_layer_sizes': (100,)}   \n",
       "2               (100, 100)       {'hidden_layer_sizes': (100, 100)}   \n",
       "3          (100, 100, 100)  {'hidden_layer_sizes': (100, 100, 100)}   \n",
       "\n",
       "   rank_test_score  split0_test_score  split0_train_score  split1_test_score  \\\n",
       "1                1           0.828788            1.000000           0.830547   \n",
       "0                2           0.795088            1.000000           0.794113   \n",
       "2                3           0.794802            1.000000           0.799686   \n",
       "3                4           0.777524            0.979853           0.787255   \n",
       "\n",
       "   split1_train_score  split2_test_score  split2_train_score  std_fit_time  \\\n",
       "1            0.999714           0.830380            0.999857     11.424963   \n",
       "0            0.998072           0.800943            0.995929     65.416715   \n",
       "2            0.934790           0.795370            0.998857     87.118083   \n",
       "3            0.989144           0.782652            0.942937     33.899260   \n",
       "\n",
       "   std_score_time  std_test_score  std_train_score  \n",
       "1        0.053379        0.000793         0.000117  \n",
       "0        0.004772        0.003016         0.001663  \n",
       "2        0.004907        0.002181         0.030474  \n",
       "3        0.016375        0.003975         0.019956  "
      ]
     },
     "execution_count": 16,
     "metadata": {},
     "output_type": "execute_result"
    }
   ],
   "source": [
    "parameters = {'hidden_layer_sizes' : [(100,),(784,), (100,100),(100,100,100)] }\n",
    "\n",
    "mlp = MLPClassifier(random_state=1)\n",
    "mlp = GridSearchCV(mlp, parameters, n_jobs=-1)\n",
    "mlp.fit(X_train, y_train)\n",
    "\n",
    "results=pd.DataFrame(mlp.cv_results_)\n",
    "results.sort_values('mean_test_score', ascending = False)"
   ]
  },
  {
   "cell_type": "markdown",
   "metadata": {},
   "source": [
    "## Convolutional Neural Networks (CNN / ConvNet)\n",
    "\n",
    "The Convolutional Neural Network architectures make the explicit assumption that the inputs are images, which allows us to encode certain properties into the architecture. These then make the forward function more efficient to implement and vastly reduce the amount of parameters in the network."
   ]
  },
  {
   "cell_type": "code",
   "execution_count": 17,
   "metadata": {},
   "outputs": [
    {
     "name": "stderr",
     "output_type": "stream",
     "text": [
      "Using TensorFlow backend.\n"
     ]
    }
   ],
   "source": [
    "import keras\n",
    "from keras import backend as K\n",
    "from keras.utils import np_utils\n",
    "from keras.models import Sequential\n",
    "from keras.layers import Dense, Dropout, Flatten\n",
    "from keras.layers import Conv2D, MaxPooling2D\n",
    "from IPython.display import SVG\n",
    "from keras.utils.vis_utils import model_to_dot"
   ]
  },
  {
   "cell_type": "code",
   "execution_count": 18,
   "metadata": {},
   "outputs": [],
   "source": [
    "# one hot encode outputs\n",
    "y_train_cnn = np_utils.to_categorical(y_train)\n",
    "y_test_cnn = np_utils.to_categorical(y_test)\n",
    "num_classes = y_test_cnn.shape[1]\n",
    "\n",
    "# reshape to be [samples][width][height][pixels] \n",
    "X_train_cnn = X_train.reshape(X_train.shape[0], 28, 28, 1).astype('float32')\n",
    "X_test_cnn = X_test.reshape(X_test.shape[0], 28, 28, 1).astype('float32')"
   ]
  },
  {
   "cell_type": "code",
   "execution_count": 19,
   "metadata": {},
   "outputs": [],
   "source": [
    "model = Sequential()\n",
    "model.add(Conv2D(32, kernel_size=(5,5), activation='relu',input_shape=(28, 28, 1)))\n",
    "model.add(Conv2D(64, (3,3), activation='relu'))\n",
    "model.add(MaxPooling2D(pool_size=(2, 2)))\n",
    "model.add(Dropout(0.25))\n",
    "model.add(Flatten())\n",
    "model.add(Dense(128, activation='relu'))\n",
    "model.add(Dropout(0.5))\n",
    "model.add(Dense(num_classes, activation='softmax'))"
   ]
  },
  {
   "cell_type": "code",
   "execution_count": 20,
   "metadata": {},
   "outputs": [
    {
     "data": {
      "image/svg+xml": [
       "<svg height=\"719pt\" viewBox=\"0.00 0.00 392.00 719.00\" width=\"392pt\" xmlns=\"http://www.w3.org/2000/svg\" xmlns:xlink=\"http://www.w3.org/1999/xlink\">\n",
       "<g class=\"graph\" id=\"graph0\" transform=\"scale(1 1) rotate(0) translate(4 715)\">\n",
       "<title>G</title>\n",
       "<polygon fill=\"white\" points=\"-4,4 -4,-715 388,-715 388,4 -4,4\" stroke=\"none\"/>\n",
       "<!-- 2808953928056 -->\n",
       "<g class=\"node\" id=\"node1\"><title>2808953928056</title>\n",
       "<polygon fill=\"none\" points=\"20,-664.5 20,-710.5 364,-710.5 364,-664.5 20,-664.5\" stroke=\"black\"/>\n",
       "<text font-family=\"Times New Roman,serif\" font-size=\"14.00\" text-anchor=\"middle\" x=\"108\" y=\"-683.8\">conv2d_1_input: InputLayer</text>\n",
       "<polyline fill=\"none\" points=\"196,-664.5 196,-710.5 \" stroke=\"black\"/>\n",
       "<text font-family=\"Times New Roman,serif\" font-size=\"14.00\" text-anchor=\"middle\" x=\"224\" y=\"-695.3\">input:</text>\n",
       "<polyline fill=\"none\" points=\"196,-687.5 252,-687.5 \" stroke=\"black\"/>\n",
       "<text font-family=\"Times New Roman,serif\" font-size=\"14.00\" text-anchor=\"middle\" x=\"224\" y=\"-672.3\">output:</text>\n",
       "<polyline fill=\"none\" points=\"252,-664.5 252,-710.5 \" stroke=\"black\"/>\n",
       "<text font-family=\"Times New Roman,serif\" font-size=\"14.00\" text-anchor=\"middle\" x=\"308\" y=\"-695.3\">(None, 28, 28, 1)</text>\n",
       "<polyline fill=\"none\" points=\"252,-687.5 364,-687.5 \" stroke=\"black\"/>\n",
       "<text font-family=\"Times New Roman,serif\" font-size=\"14.00\" text-anchor=\"middle\" x=\"308\" y=\"-672.3\">(None, 28, 28, 1)</text>\n",
       "</g>\n",
       "<!-- 2810280337480 -->\n",
       "<g class=\"node\" id=\"node2\"><title>2810280337480</title>\n",
       "<polygon fill=\"none\" points=\"41,-581.5 41,-627.5 343,-627.5 343,-581.5 41,-581.5\" stroke=\"black\"/>\n",
       "<text font-family=\"Times New Roman,serif\" font-size=\"14.00\" text-anchor=\"middle\" x=\"104.5\" y=\"-600.8\">conv2d_1: Conv2D</text>\n",
       "<polyline fill=\"none\" points=\"168,-581.5 168,-627.5 \" stroke=\"black\"/>\n",
       "<text font-family=\"Times New Roman,serif\" font-size=\"14.00\" text-anchor=\"middle\" x=\"196\" y=\"-612.3\">input:</text>\n",
       "<polyline fill=\"none\" points=\"168,-604.5 224,-604.5 \" stroke=\"black\"/>\n",
       "<text font-family=\"Times New Roman,serif\" font-size=\"14.00\" text-anchor=\"middle\" x=\"196\" y=\"-589.3\">output:</text>\n",
       "<polyline fill=\"none\" points=\"224,-581.5 224,-627.5 \" stroke=\"black\"/>\n",
       "<text font-family=\"Times New Roman,serif\" font-size=\"14.00\" text-anchor=\"middle\" x=\"283.5\" y=\"-612.3\">(None, 28, 28, 1)</text>\n",
       "<polyline fill=\"none\" points=\"224,-604.5 343,-604.5 \" stroke=\"black\"/>\n",
       "<text font-family=\"Times New Roman,serif\" font-size=\"14.00\" text-anchor=\"middle\" x=\"283.5\" y=\"-589.3\">(None, 24, 24, 32)</text>\n",
       "</g>\n",
       "<!-- 2808953928056&#45;&gt;2810280337480 -->\n",
       "<g class=\"edge\" id=\"edge1\"><title>2808953928056-&gt;2810280337480</title>\n",
       "<path d=\"M192,-664.366C192,-656.152 192,-646.658 192,-637.725\" fill=\"none\" stroke=\"black\"/>\n",
       "<polygon fill=\"black\" points=\"195.5,-637.607 192,-627.607 188.5,-637.607 195.5,-637.607\" stroke=\"black\"/>\n",
       "</g>\n",
       "<!-- 2808953892368 -->\n",
       "<g class=\"node\" id=\"node3\"><title>2808953892368</title>\n",
       "<polygon fill=\"none\" points=\"41,-498.5 41,-544.5 343,-544.5 343,-498.5 41,-498.5\" stroke=\"black\"/>\n",
       "<text font-family=\"Times New Roman,serif\" font-size=\"14.00\" text-anchor=\"middle\" x=\"104.5\" y=\"-517.8\">conv2d_2: Conv2D</text>\n",
       "<polyline fill=\"none\" points=\"168,-498.5 168,-544.5 \" stroke=\"black\"/>\n",
       "<text font-family=\"Times New Roman,serif\" font-size=\"14.00\" text-anchor=\"middle\" x=\"196\" y=\"-529.3\">input:</text>\n",
       "<polyline fill=\"none\" points=\"168,-521.5 224,-521.5 \" stroke=\"black\"/>\n",
       "<text font-family=\"Times New Roman,serif\" font-size=\"14.00\" text-anchor=\"middle\" x=\"196\" y=\"-506.3\">output:</text>\n",
       "<polyline fill=\"none\" points=\"224,-498.5 224,-544.5 \" stroke=\"black\"/>\n",
       "<text font-family=\"Times New Roman,serif\" font-size=\"14.00\" text-anchor=\"middle\" x=\"283.5\" y=\"-529.3\">(None, 24, 24, 32)</text>\n",
       "<polyline fill=\"none\" points=\"224,-521.5 343,-521.5 \" stroke=\"black\"/>\n",
       "<text font-family=\"Times New Roman,serif\" font-size=\"14.00\" text-anchor=\"middle\" x=\"283.5\" y=\"-506.3\">(None, 22, 22, 64)</text>\n",
       "</g>\n",
       "<!-- 2810280337480&#45;&gt;2808953892368 -->\n",
       "<g class=\"edge\" id=\"edge2\"><title>2810280337480-&gt;2808953892368</title>\n",
       "<path d=\"M192,-581.366C192,-573.152 192,-563.658 192,-554.725\" fill=\"none\" stroke=\"black\"/>\n",
       "<polygon fill=\"black\" points=\"195.5,-554.607 192,-544.607 188.5,-554.607 195.5,-554.607\" stroke=\"black\"/>\n",
       "</g>\n",
       "<!-- 2809050064040 -->\n",
       "<g class=\"node\" id=\"node4\"><title>2809050064040</title>\n",
       "<polygon fill=\"none\" points=\"0,-415.5 0,-461.5 384,-461.5 384,-415.5 0,-415.5\" stroke=\"black\"/>\n",
       "<text font-family=\"Times New Roman,serif\" font-size=\"14.00\" text-anchor=\"middle\" x=\"104.5\" y=\"-434.8\">max_pooling2d_1: MaxPooling2D</text>\n",
       "<polyline fill=\"none\" points=\"209,-415.5 209,-461.5 \" stroke=\"black\"/>\n",
       "<text font-family=\"Times New Roman,serif\" font-size=\"14.00\" text-anchor=\"middle\" x=\"237\" y=\"-446.3\">input:</text>\n",
       "<polyline fill=\"none\" points=\"209,-438.5 265,-438.5 \" stroke=\"black\"/>\n",
       "<text font-family=\"Times New Roman,serif\" font-size=\"14.00\" text-anchor=\"middle\" x=\"237\" y=\"-423.3\">output:</text>\n",
       "<polyline fill=\"none\" points=\"265,-415.5 265,-461.5 \" stroke=\"black\"/>\n",
       "<text font-family=\"Times New Roman,serif\" font-size=\"14.00\" text-anchor=\"middle\" x=\"324.5\" y=\"-446.3\">(None, 22, 22, 64)</text>\n",
       "<polyline fill=\"none\" points=\"265,-438.5 384,-438.5 \" stroke=\"black\"/>\n",
       "<text font-family=\"Times New Roman,serif\" font-size=\"14.00\" text-anchor=\"middle\" x=\"324.5\" y=\"-423.3\">(None, 11, 11, 64)</text>\n",
       "</g>\n",
       "<!-- 2808953892368&#45;&gt;2809050064040 -->\n",
       "<g class=\"edge\" id=\"edge3\"><title>2808953892368-&gt;2809050064040</title>\n",
       "<path d=\"M192,-498.366C192,-490.152 192,-480.658 192,-471.725\" fill=\"none\" stroke=\"black\"/>\n",
       "<polygon fill=\"black\" points=\"195.5,-471.607 192,-461.607 188.5,-471.607 195.5,-471.607\" stroke=\"black\"/>\n",
       "</g>\n",
       "<!-- 2808953929008 -->\n",
       "<g class=\"node\" id=\"node5\"><title>2808953929008</title>\n",
       "<polygon fill=\"none\" points=\"39.5,-332.5 39.5,-378.5 344.5,-378.5 344.5,-332.5 39.5,-332.5\" stroke=\"black\"/>\n",
       "<text font-family=\"Times New Roman,serif\" font-size=\"14.00\" text-anchor=\"middle\" x=\"104.5\" y=\"-351.8\">dropout_1: Dropout</text>\n",
       "<polyline fill=\"none\" points=\"169.5,-332.5 169.5,-378.5 \" stroke=\"black\"/>\n",
       "<text font-family=\"Times New Roman,serif\" font-size=\"14.00\" text-anchor=\"middle\" x=\"197.5\" y=\"-363.3\">input:</text>\n",
       "<polyline fill=\"none\" points=\"169.5,-355.5 225.5,-355.5 \" stroke=\"black\"/>\n",
       "<text font-family=\"Times New Roman,serif\" font-size=\"14.00\" text-anchor=\"middle\" x=\"197.5\" y=\"-340.3\">output:</text>\n",
       "<polyline fill=\"none\" points=\"225.5,-332.5 225.5,-378.5 \" stroke=\"black\"/>\n",
       "<text font-family=\"Times New Roman,serif\" font-size=\"14.00\" text-anchor=\"middle\" x=\"285\" y=\"-363.3\">(None, 11, 11, 64)</text>\n",
       "<polyline fill=\"none\" points=\"225.5,-355.5 344.5,-355.5 \" stroke=\"black\"/>\n",
       "<text font-family=\"Times New Roman,serif\" font-size=\"14.00\" text-anchor=\"middle\" x=\"285\" y=\"-340.3\">(None, 11, 11, 64)</text>\n",
       "</g>\n",
       "<!-- 2809050064040&#45;&gt;2808953929008 -->\n",
       "<g class=\"edge\" id=\"edge4\"><title>2809050064040-&gt;2808953929008</title>\n",
       "<path d=\"M192,-415.366C192,-407.152 192,-397.658 192,-388.725\" fill=\"none\" stroke=\"black\"/>\n",
       "<polygon fill=\"black\" points=\"195.5,-388.607 192,-378.607 188.5,-388.607 195.5,-388.607\" stroke=\"black\"/>\n",
       "</g>\n",
       "<!-- 2809050158472 -->\n",
       "<g class=\"node\" id=\"node6\"><title>2809050158472</title>\n",
       "<polygon fill=\"none\" points=\"50,-249.5 50,-295.5 334,-295.5 334,-249.5 50,-249.5\" stroke=\"black\"/>\n",
       "<text font-family=\"Times New Roman,serif\" font-size=\"14.00\" text-anchor=\"middle\" x=\"104.5\" y=\"-268.8\">flatten_1: Flatten</text>\n",
       "<polyline fill=\"none\" points=\"159,-249.5 159,-295.5 \" stroke=\"black\"/>\n",
       "<text font-family=\"Times New Roman,serif\" font-size=\"14.00\" text-anchor=\"middle\" x=\"187\" y=\"-280.3\">input:</text>\n",
       "<polyline fill=\"none\" points=\"159,-272.5 215,-272.5 \" stroke=\"black\"/>\n",
       "<text font-family=\"Times New Roman,serif\" font-size=\"14.00\" text-anchor=\"middle\" x=\"187\" y=\"-257.3\">output:</text>\n",
       "<polyline fill=\"none\" points=\"215,-249.5 215,-295.5 \" stroke=\"black\"/>\n",
       "<text font-family=\"Times New Roman,serif\" font-size=\"14.00\" text-anchor=\"middle\" x=\"274.5\" y=\"-280.3\">(None, 11, 11, 64)</text>\n",
       "<polyline fill=\"none\" points=\"215,-272.5 334,-272.5 \" stroke=\"black\"/>\n",
       "<text font-family=\"Times New Roman,serif\" font-size=\"14.00\" text-anchor=\"middle\" x=\"274.5\" y=\"-257.3\">(None, 7744)</text>\n",
       "</g>\n",
       "<!-- 2808953929008&#45;&gt;2809050158472 -->\n",
       "<g class=\"edge\" id=\"edge5\"><title>2808953929008-&gt;2809050158472</title>\n",
       "<path d=\"M192,-332.366C192,-324.152 192,-314.658 192,-305.725\" fill=\"none\" stroke=\"black\"/>\n",
       "<polygon fill=\"black\" points=\"195.5,-305.607 192,-295.607 188.5,-305.607 195.5,-305.607\" stroke=\"black\"/>\n",
       "</g>\n",
       "<!-- 2809050065384 -->\n",
       "<g class=\"node\" id=\"node7\"><title>2809050065384</title>\n",
       "<polygon fill=\"none\" points=\"67,-166.5 67,-212.5 317,-212.5 317,-166.5 67,-166.5\" stroke=\"black\"/>\n",
       "<text font-family=\"Times New Roman,serif\" font-size=\"14.00\" text-anchor=\"middle\" x=\"119\" y=\"-185.8\">dense_1: Dense</text>\n",
       "<polyline fill=\"none\" points=\"171,-166.5 171,-212.5 \" stroke=\"black\"/>\n",
       "<text font-family=\"Times New Roman,serif\" font-size=\"14.00\" text-anchor=\"middle\" x=\"199\" y=\"-197.3\">input:</text>\n",
       "<polyline fill=\"none\" points=\"171,-189.5 227,-189.5 \" stroke=\"black\"/>\n",
       "<text font-family=\"Times New Roman,serif\" font-size=\"14.00\" text-anchor=\"middle\" x=\"199\" y=\"-174.3\">output:</text>\n",
       "<polyline fill=\"none\" points=\"227,-166.5 227,-212.5 \" stroke=\"black\"/>\n",
       "<text font-family=\"Times New Roman,serif\" font-size=\"14.00\" text-anchor=\"middle\" x=\"272\" y=\"-197.3\">(None, 7744)</text>\n",
       "<polyline fill=\"none\" points=\"227,-189.5 317,-189.5 \" stroke=\"black\"/>\n",
       "<text font-family=\"Times New Roman,serif\" font-size=\"14.00\" text-anchor=\"middle\" x=\"272\" y=\"-174.3\">(None, 128)</text>\n",
       "</g>\n",
       "<!-- 2809050158472&#45;&gt;2809050065384 -->\n",
       "<g class=\"edge\" id=\"edge6\"><title>2809050158472-&gt;2809050065384</title>\n",
       "<path d=\"M192,-249.366C192,-241.152 192,-231.658 192,-222.725\" fill=\"none\" stroke=\"black\"/>\n",
       "<polygon fill=\"black\" points=\"195.5,-222.607 192,-212.607 188.5,-222.607 195.5,-222.607\" stroke=\"black\"/>\n",
       "</g>\n",
       "<!-- 2809050247856 -->\n",
       "<g class=\"node\" id=\"node8\"><title>2809050247856</title>\n",
       "<polygon fill=\"none\" points=\"57.5,-83.5 57.5,-129.5 326.5,-129.5 326.5,-83.5 57.5,-83.5\" stroke=\"black\"/>\n",
       "<text font-family=\"Times New Roman,serif\" font-size=\"14.00\" text-anchor=\"middle\" x=\"122.5\" y=\"-102.8\">dropout_2: Dropout</text>\n",
       "<polyline fill=\"none\" points=\"187.5,-83.5 187.5,-129.5 \" stroke=\"black\"/>\n",
       "<text font-family=\"Times New Roman,serif\" font-size=\"14.00\" text-anchor=\"middle\" x=\"215.5\" y=\"-114.3\">input:</text>\n",
       "<polyline fill=\"none\" points=\"187.5,-106.5 243.5,-106.5 \" stroke=\"black\"/>\n",
       "<text font-family=\"Times New Roman,serif\" font-size=\"14.00\" text-anchor=\"middle\" x=\"215.5\" y=\"-91.3\">output:</text>\n",
       "<polyline fill=\"none\" points=\"243.5,-83.5 243.5,-129.5 \" stroke=\"black\"/>\n",
       "<text font-family=\"Times New Roman,serif\" font-size=\"14.00\" text-anchor=\"middle\" x=\"285\" y=\"-114.3\">(None, 128)</text>\n",
       "<polyline fill=\"none\" points=\"243.5,-106.5 326.5,-106.5 \" stroke=\"black\"/>\n",
       "<text font-family=\"Times New Roman,serif\" font-size=\"14.00\" text-anchor=\"middle\" x=\"285\" y=\"-91.3\">(None, 128)</text>\n",
       "</g>\n",
       "<!-- 2809050065384&#45;&gt;2809050247856 -->\n",
       "<g class=\"edge\" id=\"edge7\"><title>2809050065384-&gt;2809050247856</title>\n",
       "<path d=\"M192,-166.366C192,-158.152 192,-148.658 192,-139.725\" fill=\"none\" stroke=\"black\"/>\n",
       "<polygon fill=\"black\" points=\"195.5,-139.607 192,-129.607 188.5,-139.607 195.5,-139.607\" stroke=\"black\"/>\n",
       "</g>\n",
       "<!-- 2809050514040 -->\n",
       "<g class=\"node\" id=\"node9\"><title>2809050514040</title>\n",
       "<polygon fill=\"none\" points=\"70.5,-0.5 70.5,-46.5 313.5,-46.5 313.5,-0.5 70.5,-0.5\" stroke=\"black\"/>\n",
       "<text font-family=\"Times New Roman,serif\" font-size=\"14.00\" text-anchor=\"middle\" x=\"122.5\" y=\"-19.8\">dense_2: Dense</text>\n",
       "<polyline fill=\"none\" points=\"174.5,-0.5 174.5,-46.5 \" stroke=\"black\"/>\n",
       "<text font-family=\"Times New Roman,serif\" font-size=\"14.00\" text-anchor=\"middle\" x=\"202.5\" y=\"-31.3\">input:</text>\n",
       "<polyline fill=\"none\" points=\"174.5,-23.5 230.5,-23.5 \" stroke=\"black\"/>\n",
       "<text font-family=\"Times New Roman,serif\" font-size=\"14.00\" text-anchor=\"middle\" x=\"202.5\" y=\"-8.3\">output:</text>\n",
       "<polyline fill=\"none\" points=\"230.5,-0.5 230.5,-46.5 \" stroke=\"black\"/>\n",
       "<text font-family=\"Times New Roman,serif\" font-size=\"14.00\" text-anchor=\"middle\" x=\"272\" y=\"-31.3\">(None, 128)</text>\n",
       "<polyline fill=\"none\" points=\"230.5,-23.5 313.5,-23.5 \" stroke=\"black\"/>\n",
       "<text font-family=\"Times New Roman,serif\" font-size=\"14.00\" text-anchor=\"middle\" x=\"272\" y=\"-8.3\">(None, 10)</text>\n",
       "</g>\n",
       "<!-- 2809050247856&#45;&gt;2809050514040 -->\n",
       "<g class=\"edge\" id=\"edge8\"><title>2809050247856-&gt;2809050514040</title>\n",
       "<path d=\"M192,-83.3664C192,-75.1516 192,-65.6579 192,-56.7252\" fill=\"none\" stroke=\"black\"/>\n",
       "<polygon fill=\"black\" points=\"195.5,-56.6068 192,-46.6068 188.5,-56.6069 195.5,-56.6068\" stroke=\"black\"/>\n",
       "</g>\n",
       "</g>\n",
       "</svg>"
      ],
      "text/plain": [
       "<IPython.core.display.SVG object>"
      ]
     },
     "execution_count": 20,
     "metadata": {},
     "output_type": "execute_result"
    }
   ],
   "source": [
    "SVG(model_to_dot(model, show_shapes=True, \n",
    "                 show_layer_names=True, rankdir='TB').create(prog='dot', format='svg'))"
   ]
  },
  {
   "cell_type": "code",
   "execution_count": 21,
   "metadata": {},
   "outputs": [],
   "source": [
    "model.compile(loss=keras.losses.categorical_crossentropy,\n",
    "              optimizer='adam',\n",
    "              metrics=['accuracy'])"
   ]
  },
  {
   "cell_type": "code",
   "execution_count": 22,
   "metadata": {},
   "outputs": [
    {
     "name": "stdout",
     "output_type": "stream",
     "text": [
      "Train on 21000 samples, validate on 9000 samples\n",
      "Epoch 1/20\n",
      "21000/21000 [==============================] - 53s 3ms/step - loss: 0.8040 - acc: 0.7513 - val_loss: 0.5167 - val_acc: 0.8354\n",
      "Epoch 2/20\n",
      "21000/21000 [==============================] - 52s 2ms/step - loss: 0.4877 - acc: 0.8524 - val_loss: 0.3612 - val_acc: 0.8870\n",
      "Epoch 3/20\n",
      "21000/21000 [==============================] - 54s 3ms/step - loss: 0.4080 - acc: 0.8765 - val_loss: 0.3441 - val_acc: 0.8950\n",
      "Epoch 4/20\n",
      "21000/21000 [==============================] - 60s 3ms/step - loss: 0.3493 - acc: 0.8925 - val_loss: 0.3252 - val_acc: 0.9009\n",
      "Epoch 5/20\n",
      "21000/21000 [==============================] - 53s 3ms/step - loss: 0.3026 - acc: 0.9057 - val_loss: 0.3210 - val_acc: 0.9009\n",
      "Epoch 6/20\n",
      "21000/21000 [==============================] - 53s 3ms/step - loss: 0.2695 - acc: 0.9123 - val_loss: 0.3159 - val_acc: 0.9112\n",
      "Epoch 7/20\n",
      "21000/21000 [==============================] - 52s 2ms/step - loss: 0.2306 - acc: 0.9255 - val_loss: 0.3407 - val_acc: 0.9054\n",
      "Epoch 8/20\n",
      "21000/21000 [==============================] - 53s 3ms/step - loss: 0.2109 - acc: 0.9316 - val_loss: 0.3263 - val_acc: 0.9049\n",
      "Epoch 9/20\n",
      "21000/21000 [==============================] - 53s 3ms/step - loss: 0.1884 - acc: 0.9378 - val_loss: 0.3407 - val_acc: 0.9077\n",
      "Epoch 10/20\n",
      "21000/21000 [==============================] - 54s 3ms/step - loss: 0.1762 - acc: 0.9419 - val_loss: 0.3330 - val_acc: 0.9117\n",
      "Epoch 11/20\n",
      "21000/21000 [==============================] - 52s 2ms/step - loss: 0.1533 - acc: 0.9482 - val_loss: 0.3507 - val_acc: 0.9106\n",
      "Epoch 12/20\n",
      "21000/21000 [==============================] - 52s 2ms/step - loss: 0.1462 - acc: 0.9509 - val_loss: 0.3414 - val_acc: 0.9122\n",
      "Epoch 13/20\n",
      "21000/21000 [==============================] - 52s 2ms/step - loss: 0.1319 - acc: 0.9537 - val_loss: 0.3777 - val_acc: 0.9117\n",
      "Epoch 14/20\n",
      "21000/21000 [==============================] - 54s 3ms/step - loss: 0.1211 - acc: 0.9579 - val_loss: 0.3877 - val_acc: 0.9111\n",
      "Epoch 15/20\n",
      "21000/21000 [==============================] - 56s 3ms/step - loss: 0.1161 - acc: 0.9601 - val_loss: 0.3980 - val_acc: 0.9134\n",
      "Epoch 16/20\n",
      "21000/21000 [==============================] - 57s 3ms/step - loss: 0.1105 - acc: 0.9607 - val_loss: 0.4255 - val_acc: 0.9091\n",
      "Epoch 17/20\n",
      "21000/21000 [==============================] - 54s 3ms/step - loss: 0.1058 - acc: 0.9638 - val_loss: 0.3951 - val_acc: 0.9126\n",
      "Epoch 18/20\n",
      "21000/21000 [==============================] - 53s 3ms/step - loss: 0.0980 - acc: 0.9652 - val_loss: 0.3997 - val_acc: 0.9138\n",
      "Epoch 19/20\n",
      "21000/21000 [==============================] - 55s 3ms/step - loss: 0.0957 - acc: 0.9666 - val_loss: 0.4276 - val_acc: 0.9141\n",
      "Epoch 20/20\n",
      "21000/21000 [==============================] - 54s 3ms/step - loss: 0.0868 - acc: 0.9694 - val_loss: 0.4319 - val_acc: 0.9107\n"
     ]
    }
   ],
   "source": [
    "cnn_model = model.fit(X_train_cnn, y_train_cnn,\n",
    "          batch_size=32,\n",
    "          epochs=20,\n",
    "          validation_data=(X_test_cnn, y_test_cnn))"
   ]
  },
  {
   "cell_type": "code",
   "execution_count": 23,
   "metadata": {},
   "outputs": [
    {
     "data": {
      "image/png": "[encoded data removed]",
      "text/plain": [
       "<matplotlib.figure.Figure at 0x28e0881e780>"
      ]
     },
     "metadata": {},
     "output_type": "display_data"
    }
   ],
   "source": [
    "fig = plt.figure(figsize=(10,10))\n",
    "ax1 = plt.subplot(2,1,1)\n",
    "ax1 = plt.plot(cnn_model.history['acc'])\n",
    "ax1 = plt.plot(cnn_model.history['val_acc'])\n",
    "plt.title('Model Accuracy')\n",
    "plt.ylabel('Accuracy')\n",
    "plt.xlabel('Epoch')\n",
    "plt.legend(['Train', 'Validation'], loc='upper left')\n",
    "\n",
    "ax2 = plt.subplot(2,1,2)\n",
    "ax2 = plt.plot(cnn_model.history['loss'])\n",
    "ax2 = plt.plot(cnn_model.history['val_loss'])\n",
    "plt.title('Model Loss')\n",
    "plt.ylabel('Loss')\n",
    "plt.xlabel('Epoch')\n",
    "plt.legend(['Train', 'Validation'], loc='upper left')\n",
    "plt.show()"
   ]
  },
  {
   "cell_type": "code",
   "execution_count": 24,
   "metadata": {},
   "outputs": [
    {
     "name": "stdout",
     "output_type": "stream",
     "text": [
      "9000/9000 [==============================] - 6s 650us/step\n"
     ]
    }
   ],
   "source": [
    "score = model.evaluate(X_test_cnn, y_test_cnn, verbose=1)"
   ]
  },
  {
   "cell_type": "code",
   "execution_count": 25,
   "metadata": {},
   "outputs": [
    {
     "name": "stdout",
     "output_type": "stream",
     "text": [
      "Test Loss: 0.431928481707\n",
      "Test Accuracy: 0.910666666667\n"
     ]
    }
   ],
   "source": [
    "print('Test Loss:', score[0])\n",
    "print('Test Accuracy:', score[1])"
   ]
  },
  {
   "cell_type": "code",
   "execution_count": 26,
   "metadata": {},
   "outputs": [],
   "source": [
    "y_pred_cnn = model.predict_classes(X_test_cnn, verbose=0)"
   ]
  },
  {
   "cell_type": "code",
   "execution_count": 27,
   "metadata": {},
   "outputs": [
    {
     "data": {
      "image/png": "[encoded data removed]",
      "text/plain": [
       "<matplotlib.figure.Figure at 0x28e08b6cfd0>"
      ]
     },
     "metadata": {},
     "output_type": "display_data"
    }
   ],
   "source": [
    "import itertools\n",
    "\n",
    "# Create a dict with label codes\n",
    "label_dict = {0:'cannon',1:'eye', 2:'face', 3:'nail', 4:'pear', \n",
    "              5:'piana',6:'radio', 7:'spider', 8:'star', 9:'sword'}\n",
    "\n",
    "# Compute confusion matrix\n",
    "cf_matrix = confusion_matrix(y_test, y_pred_cnn)\n",
    "np.set_printoptions(precision=2)\n",
    "\n",
    "# Plot non-normalized confusion matrix\n",
    "fig = plt.figure(figsize=(10,7))\n",
    "fig = plt.imshow(cf_matrix, interpolation='nearest', cmap=plt.cm.Blues)\n",
    "_ =plt.title('Confusion Matrix - CNN')\n",
    "_ = plt.colorbar()\n",
    "_ = tick_marks = np.arange(len(label_dict))\n",
    "_ = plt.xticks(tick_marks, label_dict.values(), rotation=90)\n",
    "_ = plt.yticks(tick_marks, label_dict.values())\n",
    "_ = plt.tight_layout()\n",
    "_ = plt.ylabel('True label')\n",
    "_ = plt.xlabel('Predicted label')\n",
    "thresh = cf_matrix.max() / 2.\n",
    "for i, j in itertools.product(range(cf_matrix.shape[0]), range(cf_matrix.shape[1])):\n",
    "    plt.text(j, i, cf_matrix[i, j], horizontalalignment=\"center\",\n",
    "                color=\"white\" if cf_matrix[i, j] > thresh else \"black\")"
   ]
  },
  {
   "cell_type": "markdown",
   "metadata": {},
   "source": [
    "#### Using the Model for Predicting"
   ]
  },
  {
   "cell_type": "code",
   "execution_count": 28,
   "metadata": {},
   "outputs": [],
   "source": [
    "test_image = np.expand_dims(X_test_cnn[9], axis=3)\n",
    "test_image = test_image.reshape(1,28, 28,1)"
   ]
  },
  {
   "cell_type": "code",
   "execution_count": 29,
   "metadata": {},
   "outputs": [
    {
     "data": {
      "text/plain": [
       "<matplotlib.image.AxesImage at 0x28e09349be0>"
      ]
     },
     "execution_count": 29,
     "metadata": {},
     "output_type": "execute_result"
    },
    {
     "data": {
      "image/png": "[encoded data removed]",
      "text/plain": [
       "<matplotlib.figure.Figure at 0x28e08811668>"
      ]
     },
     "metadata": {},
     "output_type": "display_data"
    }
   ],
   "source": [
    "plt.imshow(X_test_cnn[9][:,:,0], cmap=plt.get_cmap('binary'))"
   ]
  },
  {
   "cell_type": "code",
   "execution_count": 30,
   "metadata": {},
   "outputs": [
    {
     "name": "stdout",
     "output_type": "stream",
     "text": [
      "{0: 'cannon', 1: 'eye', 2: 'face', 3: 'nail', 4: 'pear', 5: 'piana', 6: 'radio', 7: 'spider', 8: 'star', 9: 'sword'} \n",
      " \n",
      " [ 0.  0.  0.  0.  0.  0.  0.  0.  0.  1.] \n",
      " \n",
      " (array([9], dtype=int64),)\n"
     ]
    }
   ],
   "source": [
    "print(label_dict,# Dictionary to match label with code\n",
    "      '\\n','\\n',\n",
    "      y_test_cnn[9],# True/False (1/0) of label. Code = position of True\n",
    "      '\\n','\\n',\n",
    "      np.where(y_test_cnn[9] == 1)) # The code "
   ]
  },
  {
   "cell_type": "code",
   "execution_count": 31,
   "metadata": {},
   "outputs": [
    {
     "data": {
      "text/plain": [
       "array([9], dtype=int64)"
      ]
     },
     "execution_count": 31,
     "metadata": {},
     "output_type": "execute_result"
    }
   ],
   "source": [
    "model.predict_classes(test_image,batch_size=1)"
   ]
  },
  {
   "cell_type": "markdown",
   "metadata": {},
   "source": [
    "### Patterns Uncovered in Hidden Layers - Sword"
   ]
  },
  {
   "cell_type": "code",
   "execution_count": 32,
   "metadata": {},
   "outputs": [],
   "source": [
    "def get_activations(model, model_inputs, print_shape_only=True, layer_name=None):\n",
    "    import keras.backend as K\n",
    "    print('----- activations -----')\n",
    "    activations = []\n",
    "    inp = model.input\n",
    "\n",
    "    model_multi_inputs_cond = True\n",
    "    if not isinstance(inp, list):\n",
    "        # only one input! let's wrap it in a list.\n",
    "        inp = [inp]\n",
    "        model_multi_inputs_cond = False\n",
    "\n",
    "    outputs = [layer.output for layer in model.layers if\n",
    "               layer.name == layer_name or layer_name is None]  # all layer outputs\n",
    "\n",
    "    funcs = [K.function(inp + [K.learning_phase()], [out]) for out in outputs]  # evaluation functions\n",
    "\n",
    "    if model_multi_inputs_cond:\n",
    "        list_inputs = []\n",
    "        list_inputs.extend(model_inputs)\n",
    "        list_inputs.append(1.)\n",
    "    else:\n",
    "        list_inputs = [model_inputs, 1.]\n",
    "\n",
    "    # Learning phase. 1 = Test mode (no dropout or batch normalization)\n",
    "    # layer_outputs = [func([model_inputs, 1.])[0] for func in funcs]\n",
    "    layer_outputs = [func(list_inputs)[0] for func in funcs]\n",
    "    for layer_activations in layer_outputs:\n",
    "        activations.append(layer_activations)\n",
    "        if print_shape_only:\n",
    "            print(layer_activations.shape)\n",
    "        else:\n",
    "            print(layer_activations)\n",
    "    return activations"
   ]
  },
  {
   "cell_type": "code",
   "execution_count": 33,
   "metadata": {},
   "outputs": [],
   "source": [
    "def display_activations(activation_maps):\n",
    "    import numpy as np\n",
    "    import matplotlib.pyplot as plt\n",
    "    \"\"\"\n",
    "    (1, 26, 26, 32)\n",
    "    (1, 24, 24, 64)\n",
    "    (1, 12, 12, 64)\n",
    "    (1, 12, 12, 64)\n",
    "    (1, 9216)\n",
    "    (1, 128)\n",
    "    (1, 128)\n",
    "    (1, 10)\n",
    "    \"\"\"\n",
    "    batch_size = activation_maps[0].shape[0]\n",
    "    assert batch_size == 1, 'One image at a time to visualize.'\n",
    "    for i, activation_map in enumerate(activation_maps):\n",
    "        print('Displaying activation map {}'.format(i))\n",
    "        shape = activation_map.shape\n",
    "        if len(shape) == 4:\n",
    "            activations = np.hstack(np.transpose(activation_map[0], (2, 0, 1)))\n",
    "        elif len(shape) == 2:\n",
    "            # try to make it square as much as possible. we can skip some activations.\n",
    "            activations = activation_map[0]\n",
    "            num_activations = len(activations)\n",
    "            if num_activations > 1024:  # too hard to display it on the screen.\n",
    "                square_param = int(np.floor(np.sqrt(num_activations)))\n",
    "                activations = activations[0: square_param * square_param]\n",
    "                activations = np.reshape(activations, (square_param, square_param))\n",
    "            else:\n",
    "                activations = np.expand_dims(activations, axis=0)\n",
    "        else:\n",
    "            raise Exception('len(shape) = 3 has not been implemented.')\n",
    "        plt.figure(figsize=(25,10))\n",
    "        plt.imshow(activations, interpolation='None', cmap='binary')\n",
    "        plt.show()"
   ]
  },
  {
   "cell_type": "code",
   "execution_count": 34,
   "metadata": {},
   "outputs": [
    {
     "name": "stdout",
     "output_type": "stream",
     "text": [
      "----- activations -----\n",
      "(1, 24, 24, 32)\n",
      "(1, 22, 22, 64)\n",
      "(1, 11, 11, 64)\n",
      "(1, 11, 11, 64)\n",
      "(1, 7744)\n",
      "(1, 128)\n",
      "(1, 128)\n",
      "(1, 10)\n"
     ]
    }
   ],
   "source": [
    "activations = get_activations(model, test_image)"
   ]
  },
  {
   "cell_type": "code",
   "execution_count": 35,
   "metadata": {},
   "outputs": [
    {
     "name": "stdout",
     "output_type": "stream",
     "text": [
      "Displaying activation map 0\n"
     ]
    },
    {
     "data": {
      "image/png": "[encoded data removed]",
      "text/plain": [
       "<matplotlib.figure.Figure at 0x28e0881eac8>"
      ]
     },
     "metadata": {},
     "output_type": "display_data"
    },
    {
     "name": "stdout",
     "output_type": "stream",
     "text": [
      "Displaying activation map 1\n"
     ]
    },
    {
     "data": {
      "image/png": "[encoded data removed]",
      "text/plain": [
       "<matplotlib.figure.Figure at 0x28e093d1198>"
      ]
     },
     "metadata": {},
     "output_type": "display_data"
    },
    {
     "name": "stdout",
     "output_type": "stream",
     "text": [
      "Displaying activation map 2\n"
     ]
    },
    {
     "data": {
      "image/png": "[encoded data removed]",
      "text/plain": [
       "<matplotlib.figure.Figure at 0x28e093fd780>"
      ]
     },
     "metadata": {},
     "output_type": "display_data"
    },
    {
     "name": "stdout",
     "output_type": "stream",
     "text": [
      "Displaying activation map 3\n"
     ]
    },
    {
     "data": {
      "image/png": "[encoded data removed]",
      "text/plain": [
       "<matplotlib.figure.Figure at 0x28e0960e550>"
      ]
     },
     "metadata": {},
     "output_type": "display_data"
    },
    {
     "name": "stdout",
     "output_type": "stream",
     "text": [
      "Displaying activation map 4\n"
     ]
    },
    {
     "data": {
      "image/png": "[encoded data removed]",
      "text/plain": [
       "<matplotlib.figure.Figure at 0x28e093cb320>"
      ]
     },
     "metadata": {},
     "output_type": "display_data"
    },
    {
     "name": "stdout",
     "output_type": "stream",
     "text": [
      "Displaying activation map 5\n"
     ]
    },
    {
     "data": {
      "image/png": "[encoded data removed]",
      "text/plain": [
       "<matplotlib.figure.Figure at 0x28e096e6ac8>"
      ]
     },
     "metadata": {},
     "output_type": "display_data"
    },
    {
     "name": "stdout",
     "output_type": "stream",
     "text": [
      "Displaying activation map 6\n"
     ]
    },
    {
     "data": {
      "image/png": "[encoded data removed]",
      "text/plain": [
       "<matplotlib.figure.Figure at 0x28e096f1d68>"
      ]
     },
     "metadata": {},
     "output_type": "display_data"
    },
    {
     "name": "stdout",
     "output_type": "stream",
     "text": [
      "Displaying activation map 7\n"
     ]
    },
    {
     "data": {
      "image/png": "[encoded data removed]",
      "text/plain": [
       "<matplotlib.figure.Figure at 0x28e097a2c88>"
      ]
     },
     "metadata": {},
     "output_type": "display_data"
    }
   ],
   "source": [
    "display_activations(activations)"
   ]
  },
  {
   "cell_type": "markdown",
   "metadata": {},
   "source": [
    "## Transfer Learning - VGG16"
   ]
  },
  {
   "cell_type": "code",
   "execution_count": 36,
   "metadata": {},
   "outputs": [
    {
     "name": "stdout",
     "output_type": "stream",
     "text": [
      "_________________________________________________________________\n",
      "Layer (type)                 Output Shape              Param #   \n",
      "=================================================================\n",
      "input_1 (InputLayer)         (None, None, None, 3)     0         \n",
      "_________________________________________________________________\n",
      "block1_conv1 (Conv2D)        (None, None, None, 64)    1792      \n",
      "_________________________________________________________________\n",
      "block1_conv2 (Conv2D)        (None, None, None, 64)    36928     \n",
      "_________________________________________________________________\n",
      "block1_pool (MaxPooling2D)   (None, None, None, 64)    0         \n",
      "_________________________________________________________________\n",
      "block2_conv1 (Conv2D)        (None, None, None, 128)   73856     \n",
      "_________________________________________________________________\n",
      "block2_conv2 (Conv2D)        (None, None, None, 128)   147584    \n",
      "_________________________________________________________________\n",
      "block2_pool (MaxPooling2D)   (None, None, None, 128)   0         \n",
      "_________________________________________________________________\n",
      "block3_conv1 (Conv2D)        (None, None, None, 256)   295168    \n",
      "_________________________________________________________________\n",
      "block3_conv2 (Conv2D)        (None, None, None, 256)   590080    \n",
      "_________________________________________________________________\n",
      "block3_conv3 (Conv2D)        (None, None, None, 256)   590080    \n",
      "_________________________________________________________________\n",
      "block3_pool (MaxPooling2D)   (None, None, None, 256)   0         \n",
      "_________________________________________________________________\n",
      "block4_conv1 (Conv2D)        (None, None, None, 512)   1180160   \n",
      "_________________________________________________________________\n",
      "block4_conv2 (Conv2D)        (None, None, None, 512)   2359808   \n",
      "_________________________________________________________________\n",
      "block4_conv3 (Conv2D)        (None, None, None, 512)   2359808   \n",
      "_________________________________________________________________\n",
      "block4_pool (MaxPooling2D)   (None, None, None, 512)   0         \n",
      "_________________________________________________________________\n",
      "block5_conv1 (Conv2D)        (None, None, None, 512)   2359808   \n",
      "_________________________________________________________________\n",
      "block5_conv2 (Conv2D)        (None, None, None, 512)   2359808   \n",
      "_________________________________________________________________\n",
      "block5_conv3 (Conv2D)        (None, None, None, 512)   2359808   \n",
      "_________________________________________________________________\n",
      "block5_pool (MaxPooling2D)   (None, None, None, 512)   0         \n",
      "=================================================================\n",
      "Total params: 14,714,688\n",
      "Trainable params: 14,714,688\n",
      "Non-trainable params: 0\n",
      "_________________________________________________________________\n"
     ]
    }
   ],
   "source": [
    "from keras import applications\n",
    "from skimage.transform import resize\n",
    "import cv2\n",
    "\n",
    "batch_size = 128\n",
    "num_classes = 10\n",
    "epochs = 50\n",
    "\n",
    "vgg_model = applications.VGG16(weights='imagenet', include_top=False)\n",
    "vgg_model.summary()"
   ]
  },
  {
   "cell_type": "markdown",
   "metadata": {},
   "source": [
    "#### X_Train"
   ]
  },
  {
   "cell_type": "code",
   "execution_count": 37,
   "metadata": {},
   "outputs": [
    {
     "name": "stdout",
     "output_type": "stream",
     "text": [
      "21000/21000 [==============================] - 457s 22ms/step\n"
     ]
    }
   ],
   "source": [
    "# Resize the heighth and width to meet the minimum - X_train\n",
    "resized_train = np.empty((0,56,56))\n",
    "\n",
    "for line in X_train_cnn:\n",
    "    img = cv2.resize(line, None, fx=2, fy=2, interpolation = cv2.INTER_CUBIC)\n",
    "    resized_train = np.append(resized_train, [img], axis=0)\n",
    "    \n",
    "# Turn grayscale into RGB\n",
    "X_train_tl = np.stack((resized_train,)*3, -1)\n",
    "    \n",
    "bottleneck_features_train = vgg_model.predict(X_train_tl,verbose=1)"
   ]
  },
  {
   "cell_type": "markdown",
   "metadata": {},
   "source": [
    "#### X_Test"
   ]
  },
  {
   "cell_type": "code",
   "execution_count": 38,
   "metadata": {},
   "outputs": [
    {
     "name": "stdout",
     "output_type": "stream",
     "text": [
      "9000/9000 [==============================] - 192s 21ms/step\n"
     ]
    }
   ],
   "source": [
    "# Resize the heighth and width to meet the minimum - X_test\n",
    "resized_test = np.empty((0,56,56))\n",
    "\n",
    "for line in X_test_cnn:\n",
    "    img = cv2.resize(line, None, fx=2, fy=2, interpolation = cv2.INTER_CUBIC)\n",
    "    resized_test = np.append(resized_test, [img], axis=0)\n",
    "    \n",
    "# Turn grayscale into RGB\n",
    "X_test_tl = np.stack((resized_test,)*3, -1)\n",
    "\n",
    "bottleneck_features_test = vgg_model.predict(X_test_tl,verbose=1)"
   ]
  },
  {
   "cell_type": "code",
   "execution_count": 39,
   "metadata": {},
   "outputs": [],
   "source": [
    "clf_model = Sequential()\n",
    "clf_model.add(Flatten(input_shape=bottleneck_features_train.shape[1:]))\n",
    "clf_model.add(Dense(512, activation='relu'))\n",
    "clf_model.add(Dropout(0.5))\n",
    "clf_model.add(Dense(256, activation='relu'))\n",
    "clf_model.add(Dropout(0.5))\n",
    "clf_model.add(Dense(num_classes, activation='softmax'))"
   ]
  },
  {
   "cell_type": "code",
   "execution_count": 40,
   "metadata": {},
   "outputs": [
    {
     "data": {
      "image/svg+xml": [
       "<svg height=\"553pt\" viewBox=\"0.00 0.00 343.00 553.00\" width=\"343pt\" xmlns=\"http://www.w3.org/2000/svg\" xmlns:xlink=\"http://www.w3.org/1999/xlink\">\n",
       "<g class=\"graph\" id=\"graph0\" transform=\"scale(1 1) rotate(0) translate(4 549)\">\n",
       "<title>G</title>\n",
       "<polygon fill=\"white\" points=\"-4,4 -4,-549 339,-549 339,4 -4,4\" stroke=\"none\"/>\n",
       "<!-- 2809067872720 -->\n",
       "<g class=\"node\" id=\"node1\"><title>2809067872720</title>\n",
       "<polygon fill=\"none\" points=\"0,-498.5 0,-544.5 335,-544.5 335,-498.5 0,-498.5\" stroke=\"black\"/>\n",
       "<text font-family=\"Times New Roman,serif\" font-size=\"14.00\" text-anchor=\"middle\" x=\"83.5\" y=\"-517.8\">flatten_2_input: InputLayer</text>\n",
       "<polyline fill=\"none\" points=\"167,-498.5 167,-544.5 \" stroke=\"black\"/>\n",
       "<text font-family=\"Times New Roman,serif\" font-size=\"14.00\" text-anchor=\"middle\" x=\"195\" y=\"-529.3\">input:</text>\n",
       "<polyline fill=\"none\" points=\"167,-521.5 223,-521.5 \" stroke=\"black\"/>\n",
       "<text font-family=\"Times New Roman,serif\" font-size=\"14.00\" text-anchor=\"middle\" x=\"195\" y=\"-506.3\">output:</text>\n",
       "<polyline fill=\"none\" points=\"223,-498.5 223,-544.5 \" stroke=\"black\"/>\n",
       "<text font-family=\"Times New Roman,serif\" font-size=\"14.00\" text-anchor=\"middle\" x=\"279\" y=\"-529.3\">(None, 1, 1, 512)</text>\n",
       "<polyline fill=\"none\" points=\"223,-521.5 335,-521.5 \" stroke=\"black\"/>\n",
       "<text font-family=\"Times New Roman,serif\" font-size=\"14.00\" text-anchor=\"middle\" x=\"279\" y=\"-506.3\">(None, 1, 1, 512)</text>\n",
       "</g>\n",
       "<!-- 2809067873224 -->\n",
       "<g class=\"node\" id=\"node2\"><title>2809067873224</title>\n",
       "<polygon fill=\"none\" points=\"29,-415.5 29,-461.5 306,-461.5 306,-415.5 29,-415.5\" stroke=\"black\"/>\n",
       "<text font-family=\"Times New Roman,serif\" font-size=\"14.00\" text-anchor=\"middle\" x=\"83.5\" y=\"-434.8\">flatten_2: Flatten</text>\n",
       "<polyline fill=\"none\" points=\"138,-415.5 138,-461.5 \" stroke=\"black\"/>\n",
       "<text font-family=\"Times New Roman,serif\" font-size=\"14.00\" text-anchor=\"middle\" x=\"166\" y=\"-446.3\">input:</text>\n",
       "<polyline fill=\"none\" points=\"138,-438.5 194,-438.5 \" stroke=\"black\"/>\n",
       "<text font-family=\"Times New Roman,serif\" font-size=\"14.00\" text-anchor=\"middle\" x=\"166\" y=\"-423.3\">output:</text>\n",
       "<polyline fill=\"none\" points=\"194,-415.5 194,-461.5 \" stroke=\"black\"/>\n",
       "<text font-family=\"Times New Roman,serif\" font-size=\"14.00\" text-anchor=\"middle\" x=\"250\" y=\"-446.3\">(None, 1, 1, 512)</text>\n",
       "<polyline fill=\"none\" points=\"194,-438.5 306,-438.5 \" stroke=\"black\"/>\n",
       "<text font-family=\"Times New Roman,serif\" font-size=\"14.00\" text-anchor=\"middle\" x=\"250\" y=\"-423.3\">(None, 512)</text>\n",
       "</g>\n",
       "<!-- 2809067872720&#45;&gt;2809067873224 -->\n",
       "<g class=\"edge\" id=\"edge1\"><title>2809067872720-&gt;2809067873224</title>\n",
       "<path d=\"M167.5,-498.366C167.5,-490.152 167.5,-480.658 167.5,-471.725\" fill=\"none\" stroke=\"black\"/>\n",
       "<polygon fill=\"black\" points=\"171,-471.607 167.5,-461.607 164,-471.607 171,-471.607\" stroke=\"black\"/>\n",
       "</g>\n",
       "<!-- 2809067872888 -->\n",
       "<g class=\"node\" id=\"node3\"><title>2809067872888</title>\n",
       "<polygon fill=\"none\" points=\"46,-332.5 46,-378.5 289,-378.5 289,-332.5 46,-332.5\" stroke=\"black\"/>\n",
       "<text font-family=\"Times New Roman,serif\" font-size=\"14.00\" text-anchor=\"middle\" x=\"98\" y=\"-351.8\">dense_3: Dense</text>\n",
       "<polyline fill=\"none\" points=\"150,-332.5 150,-378.5 \" stroke=\"black\"/>\n",
       "<text font-family=\"Times New Roman,serif\" font-size=\"14.00\" text-anchor=\"middle\" x=\"178\" y=\"-363.3\">input:</text>\n",
       "<polyline fill=\"none\" points=\"150,-355.5 206,-355.5 \" stroke=\"black\"/>\n",
       "<text font-family=\"Times New Roman,serif\" font-size=\"14.00\" text-anchor=\"middle\" x=\"178\" y=\"-340.3\">output:</text>\n",
       "<polyline fill=\"none\" points=\"206,-332.5 206,-378.5 \" stroke=\"black\"/>\n",
       "<text font-family=\"Times New Roman,serif\" font-size=\"14.00\" text-anchor=\"middle\" x=\"247.5\" y=\"-363.3\">(None, 512)</text>\n",
       "<polyline fill=\"none\" points=\"206,-355.5 289,-355.5 \" stroke=\"black\"/>\n",
       "<text font-family=\"Times New Roman,serif\" font-size=\"14.00\" text-anchor=\"middle\" x=\"247.5\" y=\"-340.3\">(None, 512)</text>\n",
       "</g>\n",
       "<!-- 2809067873224&#45;&gt;2809067872888 -->\n",
       "<g class=\"edge\" id=\"edge2\"><title>2809067873224-&gt;2809067872888</title>\n",
       "<path d=\"M167.5,-415.366C167.5,-407.152 167.5,-397.658 167.5,-388.725\" fill=\"none\" stroke=\"black\"/>\n",
       "<polygon fill=\"black\" points=\"171,-388.607 167.5,-378.607 164,-388.607 171,-388.607\" stroke=\"black\"/>\n",
       "</g>\n",
       "<!-- 2809101751464 -->\n",
       "<g class=\"node\" id=\"node4\"><title>2809101751464</title>\n",
       "<polygon fill=\"none\" points=\"33,-249.5 33,-295.5 302,-295.5 302,-249.5 33,-249.5\" stroke=\"black\"/>\n",
       "<text font-family=\"Times New Roman,serif\" font-size=\"14.00\" text-anchor=\"middle\" x=\"98\" y=\"-268.8\">dropout_3: Dropout</text>\n",
       "<polyline fill=\"none\" points=\"163,-249.5 163,-295.5 \" stroke=\"black\"/>\n",
       "<text font-family=\"Times New Roman,serif\" font-size=\"14.00\" text-anchor=\"middle\" x=\"191\" y=\"-280.3\">input:</text>\n",
       "<polyline fill=\"none\" points=\"163,-272.5 219,-272.5 \" stroke=\"black\"/>\n",
       "<text font-family=\"Times New Roman,serif\" font-size=\"14.00\" text-anchor=\"middle\" x=\"191\" y=\"-257.3\">output:</text>\n",
       "<polyline fill=\"none\" points=\"219,-249.5 219,-295.5 \" stroke=\"black\"/>\n",
       "<text font-family=\"Times New Roman,serif\" font-size=\"14.00\" text-anchor=\"middle\" x=\"260.5\" y=\"-280.3\">(None, 512)</text>\n",
       "<polyline fill=\"none\" points=\"219,-272.5 302,-272.5 \" stroke=\"black\"/>\n",
       "<text font-family=\"Times New Roman,serif\" font-size=\"14.00\" text-anchor=\"middle\" x=\"260.5\" y=\"-257.3\">(None, 512)</text>\n",
       "</g>\n",
       "<!-- 2809067872888&#45;&gt;2809101751464 -->\n",
       "<g class=\"edge\" id=\"edge3\"><title>2809067872888-&gt;2809101751464</title>\n",
       "<path d=\"M167.5,-332.366C167.5,-324.152 167.5,-314.658 167.5,-305.725\" fill=\"none\" stroke=\"black\"/>\n",
       "<polygon fill=\"black\" points=\"171,-305.607 167.5,-295.607 164,-305.607 171,-305.607\" stroke=\"black\"/>\n",
       "</g>\n",
       "<!-- 2809101750792 -->\n",
       "<g class=\"node\" id=\"node5\"><title>2809101750792</title>\n",
       "<polygon fill=\"none\" points=\"46,-166.5 46,-212.5 289,-212.5 289,-166.5 46,-166.5\" stroke=\"black\"/>\n",
       "<text font-family=\"Times New Roman,serif\" font-size=\"14.00\" text-anchor=\"middle\" x=\"98\" y=\"-185.8\">dense_4: Dense</text>\n",
       "<polyline fill=\"none\" points=\"150,-166.5 150,-212.5 \" stroke=\"black\"/>\n",
       "<text font-family=\"Times New Roman,serif\" font-size=\"14.00\" text-anchor=\"middle\" x=\"178\" y=\"-197.3\">input:</text>\n",
       "<polyline fill=\"none\" points=\"150,-189.5 206,-189.5 \" stroke=\"black\"/>\n",
       "<text font-family=\"Times New Roman,serif\" font-size=\"14.00\" text-anchor=\"middle\" x=\"178\" y=\"-174.3\">output:</text>\n",
       "<polyline fill=\"none\" points=\"206,-166.5 206,-212.5 \" stroke=\"black\"/>\n",
       "<text font-family=\"Times New Roman,serif\" font-size=\"14.00\" text-anchor=\"middle\" x=\"247.5\" y=\"-197.3\">(None, 512)</text>\n",
       "<polyline fill=\"none\" points=\"206,-189.5 289,-189.5 \" stroke=\"black\"/>\n",
       "<text font-family=\"Times New Roman,serif\" font-size=\"14.00\" text-anchor=\"middle\" x=\"247.5\" y=\"-174.3\">(None, 256)</text>\n",
       "</g>\n",
       "<!-- 2809101751464&#45;&gt;2809101750792 -->\n",
       "<g class=\"edge\" id=\"edge4\"><title>2809101751464-&gt;2809101750792</title>\n",
       "<path d=\"M167.5,-249.366C167.5,-241.152 167.5,-231.658 167.5,-222.725\" fill=\"none\" stroke=\"black\"/>\n",
       "<polygon fill=\"black\" points=\"171,-222.607 167.5,-212.607 164,-222.607 171,-222.607\" stroke=\"black\"/>\n",
       "</g>\n",
       "<!-- 2809101750400 -->\n",
       "<g class=\"node\" id=\"node6\"><title>2809101750400</title>\n",
       "<polygon fill=\"none\" points=\"33,-83.5 33,-129.5 302,-129.5 302,-83.5 33,-83.5\" stroke=\"black\"/>\n",
       "<text font-family=\"Times New Roman,serif\" font-size=\"14.00\" text-anchor=\"middle\" x=\"98\" y=\"-102.8\">dropout_4: Dropout</text>\n",
       "<polyline fill=\"none\" points=\"163,-83.5 163,-129.5 \" stroke=\"black\"/>\n",
       "<text font-family=\"Times New Roman,serif\" font-size=\"14.00\" text-anchor=\"middle\" x=\"191\" y=\"-114.3\">input:</text>\n",
       "<polyline fill=\"none\" points=\"163,-106.5 219,-106.5 \" stroke=\"black\"/>\n",
       "<text font-family=\"Times New Roman,serif\" font-size=\"14.00\" text-anchor=\"middle\" x=\"191\" y=\"-91.3\">output:</text>\n",
       "<polyline fill=\"none\" points=\"219,-83.5 219,-129.5 \" stroke=\"black\"/>\n",
       "<text font-family=\"Times New Roman,serif\" font-size=\"14.00\" text-anchor=\"middle\" x=\"260.5\" y=\"-114.3\">(None, 256)</text>\n",
       "<polyline fill=\"none\" points=\"219,-106.5 302,-106.5 \" stroke=\"black\"/>\n",
       "<text font-family=\"Times New Roman,serif\" font-size=\"14.00\" text-anchor=\"middle\" x=\"260.5\" y=\"-91.3\">(None, 256)</text>\n",
       "</g>\n",
       "<!-- 2809101750792&#45;&gt;2809101750400 -->\n",
       "<g class=\"edge\" id=\"edge5\"><title>2809101750792-&gt;2809101750400</title>\n",
       "<path d=\"M167.5,-166.366C167.5,-158.152 167.5,-148.658 167.5,-139.725\" fill=\"none\" stroke=\"black\"/>\n",
       "<polygon fill=\"black\" points=\"171,-139.607 167.5,-129.607 164,-139.607 171,-139.607\" stroke=\"black\"/>\n",
       "</g>\n",
       "<!-- 2809067688792 -->\n",
       "<g class=\"node\" id=\"node7\"><title>2809067688792</title>\n",
       "<polygon fill=\"none\" points=\"46,-0.5 46,-46.5 289,-46.5 289,-0.5 46,-0.5\" stroke=\"black\"/>\n",
       "<text font-family=\"Times New Roman,serif\" font-size=\"14.00\" text-anchor=\"middle\" x=\"98\" y=\"-19.8\">dense_5: Dense</text>\n",
       "<polyline fill=\"none\" points=\"150,-0.5 150,-46.5 \" stroke=\"black\"/>\n",
       "<text font-family=\"Times New Roman,serif\" font-size=\"14.00\" text-anchor=\"middle\" x=\"178\" y=\"-31.3\">input:</text>\n",
       "<polyline fill=\"none\" points=\"150,-23.5 206,-23.5 \" stroke=\"black\"/>\n",
       "<text font-family=\"Times New Roman,serif\" font-size=\"14.00\" text-anchor=\"middle\" x=\"178\" y=\"-8.3\">output:</text>\n",
       "<polyline fill=\"none\" points=\"206,-0.5 206,-46.5 \" stroke=\"black\"/>\n",
       "<text font-family=\"Times New Roman,serif\" font-size=\"14.00\" text-anchor=\"middle\" x=\"247.5\" y=\"-31.3\">(None, 256)</text>\n",
       "<polyline fill=\"none\" points=\"206,-23.5 289,-23.5 \" stroke=\"black\"/>\n",
       "<text font-family=\"Times New Roman,serif\" font-size=\"14.00\" text-anchor=\"middle\" x=\"247.5\" y=\"-8.3\">(None, 10)</text>\n",
       "</g>\n",
       "<!-- 2809101750400&#45;&gt;2809067688792 -->\n",
       "<g class=\"edge\" id=\"edge6\"><title>2809101750400-&gt;2809067688792</title>\n",
       "<path d=\"M167.5,-83.3664C167.5,-75.1516 167.5,-65.6579 167.5,-56.7252\" fill=\"none\" stroke=\"black\"/>\n",
       "<polygon fill=\"black\" points=\"171,-56.6068 167.5,-46.6068 164,-56.6069 171,-56.6068\" stroke=\"black\"/>\n",
       "</g>\n",
       "</g>\n",
       "</svg>"
      ],
      "text/plain": [
       "<IPython.core.display.SVG object>"
      ]
     },
     "execution_count": 40,
     "metadata": {},
     "output_type": "execute_result"
    }
   ],
   "source": [
    "SVG(model_to_dot(clf_model, show_shapes=True, \n",
    "                 show_layer_names=True, rankdir='TB').create(prog='dot', format='svg'))"
   ]
  },
  {
   "cell_type": "code",
   "execution_count": 41,
   "metadata": {},
   "outputs": [],
   "source": [
    "clf_model.compile(loss=keras.losses.categorical_crossentropy,\n",
    "              optimizer=keras.optimizers.Adadelta(),\n",
    "              metrics=['accuracy'])"
   ]
  },
  {
   "cell_type": "code",
   "execution_count": 42,
   "metadata": {},
   "outputs": [
    {
     "name": "stdout",
     "output_type": "stream",
     "text": [
      "Epoch 1/50\n",
      "21000/21000 [==============================] - 3s 153us/step - loss: 0.8991 - acc: 0.7074\n",
      "Epoch 2/50\n",
      "21000/21000 [==============================] - 3s 125us/step - loss: 0.4918 - acc: 0.8491\n",
      "Epoch 3/50\n",
      "21000/21000 [==============================] - 3s 126us/step - loss: 0.4226 - acc: 0.8735\n",
      "Epoch 4/50\n",
      "21000/21000 [==============================] - 3s 127us/step - loss: 0.3876 - acc: 0.8848\n",
      "Epoch 5/50\n",
      "21000/21000 [==============================] - 3s 127us/step - loss: 0.3664 - acc: 0.8908\n",
      "Epoch 6/50\n",
      "21000/21000 [==============================] - 3s 128us/step - loss: 0.3482 - acc: 0.8961\n",
      "Epoch 7/50\n",
      "21000/21000 [==============================] - 3s 127us/step - loss: 0.3352 - acc: 0.8978\n",
      "Epoch 8/50\n",
      "21000/21000 [==============================] - 3s 128us/step - loss: 0.3222 - acc: 0.9023\n",
      "Epoch 9/50\n",
      "21000/21000 [==============================] - 3s 124us/step - loss: 0.3110 - acc: 0.9091\n",
      "Epoch 10/50\n",
      "21000/21000 [==============================] - 3s 127us/step - loss: 0.3002 - acc: 0.9078\n",
      "Epoch 11/50\n",
      "21000/21000 [==============================] - 3s 123us/step - loss: 0.2927 - acc: 0.9101\n",
      "Epoch 12/50\n",
      "21000/21000 [==============================] - 3s 128us/step - loss: 0.2837 - acc: 0.9150\n",
      "Epoch 13/50\n",
      "21000/21000 [==============================] - 3s 126us/step - loss: 0.2812 - acc: 0.9142\n",
      "Epoch 14/50\n",
      "21000/21000 [==============================] - 3s 126us/step - loss: 0.2740 - acc: 0.9180\n",
      "Epoch 15/50\n",
      "21000/21000 [==============================] - 3s 125us/step - loss: 0.2680 - acc: 0.9196\n",
      "Epoch 16/50\n",
      "21000/21000 [==============================] - 3s 123us/step - loss: 0.2626 - acc: 0.9189\n",
      "Epoch 17/50\n",
      "21000/21000 [==============================] - 3s 123us/step - loss: 0.2579 - acc: 0.9213\n",
      "Epoch 18/50\n",
      "21000/21000 [==============================] - 3s 126us/step - loss: 0.2551 - acc: 0.9253\n",
      "Epoch 19/50\n",
      "21000/21000 [==============================] - 3s 130us/step - loss: 0.2463 - acc: 0.9257\n",
      "Epoch 20/50\n",
      "21000/21000 [==============================] - 3s 126us/step - loss: 0.2467 - acc: 0.9235\n",
      "Epoch 21/50\n",
      "21000/21000 [==============================] - 3s 124us/step - loss: 0.2412 - acc: 0.9249\n",
      "Epoch 22/50\n",
      "21000/21000 [==============================] - 3s 126us/step - loss: 0.2356 - acc: 0.9287\n",
      "Epoch 23/50\n",
      "21000/21000 [==============================] - 3s 124us/step - loss: 0.2305 - acc: 0.9308\n",
      "Epoch 24/50\n",
      "21000/21000 [==============================] - 3s 126us/step - loss: 0.2299 - acc: 0.9300\n",
      "Epoch 25/50\n",
      "21000/21000 [==============================] - 3s 126us/step - loss: 0.2241 - acc: 0.9317\n",
      "Epoch 26/50\n",
      "21000/21000 [==============================] - 3s 126us/step - loss: 0.2259 - acc: 0.9299\n",
      "Epoch 27/50\n",
      "21000/21000 [==============================] - 3s 124us/step - loss: 0.2179 - acc: 0.9329\n",
      "Epoch 28/50\n",
      "21000/21000 [==============================] - 3s 121us/step - loss: 0.2116 - acc: 0.9350\n",
      "Epoch 29/50\n",
      "21000/21000 [==============================] - 3s 128us/step - loss: 0.2093 - acc: 0.9344\n",
      "Epoch 30/50\n",
      "21000/21000 [==============================] - 3s 127us/step - loss: 0.2076 - acc: 0.9362\n",
      "Epoch 31/50\n",
      "21000/21000 [==============================] - 3s 128us/step - loss: 0.2079 - acc: 0.9368\n",
      "Epoch 32/50\n",
      "21000/21000 [==============================] - 3s 127us/step - loss: 0.2015 - acc: 0.9381\n",
      "Epoch 33/50\n",
      "21000/21000 [==============================] - 3s 122us/step - loss: 0.2004 - acc: 0.9368\n",
      "Epoch 34/50\n",
      "21000/21000 [==============================] - 3s 126us/step - loss: 0.1907 - acc: 0.9407\n",
      "Epoch 35/50\n",
      "21000/21000 [==============================] - 3s 123us/step - loss: 0.1895 - acc: 0.9412\n",
      "Epoch 36/50\n",
      "21000/21000 [==============================] - 3s 126us/step - loss: 0.1891 - acc: 0.9410\n",
      "Epoch 37/50\n",
      "21000/21000 [==============================] - 3s 127us/step - loss: 0.1898 - acc: 0.9420\n",
      "Epoch 38/50\n",
      "21000/21000 [==============================] - 3s 125us/step - loss: 0.1842 - acc: 0.9451\n",
      "Epoch 39/50\n",
      "21000/21000 [==============================] - 3s 124us/step - loss: 0.1798 - acc: 0.9440\n",
      "Epoch 40/50\n",
      "21000/21000 [==============================] - 3s 124us/step - loss: 0.1823 - acc: 0.9445\n",
      "Epoch 41/50\n",
      "21000/21000 [==============================] - 3s 123us/step - loss: 0.1749 - acc: 0.9462\n",
      "Epoch 42/50\n",
      "21000/21000 [==============================] - 3s 124us/step - loss: 0.1726 - acc: 0.9455\n",
      "Epoch 43/50\n",
      "21000/21000 [==============================] - 3s 129us/step - loss: 0.1680 - acc: 0.9455\n",
      "Epoch 44/50\n",
      "21000/21000 [==============================] - 3s 126us/step - loss: 0.1651 - acc: 0.9487\n",
      "Epoch 45/50\n",
      "21000/21000 [==============================] - 3s 123us/step - loss: 0.1618 - acc: 0.9511\n",
      "Epoch 46/50\n",
      "21000/21000 [==============================] - 3s 127us/step - loss: 0.1627 - acc: 0.9485\n",
      "Epoch 47/50\n",
      "21000/21000 [==============================] - 3s 128us/step - loss: 0.1598 - acc: 0.9510\n",
      "Epoch 48/50\n",
      "21000/21000 [==============================] - 3s 125us/step - loss: 0.1607 - acc: 0.9493\n",
      "Epoch 49/50\n",
      "21000/21000 [==============================] - 3s 126us/step - loss: 0.1587 - acc: 0.9503\n",
      "Epoch 50/50\n",
      "21000/21000 [==============================] - 3s 124us/step - loss: 0.1581 - acc: 0.9513\n"
     ]
    },
    {
     "data": {
      "text/plain": [
       "<keras.callbacks.History at 0x28e09687dd8>"
      ]
     },
     "execution_count": 42,
     "metadata": {},
     "output_type": "execute_result"
    }
   ],
   "source": [
    "clf_model.fit(bottleneck_features_train, y_train_cnn,\n",
    "          batch_size=batch_size,\n",
    "          epochs=epochs,\n",
    "          verbose=1)"
   ]
  },
  {
   "cell_type": "markdown",
   "metadata": {},
   "source": [
    "# Predict and Test Model Performance"
   ]
  },
  {
   "cell_type": "code",
   "execution_count": 44,
   "metadata": {},
   "outputs": [
    {
     "name": "stdout",
     "output_type": "stream",
     "text": [
      "9000/9000 [==============================] - 1s 100us/step\n"
     ]
    }
   ],
   "source": [
    "score = clf_model.evaluate(bottleneck_features_test, y_test_cnn, verbose=1)"
   ]
  },
  {
   "cell_type": "code",
   "execution_count": 46,
   "metadata": {},
   "outputs": [
    {
     "name": "stdout",
     "output_type": "stream",
     "text": [
      "Test loss: 0.303949618406\n",
      "Test accuracy: 0.921333333333\n"
     ]
    }
   ],
   "source": [
    "print('Test loss:', score[0])\n",
    "print('Test accuracy:', score[1])"
   ]
  }
 ],
 "metadata": {
  "kernelspec": {
   "display_name": "Python 3",
   "language": "python",
   "name": "python3"
  },
  "language_info": {
   "codemirror_mode": {
    "name": "ipython",
    "version": 3
   },
   "file_extension": ".py",
   "mimetype": "text/x-python",
   "name": "python",
   "nbconvert_exporter": "python",
   "pygments_lexer": "ipython3",
   "version": "3.6.3"
  }
 },
 "nbformat": 4,
 "nbformat_minor": 2
}
