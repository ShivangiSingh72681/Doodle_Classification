{
 "cells": [
  {
   "cell_type": "markdown",
   "metadata": {},
   "source": [
    "<center><h1> Classification Models - Google's Quick-Draw Doodles </h1></center>"
   ]
  },
  {
   "cell_type": "code",
   "execution_count": 1,
   "metadata": {},
   "outputs": [],
   "source": [
    "import numpy as np # linear algebra\n",
    "import pandas as pd # data processing\n",
    "import matplotlib.pyplot as plt # Plotting library\n",
    "% matplotlib inline\n",
    "import pickle\n",
    "from sklearn.neighbors import KNeighborsClassifier\n",
    "from sklearn.ensemble import RandomForestClassifier\n",
    "from sklearn.svm import SVC, LinearSVC\n",
    "from sklearn.neural_network import MLPClassifier\n",
    "from sklearn.metrics import accuracy_score, confusion_matrix\n",
    "from sklearn.model_selection import GridSearchCV"
   ]
  },
  {
   "cell_type": "code",
   "execution_count": 2,
   "metadata": {},
   "outputs": [],
   "source": [
    "# Loading X_train\n",
    "with open('xtrain_doodle.pickle','rb') as f:\n",
    "    X_train = pickle.load(f)\n",
    "\n",
    "# Loading X_test\n",
    "with open('xtest_doodle.pickle','rb') as f:\n",
    "    X_test = pickle.load(f)\n",
    "    \n",
    "# Loading y_train\n",
    "with open('ytrain_doodle.pickle','rb') as f:\n",
    "    y_train = pickle.load(f)\n",
    "\n",
    "# Loading y_test\n",
    "with open('ytest_doodle.pickle','rb') as f:\n",
    "    y_test = pickle.load(f)"
   ]
  },
  {
   "cell_type": "markdown",
   "metadata": {},
   "source": [
    "## K-Nearest Neighbors\n",
    "\n",
    "By simply randomly guessing, one should be able to reach ~10% accuracy (since there are only ten class labels). A machine learning algorithm will need to obtain > 10% accuracy in order to demonstrate that it has in fact “learned” something (or found an underlying pattern in the data).\n",
    "\n",
    "To start, we’ll model the data with the k-Nearest Neighbor (k-NN) classifier, arguably the most simple, easy to understand machine learning algorithm. The k-NN algorithm classifies unknown data points by finding the most common class among the k-closest examples. Each data point in the k closest examples casts a vote and the category with the most votes is chosen."
   ]
  },
  {
   "cell_type": "code",
   "execution_count": 3,
   "metadata": {},
   "outputs": [
    {
     "name": "stdout",
     "output_type": "stream",
     "text": [
      "KNeighborsClassifier(algorithm='auto', leaf_size=30, metric='minkowski',\n",
      "           metric_params=None, n_jobs=-1, n_neighbors=5, p=2,\n",
      "           weights='uniform')\n",
      "KNN accuracy:  0.823444444444\n"
     ]
    }
   ],
   "source": [
    "# Base model\n",
    "knn = KNeighborsClassifier(n_jobs=-1)\n",
    "knn.fit(X_train, y_train)\n",
    "print(knn)\n",
    "y_pred_knn = knn.predict(X_test)\n",
    "acc_knn = accuracy_score(y_test, y_pred_knn)\n",
    "print ('KNN accuracy: ',acc_knn)"
   ]
  },
  {
   "cell_type": "code",
   "execution_count": 4,
   "metadata": {},
   "outputs": [
    {
     "data": {
      "text/html": [
       "<div>\n",
       "<style>\n",
       "    .dataframe thead tr:only-child th {\n",
       "        text-align: right;\n",
       "    }\n",
       "\n",
       "    .dataframe thead th {\n",
       "        text-align: left;\n",
       "    }\n",
       "\n",
       "    .dataframe tbody tr th {\n",
       "        vertical-align: top;\n",
       "    }\n",
       "</style>\n",
       "<table border=\"1\" class=\"dataframe\">\n",
       "  <thead>\n",
       "    <tr style=\"text-align: right;\">\n",
       "      <th></th>\n",
       "      <th>mean_fit_time</th>\n",
       "      <th>mean_score_time</th>\n",
       "      <th>mean_test_score</th>\n",
       "      <th>mean_train_score</th>\n",
       "      <th>param_n_neighbors</th>\n",
       "      <th>params</th>\n",
       "      <th>rank_test_score</th>\n",
       "      <th>split0_test_score</th>\n",
       "      <th>split0_train_score</th>\n",
       "      <th>split1_test_score</th>\n",
       "      <th>split1_train_score</th>\n",
       "      <th>split2_test_score</th>\n",
       "      <th>split2_train_score</th>\n",
       "      <th>std_fit_time</th>\n",
       "      <th>std_score_time</th>\n",
       "      <th>std_test_score</th>\n",
       "      <th>std_train_score</th>\n",
       "    </tr>\n",
       "  </thead>\n",
       "  <tbody>\n",
       "    <tr>\n",
       "      <th>4</th>\n",
       "      <td>15.105592</td>\n",
       "      <td>301.978185</td>\n",
       "      <td>0.803667</td>\n",
       "      <td>0.858048</td>\n",
       "      <td>5</td>\n",
       "      <td>{'n_neighbors': 5}</td>\n",
       "      <td>1</td>\n",
       "      <td>0.798229</td>\n",
       "      <td>0.859541</td>\n",
       "      <td>0.807115</td>\n",
       "      <td>0.859153</td>\n",
       "      <td>0.805659</td>\n",
       "      <td>0.855449</td>\n",
       "      <td>1.015940</td>\n",
       "      <td>1.277753</td>\n",
       "      <td>0.003892</td>\n",
       "      <td>0.001844</td>\n",
       "    </tr>\n",
       "    <tr>\n",
       "      <th>3</th>\n",
       "      <td>18.100580</td>\n",
       "      <td>294.929707</td>\n",
       "      <td>0.799762</td>\n",
       "      <td>0.866691</td>\n",
       "      <td>4</td>\n",
       "      <td>{'n_neighbors': 4}</td>\n",
       "      <td>2</td>\n",
       "      <td>0.794088</td>\n",
       "      <td>0.869115</td>\n",
       "      <td>0.805401</td>\n",
       "      <td>0.865938</td>\n",
       "      <td>0.799800</td>\n",
       "      <td>0.865019</td>\n",
       "      <td>3.007176</td>\n",
       "      <td>0.974213</td>\n",
       "      <td>0.004619</td>\n",
       "      <td>0.001755</td>\n",
       "    </tr>\n",
       "    <tr>\n",
       "      <th>2</th>\n",
       "      <td>12.885861</td>\n",
       "      <td>333.759502</td>\n",
       "      <td>0.798143</td>\n",
       "      <td>0.880429</td>\n",
       "      <td>3</td>\n",
       "      <td>{'n_neighbors': 3}</td>\n",
       "      <td>3</td>\n",
       "      <td>0.791946</td>\n",
       "      <td>0.883046</td>\n",
       "      <td>0.803972</td>\n",
       "      <td>0.881366</td>\n",
       "      <td>0.798514</td>\n",
       "      <td>0.876875</td>\n",
       "      <td>4.299475</td>\n",
       "      <td>28.666123</td>\n",
       "      <td>0.004917</td>\n",
       "      <td>0.002605</td>\n",
       "    </tr>\n",
       "    <tr>\n",
       "      <th>0</th>\n",
       "      <td>3.535875</td>\n",
       "      <td>340.273409</td>\n",
       "      <td>0.792952</td>\n",
       "      <td>1.000000</td>\n",
       "      <td>1</td>\n",
       "      <td>{'n_neighbors': 1}</td>\n",
       "      <td>4</td>\n",
       "      <td>0.784093</td>\n",
       "      <td>1.000000</td>\n",
       "      <td>0.797828</td>\n",
       "      <td>1.000000</td>\n",
       "      <td>0.796942</td>\n",
       "      <td>1.000000</td>\n",
       "      <td>0.547114</td>\n",
       "      <td>4.405987</td>\n",
       "      <td>0.006277</td>\n",
       "      <td>0.000000</td>\n",
       "    </tr>\n",
       "    <tr>\n",
       "      <th>1</th>\n",
       "      <td>6.729996</td>\n",
       "      <td>351.736079</td>\n",
       "      <td>0.775095</td>\n",
       "      <td>0.896453</td>\n",
       "      <td>2</td>\n",
       "      <td>{'n_neighbors': 2}</td>\n",
       "      <td>5</td>\n",
       "      <td>0.768528</td>\n",
       "      <td>0.901550</td>\n",
       "      <td>0.776682</td>\n",
       "      <td>0.897222</td>\n",
       "      <td>0.780080</td>\n",
       "      <td>0.890587</td>\n",
       "      <td>0.684796</td>\n",
       "      <td>0.809753</td>\n",
       "      <td>0.004848</td>\n",
       "      <td>0.004509</td>\n",
       "    </tr>\n",
       "  </tbody>\n",
       "</table>\n",
       "</div>"
      ],
      "text/plain": [
       "   mean_fit_time  mean_score_time  mean_test_score  mean_train_score  \\\n",
       "4      15.105592       301.978185         0.803667          0.858048   \n",
       "3      18.100580       294.929707         0.799762          0.866691   \n",
       "2      12.885861       333.759502         0.798143          0.880429   \n",
       "0       3.535875       340.273409         0.792952          1.000000   \n",
       "1       6.729996       351.736079         0.775095          0.896453   \n",
       "\n",
       "  param_n_neighbors              params  rank_test_score  split0_test_score  \\\n",
       "4                 5  {'n_neighbors': 5}                1           0.798229   \n",
       "3                 4  {'n_neighbors': 4}                2           0.794088   \n",
       "2                 3  {'n_neighbors': 3}                3           0.791946   \n",
       "0                 1  {'n_neighbors': 1}                4           0.784093   \n",
       "1                 2  {'n_neighbors': 2}                5           0.768528   \n",
       "\n",
       "   split0_train_score  split1_test_score  split1_train_score  \\\n",
       "4            0.859541           0.807115            0.859153   \n",
       "3            0.869115           0.805401            0.865938   \n",
       "2            0.883046           0.803972            0.881366   \n",
       "0            1.000000           0.797828            1.000000   \n",
       "1            0.901550           0.776682            0.897222   \n",
       "\n",
       "   split2_test_score  split2_train_score  std_fit_time  std_score_time  \\\n",
       "4           0.805659            0.855449      1.015940        1.277753   \n",
       "3           0.799800            0.865019      3.007176        0.974213   \n",
       "2           0.798514            0.876875      4.299475       28.666123   \n",
       "0           0.796942            1.000000      0.547114        4.405987   \n",
       "1           0.780080            0.890587      0.684796        0.809753   \n",
       "\n",
       "   std_test_score  std_train_score  \n",
       "4        0.003892         0.001844  \n",
       "3        0.004619         0.001755  \n",
       "2        0.004917         0.002605  \n",
       "0        0.006277         0.000000  \n",
       "1        0.004848         0.004509  "
      ]
     },
     "execution_count": 4,
     "metadata": {},
     "output_type": "execute_result"
    }
   ],
   "source": [
    "# Tuning number of neighbors\n",
    "parameters = {'n_neighbors': np.arange(1,6,1)}\n",
    "\n",
    "knn = KNeighborsClassifier(n_jobs=-1)\n",
    "knn = GridSearchCV(knn, parameters, n_jobs=-1)\n",
    "knn.fit(X_train, y_train)\n",
    "\n",
    "results_knn = pd.DataFrame(knn.cv_results_)\n",
    "results_knn.sort_values('mean_test_score', ascending = False)"
   ]
  },
  {
   "cell_type": "code",
   "execution_count": 5,
   "metadata": {},
   "outputs": [
    {
     "data": {
      "text/plain": [
       "<matplotlib.axes._subplots.AxesSubplot at 0x20f96873c50>"
      ]
     },
     "execution_count": 5,
     "metadata": {},
     "output_type": "execute_result"
    },
    {
     "data": {
      "image/png": "[encoded data removed]",
      "text/plain": [
       "<matplotlib.figure.Figure at 0x20f968731d0>"
      ]
     },
     "metadata": {},
     "output_type": "display_data"
    }
   ],
   "source": [
    "# Plot results of grid search\n",
    "results_knn.plot('param_n_neighbors','mean_test_score')"
   ]
  },
  {
   "cell_type": "code",
   "execution_count": 6,
   "metadata": {},
   "outputs": [
    {
     "name": "stdout",
     "output_type": "stream",
     "text": [
      "KNeighborsClassifier(algorithm='auto', leaf_size=30, metric='minkowski',\n",
      "           metric_params=None, n_jobs=-1, n_neighbors=3, p=2,\n",
      "           weights='uniform')\n",
      "KNN accuracy:  0.819555555556\n"
     ]
    }
   ],
   "source": [
    "knn = KNeighborsClassifier(n_neighbors=3, n_jobs=-1)\n",
    "knn.fit(X_train, y_train)\n",
    "print(knn)\n",
    "y_pred_knn = knn.predict(X_test)\n",
    "acc_knn = accuracy_score(y_test, y_pred_knn)\n",
    "print ('KNN accuracy: ',acc_knn)"
   ]
  },
  {
   "cell_type": "markdown",
   "metadata": {},
   "source": [
    "From examining our plot and using the elbow-method using 3 neighbors seems like the best choice to avoid overfitting. The main advantage of the KNN algorithm is that it performs well with multi-modal classes because the basis of its decision is based on a small neighborhood of similar objects. This is why its results were fairly high with **80%**. The main disadvantage is the computational cost are very high and the results take far too long. \n",
    "\n",
    "\n",
    "## Random Forest\n",
    "Random forests is an ensemble model which means that it uses the results from many different models to calculate a label"
   ]
  },
  {
   "cell_type": "code",
   "execution_count": 7,
   "metadata": {},
   "outputs": [
    {
     "name": "stdout",
     "output_type": "stream",
     "text": [
      "RandomForestClassifier(bootstrap=True, class_weight=None, criterion='gini',\n",
      "            max_depth=None, max_features='auto', max_leaf_nodes=None,\n",
      "            min_impurity_decrease=0.0, min_impurity_split=None,\n",
      "            min_samples_leaf=1, min_samples_split=2,\n",
      "            min_weight_fraction_leaf=0.0, n_estimators=10, n_jobs=1,\n",
      "            oob_score=False, random_state=1, verbose=0, warm_start=False)\n",
      "Random forest accuracy:  0.741222222222\n"
     ]
    }
   ],
   "source": [
    "# Base RFC model\n",
    "rfc = RandomForestClassifier(random_state=1)\n",
    "rfc.fit(X_train, y_train)\n",
    "print(rfc)\n",
    "y_pred_rfc = rfc.predict(X_test)\n",
    "acc_rfc = accuracy_score(y_test, y_pred_rfc)\n",
    "print ('Random forest accuracy: ',acc_rfc)"
   ]
  },
  {
   "cell_type": "code",
   "execution_count": 8,
   "metadata": {},
   "outputs": [
    {
     "data": {
      "text/html": [
       "<div>\n",
       "<style>\n",
       "    .dataframe thead tr:only-child th {\n",
       "        text-align: right;\n",
       "    }\n",
       "\n",
       "    .dataframe thead th {\n",
       "        text-align: left;\n",
       "    }\n",
       "\n",
       "    .dataframe tbody tr th {\n",
       "        vertical-align: top;\n",
       "    }\n",
       "</style>\n",
       "<table border=\"1\" class=\"dataframe\">\n",
       "  <thead>\n",
       "    <tr style=\"text-align: right;\">\n",
       "      <th></th>\n",
       "      <th>mean_fit_time</th>\n",
       "      <th>mean_score_time</th>\n",
       "      <th>mean_test_score</th>\n",
       "      <th>mean_train_score</th>\n",
       "      <th>param_n_estimators</th>\n",
       "      <th>params</th>\n",
       "      <th>rank_test_score</th>\n",
       "      <th>split0_test_score</th>\n",
       "      <th>split0_train_score</th>\n",
       "      <th>split1_test_score</th>\n",
       "      <th>split1_train_score</th>\n",
       "      <th>split2_test_score</th>\n",
       "      <th>split2_train_score</th>\n",
       "      <th>std_fit_time</th>\n",
       "      <th>std_score_time</th>\n",
       "      <th>std_test_score</th>\n",
       "      <th>std_train_score</th>\n",
       "    </tr>\n",
       "  </thead>\n",
       "  <tbody>\n",
       "    <tr>\n",
       "      <th>13</th>\n",
       "      <td>20.792711</td>\n",
       "      <td>1.123660</td>\n",
       "      <td>0.796857</td>\n",
       "      <td>1.000000</td>\n",
       "      <td>140</td>\n",
       "      <td>{'n_estimators': 140}</td>\n",
       "      <td>1</td>\n",
       "      <td>0.794659</td>\n",
       "      <td>1.000000</td>\n",
       "      <td>0.797257</td>\n",
       "      <td>1.000000</td>\n",
       "      <td>0.798657</td>\n",
       "      <td>1.000000</td>\n",
       "      <td>0.202235</td>\n",
       "      <td>0.350724</td>\n",
       "      <td>0.001656</td>\n",
       "      <td>0.000000</td>\n",
       "    </tr>\n",
       "    <tr>\n",
       "      <th>12</th>\n",
       "      <td>18.930360</td>\n",
       "      <td>3.998305</td>\n",
       "      <td>0.795905</td>\n",
       "      <td>1.000000</td>\n",
       "      <td>130</td>\n",
       "      <td>{'n_estimators': 130}</td>\n",
       "      <td>2</td>\n",
       "      <td>0.794231</td>\n",
       "      <td>1.000000</td>\n",
       "      <td>0.795685</td>\n",
       "      <td>1.000000</td>\n",
       "      <td>0.797799</td>\n",
       "      <td>1.000000</td>\n",
       "      <td>1.331909</td>\n",
       "      <td>1.166958</td>\n",
       "      <td>0.001465</td>\n",
       "      <td>0.000000</td>\n",
       "    </tr>\n",
       "    <tr>\n",
       "      <th>11</th>\n",
       "      <td>21.582265</td>\n",
       "      <td>2.621986</td>\n",
       "      <td>0.795333</td>\n",
       "      <td>1.000000</td>\n",
       "      <td>120</td>\n",
       "      <td>{'n_estimators': 120}</td>\n",
       "      <td>3</td>\n",
       "      <td>0.792375</td>\n",
       "      <td>1.000000</td>\n",
       "      <td>0.795542</td>\n",
       "      <td>1.000000</td>\n",
       "      <td>0.798085</td>\n",
       "      <td>1.000000</td>\n",
       "      <td>0.096863</td>\n",
       "      <td>0.078635</td>\n",
       "      <td>0.002336</td>\n",
       "      <td>0.000000</td>\n",
       "    </tr>\n",
       "    <tr>\n",
       "      <th>10</th>\n",
       "      <td>20.006148</td>\n",
       "      <td>3.427830</td>\n",
       "      <td>0.795048</td>\n",
       "      <td>1.000000</td>\n",
       "      <td>110</td>\n",
       "      <td>{'n_estimators': 110}</td>\n",
       "      <td>4</td>\n",
       "      <td>0.793374</td>\n",
       "      <td>1.000000</td>\n",
       "      <td>0.794971</td>\n",
       "      <td>1.000000</td>\n",
       "      <td>0.796799</td>\n",
       "      <td>1.000000</td>\n",
       "      <td>0.166841</td>\n",
       "      <td>0.360009</td>\n",
       "      <td>0.001399</td>\n",
       "      <td>0.000000</td>\n",
       "    </tr>\n",
       "    <tr>\n",
       "      <th>9</th>\n",
       "      <td>14.886179</td>\n",
       "      <td>4.488992</td>\n",
       "      <td>0.794714</td>\n",
       "      <td>1.000000</td>\n",
       "      <td>100</td>\n",
       "      <td>{'n_estimators': 100}</td>\n",
       "      <td>5</td>\n",
       "      <td>0.794659</td>\n",
       "      <td>1.000000</td>\n",
       "      <td>0.791970</td>\n",
       "      <td>1.000000</td>\n",
       "      <td>0.797514</td>\n",
       "      <td>1.000000</td>\n",
       "      <td>1.690347</td>\n",
       "      <td>1.596608</td>\n",
       "      <td>0.002263</td>\n",
       "      <td>0.000000</td>\n",
       "    </tr>\n",
       "    <tr>\n",
       "      <th>8</th>\n",
       "      <td>16.146473</td>\n",
       "      <td>2.290540</td>\n",
       "      <td>0.794143</td>\n",
       "      <td>1.000000</td>\n",
       "      <td>90</td>\n",
       "      <td>{'n_estimators': 90}</td>\n",
       "      <td>6</td>\n",
       "      <td>0.792660</td>\n",
       "      <td>1.000000</td>\n",
       "      <td>0.794685</td>\n",
       "      <td>1.000000</td>\n",
       "      <td>0.795084</td>\n",
       "      <td>1.000000</td>\n",
       "      <td>0.151948</td>\n",
       "      <td>0.256432</td>\n",
       "      <td>0.001061</td>\n",
       "      <td>0.000000</td>\n",
       "    </tr>\n",
       "    <tr>\n",
       "      <th>7</th>\n",
       "      <td>13.056737</td>\n",
       "      <td>4.379617</td>\n",
       "      <td>0.792619</td>\n",
       "      <td>1.000000</td>\n",
       "      <td>80</td>\n",
       "      <td>{'n_estimators': 80}</td>\n",
       "      <td>7</td>\n",
       "      <td>0.791232</td>\n",
       "      <td>1.000000</td>\n",
       "      <td>0.793113</td>\n",
       "      <td>1.000000</td>\n",
       "      <td>0.793512</td>\n",
       "      <td>1.000000</td>\n",
       "      <td>1.833468</td>\n",
       "      <td>0.999864</td>\n",
       "      <td>0.000994</td>\n",
       "      <td>0.000000</td>\n",
       "    </tr>\n",
       "    <tr>\n",
       "      <th>6</th>\n",
       "      <td>10.702371</td>\n",
       "      <td>2.179835</td>\n",
       "      <td>0.791524</td>\n",
       "      <td>1.000000</td>\n",
       "      <td>70</td>\n",
       "      <td>{'n_estimators': 70}</td>\n",
       "      <td>8</td>\n",
       "      <td>0.790804</td>\n",
       "      <td>1.000000</td>\n",
       "      <td>0.791542</td>\n",
       "      <td>1.000000</td>\n",
       "      <td>0.792226</td>\n",
       "      <td>1.000000</td>\n",
       "      <td>1.191508</td>\n",
       "      <td>1.318801</td>\n",
       "      <td>0.000581</td>\n",
       "      <td>0.000000</td>\n",
       "    </tr>\n",
       "    <tr>\n",
       "      <th>5</th>\n",
       "      <td>10.107294</td>\n",
       "      <td>2.427174</td>\n",
       "      <td>0.787286</td>\n",
       "      <td>1.000000</td>\n",
       "      <td>60</td>\n",
       "      <td>{'n_estimators': 60}</td>\n",
       "      <td>9</td>\n",
       "      <td>0.785378</td>\n",
       "      <td>1.000000</td>\n",
       "      <td>0.785969</td>\n",
       "      <td>1.000000</td>\n",
       "      <td>0.790512</td>\n",
       "      <td>1.000000</td>\n",
       "      <td>0.591262</td>\n",
       "      <td>0.508753</td>\n",
       "      <td>0.002293</td>\n",
       "      <td>0.000000</td>\n",
       "    </tr>\n",
       "    <tr>\n",
       "      <th>4</th>\n",
       "      <td>6.643894</td>\n",
       "      <td>3.807814</td>\n",
       "      <td>0.784714</td>\n",
       "      <td>0.999952</td>\n",
       "      <td>50</td>\n",
       "      <td>{'n_estimators': 50}</td>\n",
       "      <td>10</td>\n",
       "      <td>0.780665</td>\n",
       "      <td>0.999929</td>\n",
       "      <td>0.784398</td>\n",
       "      <td>0.999929</td>\n",
       "      <td>0.789083</td>\n",
       "      <td>1.000000</td>\n",
       "      <td>0.588176</td>\n",
       "      <td>0.759888</td>\n",
       "      <td>0.003444</td>\n",
       "      <td>0.000034</td>\n",
       "    </tr>\n",
       "    <tr>\n",
       "      <th>3</th>\n",
       "      <td>6.064442</td>\n",
       "      <td>0.996334</td>\n",
       "      <td>0.781381</td>\n",
       "      <td>0.999952</td>\n",
       "      <td>40</td>\n",
       "      <td>{'n_estimators': 40}</td>\n",
       "      <td>11</td>\n",
       "      <td>0.777667</td>\n",
       "      <td>0.999929</td>\n",
       "      <td>0.778111</td>\n",
       "      <td>0.999929</td>\n",
       "      <td>0.788368</td>\n",
       "      <td>1.000000</td>\n",
       "      <td>0.356902</td>\n",
       "      <td>0.039189</td>\n",
       "      <td>0.004943</td>\n",
       "      <td>0.000034</td>\n",
       "    </tr>\n",
       "    <tr>\n",
       "      <th>2</th>\n",
       "      <td>3.928823</td>\n",
       "      <td>2.371324</td>\n",
       "      <td>0.769524</td>\n",
       "      <td>0.999905</td>\n",
       "      <td>30</td>\n",
       "      <td>{'n_estimators': 30}</td>\n",
       "      <td>12</td>\n",
       "      <td>0.763673</td>\n",
       "      <td>0.999857</td>\n",
       "      <td>0.768967</td>\n",
       "      <td>0.999857</td>\n",
       "      <td>0.775936</td>\n",
       "      <td>1.000000</td>\n",
       "      <td>0.086026</td>\n",
       "      <td>0.631679</td>\n",
       "      <td>0.005022</td>\n",
       "      <td>0.000067</td>\n",
       "    </tr>\n",
       "    <tr>\n",
       "      <th>1</th>\n",
       "      <td>1.818137</td>\n",
       "      <td>1.352050</td>\n",
       "      <td>0.756143</td>\n",
       "      <td>0.999500</td>\n",
       "      <td>20</td>\n",
       "      <td>{'n_estimators': 20}</td>\n",
       "      <td>13</td>\n",
       "      <td>0.753106</td>\n",
       "      <td>0.999500</td>\n",
       "      <td>0.752965</td>\n",
       "      <td>0.999214</td>\n",
       "      <td>0.762361</td>\n",
       "      <td>0.999786</td>\n",
       "      <td>0.364681</td>\n",
       "      <td>0.792057</td>\n",
       "      <td>0.004396</td>\n",
       "      <td>0.000233</td>\n",
       "    </tr>\n",
       "    <tr>\n",
       "      <th>0</th>\n",
       "      <td>1.013623</td>\n",
       "      <td>0.444477</td>\n",
       "      <td>0.719667</td>\n",
       "      <td>0.996024</td>\n",
       "      <td>10</td>\n",
       "      <td>{'n_estimators': 10}</td>\n",
       "      <td>14</td>\n",
       "      <td>0.713837</td>\n",
       "      <td>0.996428</td>\n",
       "      <td>0.718388</td>\n",
       "      <td>0.995857</td>\n",
       "      <td>0.726779</td>\n",
       "      <td>0.995786</td>\n",
       "      <td>0.097722</td>\n",
       "      <td>0.145811</td>\n",
       "      <td>0.005361</td>\n",
       "      <td>0.000287</td>\n",
       "    </tr>\n",
       "  </tbody>\n",
       "</table>\n",
       "</div>"
      ],
      "text/plain": [
       "    mean_fit_time  mean_score_time  mean_test_score  mean_train_score  \\\n",
       "13      20.792711         1.123660         0.796857          1.000000   \n",
       "12      18.930360         3.998305         0.795905          1.000000   \n",
       "11      21.582265         2.621986         0.795333          1.000000   \n",
       "10      20.006148         3.427830         0.795048          1.000000   \n",
       "9       14.886179         4.488992         0.794714          1.000000   \n",
       "8       16.146473         2.290540         0.794143          1.000000   \n",
       "7       13.056737         4.379617         0.792619          1.000000   \n",
       "6       10.702371         2.179835         0.791524          1.000000   \n",
       "5       10.107294         2.427174         0.787286          1.000000   \n",
       "4        6.643894         3.807814         0.784714          0.999952   \n",
       "3        6.064442         0.996334         0.781381          0.999952   \n",
       "2        3.928823         2.371324         0.769524          0.999905   \n",
       "1        1.818137         1.352050         0.756143          0.999500   \n",
       "0        1.013623         0.444477         0.719667          0.996024   \n",
       "\n",
       "   param_n_estimators                 params  rank_test_score  \\\n",
       "13                140  {'n_estimators': 140}                1   \n",
       "12                130  {'n_estimators': 130}                2   \n",
       "11                120  {'n_estimators': 120}                3   \n",
       "10                110  {'n_estimators': 110}                4   \n",
       "9                 100  {'n_estimators': 100}                5   \n",
       "8                  90   {'n_estimators': 90}                6   \n",
       "7                  80   {'n_estimators': 80}                7   \n",
       "6                  70   {'n_estimators': 70}                8   \n",
       "5                  60   {'n_estimators': 60}                9   \n",
       "4                  50   {'n_estimators': 50}               10   \n",
       "3                  40   {'n_estimators': 40}               11   \n",
       "2                  30   {'n_estimators': 30}               12   \n",
       "1                  20   {'n_estimators': 20}               13   \n",
       "0                  10   {'n_estimators': 10}               14   \n",
       "\n",
       "    split0_test_score  split0_train_score  split1_test_score  \\\n",
       "13           0.794659            1.000000           0.797257   \n",
       "12           0.794231            1.000000           0.795685   \n",
       "11           0.792375            1.000000           0.795542   \n",
       "10           0.793374            1.000000           0.794971   \n",
       "9            0.794659            1.000000           0.791970   \n",
       "8            0.792660            1.000000           0.794685   \n",
       "7            0.791232            1.000000           0.793113   \n",
       "6            0.790804            1.000000           0.791542   \n",
       "5            0.785378            1.000000           0.785969   \n",
       "4            0.780665            0.999929           0.784398   \n",
       "3            0.777667            0.999929           0.778111   \n",
       "2            0.763673            0.999857           0.768967   \n",
       "1            0.753106            0.999500           0.752965   \n",
       "0            0.713837            0.996428           0.718388   \n",
       "\n",
       "    split1_train_score  split2_test_score  split2_train_score  std_fit_time  \\\n",
       "13            1.000000           0.798657            1.000000      0.202235   \n",
       "12            1.000000           0.797799            1.000000      1.331909   \n",
       "11            1.000000           0.798085            1.000000      0.096863   \n",
       "10            1.000000           0.796799            1.000000      0.166841   \n",
       "9             1.000000           0.797514            1.000000      1.690347   \n",
       "8             1.000000           0.795084            1.000000      0.151948   \n",
       "7             1.000000           0.793512            1.000000      1.833468   \n",
       "6             1.000000           0.792226            1.000000      1.191508   \n",
       "5             1.000000           0.790512            1.000000      0.591262   \n",
       "4             0.999929           0.789083            1.000000      0.588176   \n",
       "3             0.999929           0.788368            1.000000      0.356902   \n",
       "2             0.999857           0.775936            1.000000      0.086026   \n",
       "1             0.999214           0.762361            0.999786      0.364681   \n",
       "0             0.995857           0.726779            0.995786      0.097722   \n",
       "\n",
       "    std_score_time  std_test_score  std_train_score  \n",
       "13        0.350724        0.001656         0.000000  \n",
       "12        1.166958        0.001465         0.000000  \n",
       "11        0.078635        0.002336         0.000000  \n",
       "10        0.360009        0.001399         0.000000  \n",
       "9         1.596608        0.002263         0.000000  \n",
       "8         0.256432        0.001061         0.000000  \n",
       "7         0.999864        0.000994         0.000000  \n",
       "6         1.318801        0.000581         0.000000  \n",
       "5         0.508753        0.002293         0.000000  \n",
       "4         0.759888        0.003444         0.000034  \n",
       "3         0.039189        0.004943         0.000034  \n",
       "2         0.631679        0.005022         0.000067  \n",
       "1         0.792057        0.004396         0.000233  \n",
       "0         0.145811        0.005361         0.000287  "
      ]
     },
     "execution_count": 8,
     "metadata": {},
     "output_type": "execute_result"
    }
   ],
   "source": [
    "# Tuning number of estimators in the ensemble method\n",
    "parameters = {'n_estimators': np.arange(10,150,10)}\n",
    "rfc = RandomForestClassifier(random_state=1, n_jobs=-1)\n",
    "rfc_gs = GridSearchCV(rfc, parameters, n_jobs=-1)\n",
    "rfc_gs.fit(X_train, y_train)\n",
    "\n",
    "results_rfc_gs = pd.DataFrame(rfc_gs.cv_results_)\n",
    "results_rfc_gs.sort_values('mean_test_score', ascending = False)"
   ]
  },
  {
   "cell_type": "code",
   "execution_count": 9,
   "metadata": {},
   "outputs": [
    {
     "data": {
      "text/plain": [
       "<matplotlib.axes._subplots.AxesSubplot at 0x20f96c16908>"
      ]
     },
     "execution_count": 9,
     "metadata": {},
     "output_type": "execute_result"
    },
    {
     "data": {
      "image/png": "[encoded data removed]",
      "text/plain": [
       "<matplotlib.figure.Figure at 0x20f968bd550>"
      ]
     },
     "metadata": {},
     "output_type": "display_data"
    }
   ],
   "source": [
    "# Plot results of grid search\n",
    "results_rfc_gs.plot('param_n_estimators','mean_test_score')"
   ]
  },
  {
   "cell_type": "code",
   "execution_count": 10,
   "metadata": {},
   "outputs": [
    {
     "data": {
      "text/html": [
       "<div>\n",
       "<style>\n",
       "    .dataframe thead tr:only-child th {\n",
       "        text-align: right;\n",
       "    }\n",
       "\n",
       "    .dataframe thead th {\n",
       "        text-align: left;\n",
       "    }\n",
       "\n",
       "    .dataframe tbody tr th {\n",
       "        vertical-align: top;\n",
       "    }\n",
       "</style>\n",
       "<table border=\"1\" class=\"dataframe\">\n",
       "  <thead>\n",
       "    <tr style=\"text-align: right;\">\n",
       "      <th></th>\n",
       "      <th>mean_fit_time</th>\n",
       "      <th>mean_score_time</th>\n",
       "      <th>mean_test_score</th>\n",
       "      <th>mean_train_score</th>\n",
       "      <th>param_max_features</th>\n",
       "      <th>params</th>\n",
       "      <th>rank_test_score</th>\n",
       "      <th>split0_test_score</th>\n",
       "      <th>split0_train_score</th>\n",
       "      <th>split1_test_score</th>\n",
       "      <th>split1_train_score</th>\n",
       "      <th>split2_test_score</th>\n",
       "      <th>split2_train_score</th>\n",
       "      <th>std_fit_time</th>\n",
       "      <th>std_score_time</th>\n",
       "      <th>std_test_score</th>\n",
       "      <th>std_train_score</th>\n",
       "    </tr>\n",
       "  </thead>\n",
       "  <tbody>\n",
       "    <tr>\n",
       "      <th>0</th>\n",
       "      <td>9.328711</td>\n",
       "      <td>5.434796</td>\n",
       "      <td>0.792952</td>\n",
       "      <td>1.0</td>\n",
       "      <td>sqrt</td>\n",
       "      <td>{'max_features': 'sqrt'}</td>\n",
       "      <td>1</td>\n",
       "      <td>0.791375</td>\n",
       "      <td>1.0</td>\n",
       "      <td>0.793685</td>\n",
       "      <td>1.0</td>\n",
       "      <td>0.793798</td>\n",
       "      <td>1.0</td>\n",
       "      <td>2.523693</td>\n",
       "      <td>0.301510</td>\n",
       "      <td>0.001117</td>\n",
       "      <td>0.0</td>\n",
       "    </tr>\n",
       "    <tr>\n",
       "      <th>1</th>\n",
       "      <td>34.772647</td>\n",
       "      <td>5.717704</td>\n",
       "      <td>0.791905</td>\n",
       "      <td>1.0</td>\n",
       "      <td>0.1</td>\n",
       "      <td>{'max_features': 0.1}</td>\n",
       "      <td>2</td>\n",
       "      <td>0.791518</td>\n",
       "      <td>1.0</td>\n",
       "      <td>0.791399</td>\n",
       "      <td>1.0</td>\n",
       "      <td>0.792798</td>\n",
       "      <td>1.0</td>\n",
       "      <td>1.353872</td>\n",
       "      <td>0.455378</td>\n",
       "      <td>0.000633</td>\n",
       "      <td>0.0</td>\n",
       "    </tr>\n",
       "    <tr>\n",
       "      <th>2</th>\n",
       "      <td>94.092957</td>\n",
       "      <td>3.717724</td>\n",
       "      <td>0.787286</td>\n",
       "      <td>1.0</td>\n",
       "      <td>0.3</td>\n",
       "      <td>{'max_features': 0.3}</td>\n",
       "      <td>3</td>\n",
       "      <td>0.782522</td>\n",
       "      <td>1.0</td>\n",
       "      <td>0.786970</td>\n",
       "      <td>1.0</td>\n",
       "      <td>0.792369</td>\n",
       "      <td>1.0</td>\n",
       "      <td>0.684241</td>\n",
       "      <td>0.639052</td>\n",
       "      <td>0.004027</td>\n",
       "      <td>0.0</td>\n",
       "    </tr>\n",
       "    <tr>\n",
       "      <th>3</th>\n",
       "      <td>114.136747</td>\n",
       "      <td>0.413934</td>\n",
       "      <td>0.780619</td>\n",
       "      <td>1.0</td>\n",
       "      <td>0.5</td>\n",
       "      <td>{'max_features': 0.5}</td>\n",
       "      <td>4</td>\n",
       "      <td>0.775525</td>\n",
       "      <td>1.0</td>\n",
       "      <td>0.781683</td>\n",
       "      <td>1.0</td>\n",
       "      <td>0.784653</td>\n",
       "      <td>1.0</td>\n",
       "      <td>9.244127</td>\n",
       "      <td>0.201465</td>\n",
       "      <td>0.003802</td>\n",
       "      <td>0.0</td>\n",
       "    </tr>\n",
       "  </tbody>\n",
       "</table>\n",
       "</div>"
      ],
      "text/plain": [
       "   mean_fit_time  mean_score_time  mean_test_score  mean_train_score  \\\n",
       "0       9.328711         5.434796         0.792952               1.0   \n",
       "1      34.772647         5.717704         0.791905               1.0   \n",
       "2      94.092957         3.717724         0.787286               1.0   \n",
       "3     114.136747         0.413934         0.780619               1.0   \n",
       "\n",
       "  param_max_features                    params  rank_test_score  \\\n",
       "0               sqrt  {'max_features': 'sqrt'}                1   \n",
       "1                0.1     {'max_features': 0.1}                2   \n",
       "2                0.3     {'max_features': 0.3}                3   \n",
       "3                0.5     {'max_features': 0.5}                4   \n",
       "\n",
       "   split0_test_score  split0_train_score  split1_test_score  \\\n",
       "0           0.791375                 1.0           0.793685   \n",
       "1           0.791518                 1.0           0.791399   \n",
       "2           0.782522                 1.0           0.786970   \n",
       "3           0.775525                 1.0           0.781683   \n",
       "\n",
       "   split1_train_score  split2_test_score  split2_train_score  std_fit_time  \\\n",
       "0                 1.0           0.793798                 1.0      2.523693   \n",
       "1                 1.0           0.792798                 1.0      1.353872   \n",
       "2                 1.0           0.792369                 1.0      0.684241   \n",
       "3                 1.0           0.784653                 1.0      9.244127   \n",
       "\n",
       "   std_score_time  std_test_score  std_train_score  \n",
       "0        0.301510        0.001117              0.0  \n",
       "1        0.455378        0.000633              0.0  \n",
       "2        0.639052        0.004027              0.0  \n",
       "3        0.201465        0.003802              0.0  "
      ]
     },
     "execution_count": 10,
     "metadata": {},
     "output_type": "execute_result"
    }
   ],
   "source": [
    "# Tuning max features\n",
    "parameters = {'max_features':['sqrt',.1,.3,.5]}\n",
    "\n",
    "rfc = RandomForestClassifier(n_estimators= 80, random_state=1, n_jobs=-1)\n",
    "rfc_gs = GridSearchCV(rfc, parameters, n_jobs=-1)\n",
    "rfc_gs.fit(X_train, y_train)\n",
    "\n",
    "results_rfc_gs = pd.DataFrame(rfc_gs.cv_results_)\n",
    "results_rfc_gs.sort_values('mean_test_score', ascending = False)"
   ]
  },
  {
   "cell_type": "code",
   "execution_count": 11,
   "metadata": {},
   "outputs": [
    {
     "data": {
      "text/plain": [
       "<matplotlib.axes._subplots.AxesSubplot at 0x20f96c9f208>"
      ]
     },
     "execution_count": 11,
     "metadata": {},
     "output_type": "execute_result"
    },
    {
     "data": {
      "image/png": "[encoded data removed]",
      "text/plain": [
       "<matplotlib.figure.Figure at 0x20f96c6db00>"
      ]
     },
     "metadata": {},
     "output_type": "display_data"
    }
   ],
   "source": [
    "# Plot results of grid search\n",
    "results_rfc_gs.plot('param_max_features','mean_test_score')"
   ]
  },
  {
   "cell_type": "code",
   "execution_count": 12,
   "metadata": {},
   "outputs": [
    {
     "name": "stdout",
     "output_type": "stream",
     "text": [
      "Random forest accuracy:  0.804555555556\n"
     ]
    }
   ],
   "source": [
    "# Modeling RFC with best hyper-parameters\n",
    "rfc = RandomForestClassifier(n_estimators=80, max_features='sqrt', random_state=1, n_jobs=-1)\n",
    "rfc.fit(X_train, y_train)\n",
    "y_pred_rfc = rfc.predict(X_test)\n",
    "acc_rfc = accuracy_score(y_test, y_pred_rfc)\n",
    "print ('Random forest accuracy: ',acc_rfc)"
   ]
  },
  {
   "cell_type": "code",
   "execution_count": 13,
   "metadata": {},
   "outputs": [
    {
     "data": {
      "text/plain": [
       "<matplotlib.colorbar.Colorbar at 0x20f96f6d9b0>"
      ]
     },
     "execution_count": 13,
     "metadata": {},
     "output_type": "execute_result"
    },
    {
     "data": {
      "image/png": "[encoded data removed]",
      "text/plain": [
       "<matplotlib.figure.Figure at 0x20f96c8c4a8>"
      ]
     },
     "metadata": {},
     "output_type": "display_data"
    }
   ],
   "source": [
    "# Seeing what pixels are the most important in deciding the label\n",
    "importances = rfc.feature_importances_\n",
    "importances = importances.reshape((28,28))\n",
    "fig = plt.matshow(importances, cmap=plt.cm.hot)\n",
    "plt.title('Pixel importances\\n')\n",
    "plt.colorbar()"
   ]
  },
  {
   "cell_type": "markdown",
   "metadata": {},
   "source": [
    "The random forest had an accuracy score very close to the k-nn model. The features that are most important are on the edge and in the middle of each side.\n",
    "\n",
    "## Support Vector Machine \n",
    "SVM classification uses planes in space to divide data points. We can compared a linear divider a non-linear divider\n",
    "\n",
    "\n",
    "#### LinearSVC"
   ]
  },
  {
   "cell_type": "code",
   "execution_count": 14,
   "metadata": {},
   "outputs": [
    {
     "name": "stdout",
     "output_type": "stream",
     "text": [
      "LinearSVC(C=1.0, class_weight=None, dual=True, fit_intercept=True,\n",
      "     intercept_scaling=1, loss='squared_hinge', max_iter=1000,\n",
      "     multi_class='ovr', penalty='l2', random_state=1, tol=0.0001,\n",
      "     verbose=0)\n",
      "Linear SVC accuracy:  0.717777777778\n"
     ]
    }
   ],
   "source": [
    "lsvc = LinearSVC(random_state=1)\n",
    "lsvc.fit(X_train, y_train)\n",
    "print(lsvc)\n",
    "y_pred_lsvc = lsvc.predict(X_test)\n",
    "acc_lsvc = accuracy_score(y_test, y_pred_lsvc)\n",
    "print('Linear SVC accuracy: ',acc_lsvc)"
   ]
  },
  {
   "cell_type": "markdown",
   "metadata": {},
   "source": [
    "#### Non-Linear SVM (Radial Basis Function)"
   ]
  },
  {
   "cell_type": "code",
   "execution_count": 15,
   "metadata": {},
   "outputs": [
    {
     "name": "stdout",
     "output_type": "stream",
     "text": [
      "SVC(C=1.0, cache_size=200, class_weight=None, coef0=0.0,\n",
      "  decision_function_shape='ovr', degree=3, gamma='auto', kernel='rbf',\n",
      "  max_iter=-1, probability=False, random_state=1, shrinking=True,\n",
      "  tol=0.001, verbose=False)\n",
      "Gaussian Radial Basis Function SVC Accuracy:  0.781555555556\n"
     ]
    }
   ],
   "source": [
    "svc = SVC(kernel='rbf', random_state=1) \n",
    "svc.fit(X_train, y_train)\n",
    "print(svc)\n",
    "y_pred_svc = svc.predict(X_test)\n",
    "acc_svc = accuracy_score(y_test, y_pred_svc)\n",
    "print ('Gaussian Radial Basis Function SVC Accuracy: ',acc_svc)"
   ]
  },
  {
   "cell_type": "markdown",
   "metadata": {},
   "source": [
    "## Multi-Layer Perceptron\n",
    "\n",
    "A perceptron is a neural network with a very basic architecture. This will be good to compare against the convolutional neural network. Neural Networks receive an input (a single vector), and transform it through a series of hidden layers. Each hidden layer is made up of a set of neurons, where each neuron is fully connected to all neurons in the previous layer, and where neurons in a single layer function completely independently and do not share any connections. The last fully-connected layer is called the “output layer” and in classification settings it represents the class scores.\n",
    "\n",
    "For tuning the hyper-parameters for a Multi-Layer Perceptron, we can try different number of layers and number of neurons in each layer. The default activiation function (ReLu) is the most effective choice from sklearn and the the defualt optimization algorithm (adam) is the best choice due to the size of our dataset. "
   ]
  },
  {
   "cell_type": "code",
   "execution_count": 16,
   "metadata": {},
   "outputs": [
    {
     "name": "stdout",
     "output_type": "stream",
     "text": [
      "MLPClassifier(activation='relu', alpha=0.0001, batch_size='auto', beta_1=0.9,\n",
      "       beta_2=0.999, early_stopping=False, epsilon=1e-08,\n",
      "       hidden_layer_sizes=(100,), learning_rate='constant',\n",
      "       learning_rate_init=0.001, max_iter=200, momentum=0.9,\n",
      "       nesterovs_momentum=True, power_t=0.5, random_state=1, shuffle=True,\n",
      "       solver='adam', tol=0.0001, validation_fraction=0.1, verbose=False,\n",
      "       warm_start=False)\n",
      "mlp accuracy:  0.809888888889\n"
     ]
    }
   ],
   "source": [
    "# Base model\n",
    "mlp = MLPClassifier(random_state=1)\n",
    "mlp.fit(X_train, y_train)\n",
    "print(mlp)\n",
    "y_pred_mlp = mlp.predict(X_test)\n",
    "acc_mlp = accuracy_score(y_test, y_pred_mlp)\n",
    "print ('mlp accuracy: ',acc_mlp)"
   ]
  },
  {
   "cell_type": "code",
   "execution_count": 17,
   "metadata": {},
   "outputs": [
    {
     "data": {
      "text/html": [
       "<div>\n",
       "<style>\n",
       "    .dataframe thead tr:only-child th {\n",
       "        text-align: right;\n",
       "    }\n",
       "\n",
       "    .dataframe thead th {\n",
       "        text-align: left;\n",
       "    }\n",
       "\n",
       "    .dataframe tbody tr th {\n",
       "        vertical-align: top;\n",
       "    }\n",
       "</style>\n",
       "<table border=\"1\" class=\"dataframe\">\n",
       "  <thead>\n",
       "    <tr style=\"text-align: right;\">\n",
       "      <th></th>\n",
       "      <th>mean_fit_time</th>\n",
       "      <th>mean_score_time</th>\n",
       "      <th>mean_test_score</th>\n",
       "      <th>mean_train_score</th>\n",
       "      <th>param_hidden_layer_sizes</th>\n",
       "      <th>params</th>\n",
       "      <th>rank_test_score</th>\n",
       "      <th>split0_test_score</th>\n",
       "      <th>split0_train_score</th>\n",
       "      <th>split1_test_score</th>\n",
       "      <th>split1_train_score</th>\n",
       "      <th>split2_test_score</th>\n",
       "      <th>split2_train_score</th>\n",
       "      <th>std_fit_time</th>\n",
       "      <th>std_score_time</th>\n",
       "      <th>std_test_score</th>\n",
       "      <th>std_train_score</th>\n",
       "    </tr>\n",
       "  </thead>\n",
       "  <tbody>\n",
       "    <tr>\n",
       "      <th>1</th>\n",
       "      <td>460.535727</td>\n",
       "      <td>0.263031</td>\n",
       "      <td>0.829905</td>\n",
       "      <td>0.999857</td>\n",
       "      <td>(784,)</td>\n",
       "      <td>{'hidden_layer_sizes': (784,)}</td>\n",
       "      <td>1</td>\n",
       "      <td>0.828788</td>\n",
       "      <td>1.000000</td>\n",
       "      <td>0.830547</td>\n",
       "      <td>0.999714</td>\n",
       "      <td>0.830380</td>\n",
       "      <td>0.999857</td>\n",
       "      <td>13.319401</td>\n",
       "      <td>0.047127</td>\n",
       "      <td>0.000793</td>\n",
       "      <td>0.000117</td>\n",
       "    </tr>\n",
       "    <tr>\n",
       "      <th>0</th>\n",
       "      <td>251.247346</td>\n",
       "      <td>0.083445</td>\n",
       "      <td>0.796714</td>\n",
       "      <td>0.998000</td>\n",
       "      <td>(100,)</td>\n",
       "      <td>{'hidden_layer_sizes': (100,)}</td>\n",
       "      <td>2</td>\n",
       "      <td>0.795088</td>\n",
       "      <td>1.000000</td>\n",
       "      <td>0.794113</td>\n",
       "      <td>0.998072</td>\n",
       "      <td>0.800943</td>\n",
       "      <td>0.995929</td>\n",
       "      <td>84.519119</td>\n",
       "      <td>0.000940</td>\n",
       "      <td>0.003016</td>\n",
       "      <td>0.001663</td>\n",
       "    </tr>\n",
       "    <tr>\n",
       "      <th>2</th>\n",
       "      <td>232.659894</td>\n",
       "      <td>0.102394</td>\n",
       "      <td>0.796619</td>\n",
       "      <td>0.977883</td>\n",
       "      <td>(100, 100)</td>\n",
       "      <td>{'hidden_layer_sizes': (100, 100)}</td>\n",
       "      <td>3</td>\n",
       "      <td>0.794802</td>\n",
       "      <td>1.000000</td>\n",
       "      <td>0.799686</td>\n",
       "      <td>0.934790</td>\n",
       "      <td>0.795370</td>\n",
       "      <td>0.998857</td>\n",
       "      <td>98.468281</td>\n",
       "      <td>0.004630</td>\n",
       "      <td>0.002181</td>\n",
       "      <td>0.030474</td>\n",
       "    </tr>\n",
       "    <tr>\n",
       "      <th>3</th>\n",
       "      <td>189.648889</td>\n",
       "      <td>0.095782</td>\n",
       "      <td>0.782476</td>\n",
       "      <td>0.970644</td>\n",
       "      <td>(100, 100, 100)</td>\n",
       "      <td>{'hidden_layer_sizes': (100, 100, 100)}</td>\n",
       "      <td>4</td>\n",
       "      <td>0.777524</td>\n",
       "      <td>0.979853</td>\n",
       "      <td>0.787255</td>\n",
       "      <td>0.989144</td>\n",
       "      <td>0.782652</td>\n",
       "      <td>0.942937</td>\n",
       "      <td>42.346962</td>\n",
       "      <td>0.014740</td>\n",
       "      <td>0.003975</td>\n",
       "      <td>0.019956</td>\n",
       "    </tr>\n",
       "  </tbody>\n",
       "</table>\n",
       "</div>"
      ],
      "text/plain": [
       "   mean_fit_time  mean_score_time  mean_test_score  mean_train_score  \\\n",
       "1     460.535727         0.263031         0.829905          0.999857   \n",
       "0     251.247346         0.083445         0.796714          0.998000   \n",
       "2     232.659894         0.102394         0.796619          0.977883   \n",
       "3     189.648889         0.095782         0.782476          0.970644   \n",
       "\n",
       "  param_hidden_layer_sizes                                   params  \\\n",
       "1                   (784,)           {'hidden_layer_sizes': (784,)}   \n",
       "0                   (100,)           {'hidden_layer_sizes': (100,)}   \n",
       "2               (100, 100)       {'hidden_layer_sizes': (100, 100)}   \n",
       "3          (100, 100, 100)  {'hidden_layer_sizes': (100, 100, 100)}   \n",
       "\n",
       "   rank_test_score  split0_test_score  split0_train_score  split1_test_score  \\\n",
       "1                1           0.828788            1.000000           0.830547   \n",
       "0                2           0.795088            1.000000           0.794113   \n",
       "2                3           0.794802            1.000000           0.799686   \n",
       "3                4           0.777524            0.979853           0.787255   \n",
       "\n",
       "   split1_train_score  split2_test_score  split2_train_score  std_fit_time  \\\n",
       "1            0.999714           0.830380            0.999857     13.319401   \n",
       "0            0.998072           0.800943            0.995929     84.519119   \n",
       "2            0.934790           0.795370            0.998857     98.468281   \n",
       "3            0.989144           0.782652            0.942937     42.346962   \n",
       "\n",
       "   std_score_time  std_test_score  std_train_score  \n",
       "1        0.047127        0.000793         0.000117  \n",
       "0        0.000940        0.003016         0.001663  \n",
       "2        0.004630        0.002181         0.030474  \n",
       "3        0.014740        0.003975         0.019956  "
      ]
     },
     "execution_count": 17,
     "metadata": {},
     "output_type": "execute_result"
    }
   ],
   "source": [
    "parameters = {'hidden_layer_sizes' : [(100,),(784,), (100,100),(100,100,100)] }\n",
    "\n",
    "mlp = MLPClassifier(random_state=1)\n",
    "mlp = GridSearchCV(mlp, parameters, n_jobs=-1)\n",
    "mlp.fit(X_train, y_train)\n",
    "\n",
    "results=pd.DataFrame(mlp.cv_results_)\n",
    "results.sort_values('mean_test_score', ascending = False)"
   ]
  },
  {
   "cell_type": "code",
   "execution_count": 18,
   "metadata": {},
   "outputs": [
    {
     "name": "stdout",
     "output_type": "stream",
     "text": [
      "MLPClassifier(activation='relu', alpha=0.0001, batch_size='auto', beta_1=0.9,\n",
      "       beta_2=0.999, early_stopping=False, epsilon=1e-08,\n",
      "       hidden_layer_sizes=(784,), learning_rate='constant',\n",
      "       learning_rate_init=0.001, max_iter=200, momentum=0.9,\n",
      "       nesterovs_momentum=True, power_t=0.5, random_state=1, shuffle=True,\n",
      "       solver='adam', tol=0.0001, validation_fraction=0.1, verbose=False,\n",
      "       warm_start=False)\n",
      "mlp accuracy:  0.845666666667\n"
     ]
    }
   ],
   "source": [
    "mlp = MLPClassifier(hidden_layer_sizes=(784,),random_state=1)\n",
    "mlp.fit(X_train, y_train)\n",
    "print(mlp)\n",
    "y_pred_mlp = mlp.predict(X_test)\n",
    "acc_mlp = accuracy_score(y_test, y_pred_mlp)\n",
    "print ('mlp accuracy: ',acc_mlp)"
   ]
  },
  {
   "cell_type": "markdown",
   "metadata": {},
   "source": [
    "## Convolutional Neural Networks (CNN / ConvNet)\n",
    "\n",
    "The Convolutional Neural Network architectures make the explicit assumption that the inputs are images, which allows us to encode certain properties into the architecture. These then make the forward function more efficient to implement and vastly reduce the amount of parameters in the network."
   ]
  },
  {
   "cell_type": "code",
   "execution_count": 19,
   "metadata": {},
   "outputs": [
    {
     "name": "stderr",
     "output_type": "stream",
     "text": [
      "Using TensorFlow backend.\n"
     ]
    }
   ],
   "source": [
    "import keras\n",
    "from keras import backend as K\n",
    "from keras.utils import np_utils\n",
    "from keras.models import Sequential\n",
    "from keras.layers import Dense, Dropout, Flatten\n",
    "from keras.layers import Conv2D, MaxPooling2D\n",
    "from IPython.display import SVG\n",
    "from keras.utils.vis_utils import model_to_dot"
   ]
  },
  {
   "cell_type": "code",
   "execution_count": 20,
   "metadata": {},
   "outputs": [],
   "source": [
    "# one hot encode outputs\n",
    "y_train_cnn = np_utils.to_categorical(y_train)\n",
    "y_test_cnn = np_utils.to_categorical(y_test)\n",
    "num_classes = y_test_cnn.shape[1]\n",
    "\n",
    "# reshape to be [samples][width][height][pixels] \n",
    "X_train_cnn = X_train.reshape(X_train.shape[0], 28, 28, 1).astype('float32')\n",
    "X_test_cnn = X_test.reshape(X_test.shape[0], 28, 28, 1).astype('float32')"
   ]
  },
  {
   "cell_type": "code",
   "execution_count": 21,
   "metadata": {},
   "outputs": [],
   "source": [
    "model = Sequential()\n",
    "model.add(Conv2D(32, kernel_size=(5,5), activation='relu',input_shape=(28, 28, 1)))\n",
    "model.add(Conv2D(64, (3,3), activation='relu'))\n",
    "model.add(MaxPooling2D(pool_size=(2, 2)))\n",
    "model.add(Dropout(0.25))\n",
    "model.add(Flatten())\n",
    "model.add(Dense(128, activation='relu'))\n",
    "model.add(Dropout(0.5))\n",
    "model.add(Dense(num_classes, activation='softmax'))"
   ]
  },
  {
   "cell_type": "code",
   "execution_count": 22,
   "metadata": {},
   "outputs": [
    {
     "data": {
      "image/svg+xml": [
       "<svg height=\"719pt\" viewBox=\"0.00 0.00 392.00 719.00\" width=\"392pt\" xmlns=\"http://www.w3.org/2000/svg\" xmlns:xlink=\"http://www.w3.org/1999/xlink\">\n",
       "<g class=\"graph\" id=\"graph0\" transform=\"scale(1 1) rotate(0) translate(4 715)\">\n",
       "<title>G</title>\n",
       "<polygon fill=\"white\" points=\"-4,4 -4,-715 388,-715 388,4 -4,4\" stroke=\"none\"/>\n",
       "<!-- 2266608694832 -->\n",
       "<g class=\"node\" id=\"node1\"><title>2266608694832</title>\n",
       "<polygon fill=\"none\" points=\"20,-664.5 20,-710.5 364,-710.5 364,-664.5 20,-664.5\" stroke=\"black\"/>\n",
       "<text font-family=\"Times New Roman,serif\" font-size=\"14.00\" text-anchor=\"middle\" x=\"108\" y=\"-683.8\">conv2d_1_input: InputLayer</text>\n",
       "<polyline fill=\"none\" points=\"196,-664.5 196,-710.5 \" stroke=\"black\"/>\n",
       "<text font-family=\"Times New Roman,serif\" font-size=\"14.00\" text-anchor=\"middle\" x=\"224\" y=\"-695.3\">input:</text>\n",
       "<polyline fill=\"none\" points=\"196,-687.5 252,-687.5 \" stroke=\"black\"/>\n",
       "<text font-family=\"Times New Roman,serif\" font-size=\"14.00\" text-anchor=\"middle\" x=\"224\" y=\"-672.3\">output:</text>\n",
       "<polyline fill=\"none\" points=\"252,-664.5 252,-710.5 \" stroke=\"black\"/>\n",
       "<text font-family=\"Times New Roman,serif\" font-size=\"14.00\" text-anchor=\"middle\" x=\"308\" y=\"-695.3\">(None, 28, 28, 1)</text>\n",
       "<polyline fill=\"none\" points=\"252,-687.5 364,-687.5 \" stroke=\"black\"/>\n",
       "<text font-family=\"Times New Roman,serif\" font-size=\"14.00\" text-anchor=\"middle\" x=\"308\" y=\"-672.3\">(None, 28, 28, 1)</text>\n",
       "</g>\n",
       "<!-- 2265980800360 -->\n",
       "<g class=\"node\" id=\"node2\"><title>2265980800360</title>\n",
       "<polygon fill=\"none\" points=\"41,-581.5 41,-627.5 343,-627.5 343,-581.5 41,-581.5\" stroke=\"black\"/>\n",
       "<text font-family=\"Times New Roman,serif\" font-size=\"14.00\" text-anchor=\"middle\" x=\"104.5\" y=\"-600.8\">conv2d_1: Conv2D</text>\n",
       "<polyline fill=\"none\" points=\"168,-581.5 168,-627.5 \" stroke=\"black\"/>\n",
       "<text font-family=\"Times New Roman,serif\" font-size=\"14.00\" text-anchor=\"middle\" x=\"196\" y=\"-612.3\">input:</text>\n",
       "<polyline fill=\"none\" points=\"168,-604.5 224,-604.5 \" stroke=\"black\"/>\n",
       "<text font-family=\"Times New Roman,serif\" font-size=\"14.00\" text-anchor=\"middle\" x=\"196\" y=\"-589.3\">output:</text>\n",
       "<polyline fill=\"none\" points=\"224,-581.5 224,-627.5 \" stroke=\"black\"/>\n",
       "<text font-family=\"Times New Roman,serif\" font-size=\"14.00\" text-anchor=\"middle\" x=\"283.5\" y=\"-612.3\">(None, 28, 28, 1)</text>\n",
       "<polyline fill=\"none\" points=\"224,-604.5 343,-604.5 \" stroke=\"black\"/>\n",
       "<text font-family=\"Times New Roman,serif\" font-size=\"14.00\" text-anchor=\"middle\" x=\"283.5\" y=\"-589.3\">(None, 24, 24, 32)</text>\n",
       "</g>\n",
       "<!-- 2266608694832&#45;&gt;2265980800360 -->\n",
       "<g class=\"edge\" id=\"edge1\"><title>2266608694832-&gt;2265980800360</title>\n",
       "<path d=\"M192,-664.366C192,-656.152 192,-646.658 192,-637.725\" fill=\"none\" stroke=\"black\"/>\n",
       "<polygon fill=\"black\" points=\"195.5,-637.607 192,-627.607 188.5,-637.607 195.5,-637.607\" stroke=\"black\"/>\n",
       "</g>\n",
       "<!-- 2265981123496 -->\n",
       "<g class=\"node\" id=\"node3\"><title>2265981123496</title>\n",
       "<polygon fill=\"none\" points=\"41,-498.5 41,-544.5 343,-544.5 343,-498.5 41,-498.5\" stroke=\"black\"/>\n",
       "<text font-family=\"Times New Roman,serif\" font-size=\"14.00\" text-anchor=\"middle\" x=\"104.5\" y=\"-517.8\">conv2d_2: Conv2D</text>\n",
       "<polyline fill=\"none\" points=\"168,-498.5 168,-544.5 \" stroke=\"black\"/>\n",
       "<text font-family=\"Times New Roman,serif\" font-size=\"14.00\" text-anchor=\"middle\" x=\"196\" y=\"-529.3\">input:</text>\n",
       "<polyline fill=\"none\" points=\"168,-521.5 224,-521.5 \" stroke=\"black\"/>\n",
       "<text font-family=\"Times New Roman,serif\" font-size=\"14.00\" text-anchor=\"middle\" x=\"196\" y=\"-506.3\">output:</text>\n",
       "<polyline fill=\"none\" points=\"224,-498.5 224,-544.5 \" stroke=\"black\"/>\n",
       "<text font-family=\"Times New Roman,serif\" font-size=\"14.00\" text-anchor=\"middle\" x=\"283.5\" y=\"-529.3\">(None, 24, 24, 32)</text>\n",
       "<polyline fill=\"none\" points=\"224,-521.5 343,-521.5 \" stroke=\"black\"/>\n",
       "<text font-family=\"Times New Roman,serif\" font-size=\"14.00\" text-anchor=\"middle\" x=\"283.5\" y=\"-506.3\">(None, 22, 22, 64)</text>\n",
       "</g>\n",
       "<!-- 2265980800360&#45;&gt;2265981123496 -->\n",
       "<g class=\"edge\" id=\"edge2\"><title>2265980800360-&gt;2265981123496</title>\n",
       "<path d=\"M192,-581.366C192,-573.152 192,-563.658 192,-554.725\" fill=\"none\" stroke=\"black\"/>\n",
       "<polygon fill=\"black\" points=\"195.5,-554.607 192,-544.607 188.5,-554.607 195.5,-554.607\" stroke=\"black\"/>\n",
       "</g>\n",
       "<!-- 2266704859264 -->\n",
       "<g class=\"node\" id=\"node4\"><title>2266704859264</title>\n",
       "<polygon fill=\"none\" points=\"0,-415.5 0,-461.5 384,-461.5 384,-415.5 0,-415.5\" stroke=\"black\"/>\n",
       "<text font-family=\"Times New Roman,serif\" font-size=\"14.00\" text-anchor=\"middle\" x=\"104.5\" y=\"-434.8\">max_pooling2d_1: MaxPooling2D</text>\n",
       "<polyline fill=\"none\" points=\"209,-415.5 209,-461.5 \" stroke=\"black\"/>\n",
       "<text font-family=\"Times New Roman,serif\" font-size=\"14.00\" text-anchor=\"middle\" x=\"237\" y=\"-446.3\">input:</text>\n",
       "<polyline fill=\"none\" points=\"209,-438.5 265,-438.5 \" stroke=\"black\"/>\n",
       "<text font-family=\"Times New Roman,serif\" font-size=\"14.00\" text-anchor=\"middle\" x=\"237\" y=\"-423.3\">output:</text>\n",
       "<polyline fill=\"none\" points=\"265,-415.5 265,-461.5 \" stroke=\"black\"/>\n",
       "<text font-family=\"Times New Roman,serif\" font-size=\"14.00\" text-anchor=\"middle\" x=\"324.5\" y=\"-446.3\">(None, 22, 22, 64)</text>\n",
       "<polyline fill=\"none\" points=\"265,-438.5 384,-438.5 \" stroke=\"black\"/>\n",
       "<text font-family=\"Times New Roman,serif\" font-size=\"14.00\" text-anchor=\"middle\" x=\"324.5\" y=\"-423.3\">(None, 11, 11, 64)</text>\n",
       "</g>\n",
       "<!-- 2265981123496&#45;&gt;2266704859264 -->\n",
       "<g class=\"edge\" id=\"edge3\"><title>2265981123496-&gt;2266704859264</title>\n",
       "<path d=\"M192,-498.366C192,-490.152 192,-480.658 192,-471.725\" fill=\"none\" stroke=\"black\"/>\n",
       "<polygon fill=\"black\" points=\"195.5,-471.607 192,-461.607 188.5,-471.607 195.5,-471.607\" stroke=\"black\"/>\n",
       "</g>\n",
       "<!-- 2266608695784 -->\n",
       "<g class=\"node\" id=\"node5\"><title>2266608695784</title>\n",
       "<polygon fill=\"none\" points=\"39.5,-332.5 39.5,-378.5 344.5,-378.5 344.5,-332.5 39.5,-332.5\" stroke=\"black\"/>\n",
       "<text font-family=\"Times New Roman,serif\" font-size=\"14.00\" text-anchor=\"middle\" x=\"104.5\" y=\"-351.8\">dropout_1: Dropout</text>\n",
       "<polyline fill=\"none\" points=\"169.5,-332.5 169.5,-378.5 \" stroke=\"black\"/>\n",
       "<text font-family=\"Times New Roman,serif\" font-size=\"14.00\" text-anchor=\"middle\" x=\"197.5\" y=\"-363.3\">input:</text>\n",
       "<polyline fill=\"none\" points=\"169.5,-355.5 225.5,-355.5 \" stroke=\"black\"/>\n",
       "<text font-family=\"Times New Roman,serif\" font-size=\"14.00\" text-anchor=\"middle\" x=\"197.5\" y=\"-340.3\">output:</text>\n",
       "<polyline fill=\"none\" points=\"225.5,-332.5 225.5,-378.5 \" stroke=\"black\"/>\n",
       "<text font-family=\"Times New Roman,serif\" font-size=\"14.00\" text-anchor=\"middle\" x=\"285\" y=\"-363.3\">(None, 11, 11, 64)</text>\n",
       "<polyline fill=\"none\" points=\"225.5,-355.5 344.5,-355.5 \" stroke=\"black\"/>\n",
       "<text font-family=\"Times New Roman,serif\" font-size=\"14.00\" text-anchor=\"middle\" x=\"285\" y=\"-340.3\">(None, 11, 11, 64)</text>\n",
       "</g>\n",
       "<!-- 2266704859264&#45;&gt;2266608695784 -->\n",
       "<g class=\"edge\" id=\"edge4\"><title>2266704859264-&gt;2266608695784</title>\n",
       "<path d=\"M192,-415.366C192,-407.152 192,-397.658 192,-388.725\" fill=\"none\" stroke=\"black\"/>\n",
       "<polygon fill=\"black\" points=\"195.5,-388.607 192,-378.607 188.5,-388.607 195.5,-388.607\" stroke=\"black\"/>\n",
       "</g>\n",
       "<!-- 2266704862848 -->\n",
       "<g class=\"node\" id=\"node6\"><title>2266704862848</title>\n",
       "<polygon fill=\"none\" points=\"50,-249.5 50,-295.5 334,-295.5 334,-249.5 50,-249.5\" stroke=\"black\"/>\n",
       "<text font-family=\"Times New Roman,serif\" font-size=\"14.00\" text-anchor=\"middle\" x=\"104.5\" y=\"-268.8\">flatten_1: Flatten</text>\n",
       "<polyline fill=\"none\" points=\"159,-249.5 159,-295.5 \" stroke=\"black\"/>\n",
       "<text font-family=\"Times New Roman,serif\" font-size=\"14.00\" text-anchor=\"middle\" x=\"187\" y=\"-280.3\">input:</text>\n",
       "<polyline fill=\"none\" points=\"159,-272.5 215,-272.5 \" stroke=\"black\"/>\n",
       "<text font-family=\"Times New Roman,serif\" font-size=\"14.00\" text-anchor=\"middle\" x=\"187\" y=\"-257.3\">output:</text>\n",
       "<polyline fill=\"none\" points=\"215,-249.5 215,-295.5 \" stroke=\"black\"/>\n",
       "<text font-family=\"Times New Roman,serif\" font-size=\"14.00\" text-anchor=\"middle\" x=\"274.5\" y=\"-280.3\">(None, 11, 11, 64)</text>\n",
       "<polyline fill=\"none\" points=\"215,-272.5 334,-272.5 \" stroke=\"black\"/>\n",
       "<text font-family=\"Times New Roman,serif\" font-size=\"14.00\" text-anchor=\"middle\" x=\"274.5\" y=\"-257.3\">(None, 7744)</text>\n",
       "</g>\n",
       "<!-- 2266608695784&#45;&gt;2266704862848 -->\n",
       "<g class=\"edge\" id=\"edge5\"><title>2266608695784-&gt;2266704862848</title>\n",
       "<path d=\"M192,-332.366C192,-324.152 192,-314.658 192,-305.725\" fill=\"none\" stroke=\"black\"/>\n",
       "<polygon fill=\"black\" points=\"195.5,-305.607 192,-295.607 188.5,-305.607 195.5,-305.607\" stroke=\"black\"/>\n",
       "</g>\n",
       "<!-- 2266704862680 -->\n",
       "<g class=\"node\" id=\"node7\"><title>2266704862680</title>\n",
       "<polygon fill=\"none\" points=\"67,-166.5 67,-212.5 317,-212.5 317,-166.5 67,-166.5\" stroke=\"black\"/>\n",
       "<text font-family=\"Times New Roman,serif\" font-size=\"14.00\" text-anchor=\"middle\" x=\"119\" y=\"-185.8\">dense_1: Dense</text>\n",
       "<polyline fill=\"none\" points=\"171,-166.5 171,-212.5 \" stroke=\"black\"/>\n",
       "<text font-family=\"Times New Roman,serif\" font-size=\"14.00\" text-anchor=\"middle\" x=\"199\" y=\"-197.3\">input:</text>\n",
       "<polyline fill=\"none\" points=\"171,-189.5 227,-189.5 \" stroke=\"black\"/>\n",
       "<text font-family=\"Times New Roman,serif\" font-size=\"14.00\" text-anchor=\"middle\" x=\"199\" y=\"-174.3\">output:</text>\n",
       "<polyline fill=\"none\" points=\"227,-166.5 227,-212.5 \" stroke=\"black\"/>\n",
       "<text font-family=\"Times New Roman,serif\" font-size=\"14.00\" text-anchor=\"middle\" x=\"272\" y=\"-197.3\">(None, 7744)</text>\n",
       "<polyline fill=\"none\" points=\"227,-189.5 317,-189.5 \" stroke=\"black\"/>\n",
       "<text font-family=\"Times New Roman,serif\" font-size=\"14.00\" text-anchor=\"middle\" x=\"272\" y=\"-174.3\">(None, 128)</text>\n",
       "</g>\n",
       "<!-- 2266704862848&#45;&gt;2266704862680 -->\n",
       "<g class=\"edge\" id=\"edge6\"><title>2266704862848-&gt;2266704862680</title>\n",
       "<path d=\"M192,-249.366C192,-241.152 192,-231.658 192,-222.725\" fill=\"none\" stroke=\"black\"/>\n",
       "<polygon fill=\"black\" points=\"195.5,-222.607 192,-212.607 188.5,-222.607 195.5,-222.607\" stroke=\"black\"/>\n",
       "</g>\n",
       "<!-- 2266704969344 -->\n",
       "<g class=\"node\" id=\"node8\"><title>2266704969344</title>\n",
       "<polygon fill=\"none\" points=\"57.5,-83.5 57.5,-129.5 326.5,-129.5 326.5,-83.5 57.5,-83.5\" stroke=\"black\"/>\n",
       "<text font-family=\"Times New Roman,serif\" font-size=\"14.00\" text-anchor=\"middle\" x=\"122.5\" y=\"-102.8\">dropout_2: Dropout</text>\n",
       "<polyline fill=\"none\" points=\"187.5,-83.5 187.5,-129.5 \" stroke=\"black\"/>\n",
       "<text font-family=\"Times New Roman,serif\" font-size=\"14.00\" text-anchor=\"middle\" x=\"215.5\" y=\"-114.3\">input:</text>\n",
       "<polyline fill=\"none\" points=\"187.5,-106.5 243.5,-106.5 \" stroke=\"black\"/>\n",
       "<text font-family=\"Times New Roman,serif\" font-size=\"14.00\" text-anchor=\"middle\" x=\"215.5\" y=\"-91.3\">output:</text>\n",
       "<polyline fill=\"none\" points=\"243.5,-83.5 243.5,-129.5 \" stroke=\"black\"/>\n",
       "<text font-family=\"Times New Roman,serif\" font-size=\"14.00\" text-anchor=\"middle\" x=\"285\" y=\"-114.3\">(None, 128)</text>\n",
       "<polyline fill=\"none\" points=\"243.5,-106.5 326.5,-106.5 \" stroke=\"black\"/>\n",
       "<text font-family=\"Times New Roman,serif\" font-size=\"14.00\" text-anchor=\"middle\" x=\"285\" y=\"-91.3\">(None, 128)</text>\n",
       "</g>\n",
       "<!-- 2266704862680&#45;&gt;2266704969344 -->\n",
       "<g class=\"edge\" id=\"edge7\"><title>2266704862680-&gt;2266704969344</title>\n",
       "<path d=\"M192,-166.366C192,-158.152 192,-148.658 192,-139.725\" fill=\"none\" stroke=\"black\"/>\n",
       "<polygon fill=\"black\" points=\"195.5,-139.607 192,-129.607 188.5,-139.607 195.5,-139.607\" stroke=\"black\"/>\n",
       "</g>\n",
       "<!-- 2266705222512 -->\n",
       "<g class=\"node\" id=\"node9\"><title>2266705222512</title>\n",
       "<polygon fill=\"none\" points=\"70.5,-0.5 70.5,-46.5 313.5,-46.5 313.5,-0.5 70.5,-0.5\" stroke=\"black\"/>\n",
       "<text font-family=\"Times New Roman,serif\" font-size=\"14.00\" text-anchor=\"middle\" x=\"122.5\" y=\"-19.8\">dense_2: Dense</text>\n",
       "<polyline fill=\"none\" points=\"174.5,-0.5 174.5,-46.5 \" stroke=\"black\"/>\n",
       "<text font-family=\"Times New Roman,serif\" font-size=\"14.00\" text-anchor=\"middle\" x=\"202.5\" y=\"-31.3\">input:</text>\n",
       "<polyline fill=\"none\" points=\"174.5,-23.5 230.5,-23.5 \" stroke=\"black\"/>\n",
       "<text font-family=\"Times New Roman,serif\" font-size=\"14.00\" text-anchor=\"middle\" x=\"202.5\" y=\"-8.3\">output:</text>\n",
       "<polyline fill=\"none\" points=\"230.5,-0.5 230.5,-46.5 \" stroke=\"black\"/>\n",
       "<text font-family=\"Times New Roman,serif\" font-size=\"14.00\" text-anchor=\"middle\" x=\"272\" y=\"-31.3\">(None, 128)</text>\n",
       "<polyline fill=\"none\" points=\"230.5,-23.5 313.5,-23.5 \" stroke=\"black\"/>\n",
       "<text font-family=\"Times New Roman,serif\" font-size=\"14.00\" text-anchor=\"middle\" x=\"272\" y=\"-8.3\">(None, 10)</text>\n",
       "</g>\n",
       "<!-- 2266704969344&#45;&gt;2266705222512 -->\n",
       "<g class=\"edge\" id=\"edge8\"><title>2266704969344-&gt;2266705222512</title>\n",
       "<path d=\"M192,-83.3664C192,-75.1516 192,-65.6579 192,-56.7252\" fill=\"none\" stroke=\"black\"/>\n",
       "<polygon fill=\"black\" points=\"195.5,-56.6068 192,-46.6068 188.5,-56.6069 195.5,-56.6068\" stroke=\"black\"/>\n",
       "</g>\n",
       "</g>\n",
       "</svg>"
      ],
      "text/plain": [
       "<IPython.core.display.SVG object>"
      ]
     },
     "execution_count": 22,
     "metadata": {},
     "output_type": "execute_result"
    }
   ],
   "source": [
    "SVG(model_to_dot(model, show_shapes=True, \n",
    "                 show_layer_names=True, rankdir='TB').create(prog='dot', format='svg'))"
   ]
  },
  {
   "cell_type": "code",
   "execution_count": 23,
   "metadata": {},
   "outputs": [],
   "source": [
    "model.compile(loss=keras.losses.categorical_crossentropy,\n",
    "              optimizer='adam',\n",
    "              metrics=['accuracy'])"
   ]
  },
  {
   "cell_type": "code",
   "execution_count": 24,
   "metadata": {},
   "outputs": [
    {
     "name": "stdout",
     "output_type": "stream",
     "text": [
      "Train on 21000 samples, validate on 9000 samples\n",
      "Epoch 1/20\n",
      "21000/21000 [==============================] - 53s 3ms/step - loss: 0.7748 - acc: 0.7587 - val_loss: 0.4207 - val_acc: 0.8673\n",
      "Epoch 2/20\n",
      "21000/21000 [==============================] - 52s 2ms/step - loss: 0.4729 - acc: 0.8561 - val_loss: 0.3637 - val_acc: 0.8891\n",
      "Epoch 3/20\n",
      "21000/21000 [==============================] - 52s 2ms/step - loss: 0.3961 - acc: 0.8822 - val_loss: 0.3438 - val_acc: 0.8966\n",
      "Epoch 4/20\n",
      "21000/21000 [==============================] - 52s 2ms/step - loss: 0.3400 - acc: 0.8957 - val_loss: 0.3198 - val_acc: 0.9020\n",
      "Epoch 5/20\n",
      "21000/21000 [==============================] - 52s 2ms/step - loss: 0.2939 - acc: 0.9072 - val_loss: 0.3196 - val_acc: 0.9043\n",
      "Epoch 6/20\n",
      "21000/21000 [==============================] - 53s 3ms/step - loss: 0.2571 - acc: 0.9176 - val_loss: 0.3265 - val_acc: 0.9044\n",
      "Epoch 7/20\n",
      "21000/21000 [==============================] - 53s 3ms/step - loss: 0.2292 - acc: 0.9251 - val_loss: 0.3189 - val_acc: 0.9092\n",
      "Epoch 8/20\n",
      "21000/21000 [==============================] - 53s 3ms/step - loss: 0.2000 - acc: 0.9344 - val_loss: 0.3380 - val_acc: 0.9070\n",
      "Epoch 9/20\n",
      "21000/21000 [==============================] - 53s 3ms/step - loss: 0.1779 - acc: 0.9407 - val_loss: 0.3352 - val_acc: 0.9066\n",
      "Epoch 10/20\n",
      "21000/21000 [==============================] - 51s 2ms/step - loss: 0.1604 - acc: 0.9461 - val_loss: 0.3373 - val_acc: 0.9116\n",
      "Epoch 11/20\n",
      "21000/21000 [==============================] - 49s 2ms/step - loss: 0.1445 - acc: 0.9502 - val_loss: 0.3475 - val_acc: 0.9094\n",
      "Epoch 12/20\n",
      "21000/21000 [==============================] - 58s 3ms/step - loss: 0.1393 - acc: 0.9515 - val_loss: 0.3766 - val_acc: 0.9080\n",
      "Epoch 13/20\n",
      "21000/21000 [==============================] - 50s 2ms/step - loss: 0.1237 - acc: 0.9553 - val_loss: 0.3764 - val_acc: 0.9110\n",
      "Epoch 14/20\n",
      "21000/21000 [==============================] - 49s 2ms/step - loss: 0.1182 - acc: 0.9596 - val_loss: 0.3859 - val_acc: 0.9096\n",
      "Epoch 15/20\n",
      "21000/21000 [==============================] - 53s 3ms/step - loss: 0.1120 - acc: 0.9594 - val_loss: 0.4008 - val_acc: 0.9129\n",
      "Epoch 16/20\n",
      "21000/21000 [==============================] - 52s 2ms/step - loss: 0.1004 - acc: 0.9655 - val_loss: 0.4104 - val_acc: 0.9106\n",
      "Epoch 17/20\n",
      "21000/21000 [==============================] - 53s 3ms/step - loss: 0.1006 - acc: 0.9645 - val_loss: 0.4225 - val_acc: 0.9107\n",
      "Epoch 18/20\n",
      "21000/21000 [==============================] - 49s 2ms/step - loss: 0.1021 - acc: 0.9640 - val_loss: 0.4105 - val_acc: 0.9104\n",
      "Epoch 19/20\n",
      "21000/21000 [==============================] - 49s 2ms/step - loss: 0.0869 - acc: 0.9706 - val_loss: 0.4453 - val_acc: 0.9096\n",
      "Epoch 20/20\n",
      "21000/21000 [==============================] - 52s 2ms/step - loss: 0.0857 - acc: 0.9696 - val_loss: 0.4179 - val_acc: 0.9096\n"
     ]
    }
   ],
   "source": [
    "cnn_model = model.fit(X_train_cnn, y_train_cnn,\n",
    "          batch_size=32,\n",
    "          epochs=20,\n",
    "          validation_data=(X_test_cnn, y_test_cnn))"
   ]
  },
  {
   "cell_type": "code",
   "execution_count": 25,
   "metadata": {},
   "outputs": [
    {
     "data": {
      "image/png": "[encoded data removed]",
      "text/plain": [
       "<matplotlib.figure.Figure at 0x20fc2333b38>"
      ]
     },
     "metadata": {},
     "output_type": "display_data"
    }
   ],
   "source": [
    "fig = plt.figure(figsize=(10,10))\n",
    "ax1 = plt.subplot(2,1,1)\n",
    "ax1 = plt.plot(cnn_model.history['acc'])\n",
    "ax1 = plt.plot(cnn_model.history['val_acc'])\n",
    "plt.title('Model Accuracy')\n",
    "plt.ylabel('Accuracy')\n",
    "plt.xlabel('Epoch')\n",
    "plt.legend(['Train', 'Validation'], loc='upper left')\n",
    "\n",
    "ax2 = plt.subplot(2,1,2)\n",
    "ax2 = plt.plot(cnn_model.history['loss'])\n",
    "ax2 = plt.plot(cnn_model.history['val_loss'])\n",
    "plt.title('Model Loss')\n",
    "plt.ylabel('Loss')\n",
    "plt.xlabel('Epoch')\n",
    "plt.legend(['Train', 'Validation'], loc='upper left')\n",
    "plt.show()"
   ]
  },
  {
   "cell_type": "code",
   "execution_count": 26,
   "metadata": {},
   "outputs": [
    {
     "name": "stdout",
     "output_type": "stream",
     "text": [
      "9000/9000 [==============================] - 5s 551us/step\n"
     ]
    }
   ],
   "source": [
    "cnn_score = model.evaluate(X_test_cnn, y_test_cnn, verbose=1)"
   ]
  },
  {
   "cell_type": "code",
   "execution_count": 27,
   "metadata": {},
   "outputs": [
    {
     "name": "stdout",
     "output_type": "stream",
     "text": [
      "Test Loss: 0.417930712955\n",
      "Test Accuracy: 0.909555555556\n"
     ]
    }
   ],
   "source": [
    "print('Test Loss:', cnn_score[0])\n",
    "print('Test Accuracy:', cnn_score[1])"
   ]
  },
  {
   "cell_type": "code",
   "execution_count": 28,
   "metadata": {},
   "outputs": [],
   "source": [
    "y_pred_cnn = model.predict_classes(X_test_cnn, verbose=0)"
   ]
  },
  {
   "cell_type": "code",
   "execution_count": 48,
   "metadata": {},
   "outputs": [
    {
     "data": {
      "image/png": "[encoded data removed]",
      "text/plain": [
       "<matplotlib.figure.Figure at 0x20fc2350048>"
      ]
     },
     "metadata": {},
     "output_type": "display_data"
    }
   ],
   "source": [
    "import itertools\n",
    "\n",
    "# Create a dict with label codes\n",
    "label_dict = {0:'cannon',1:'eye', 2:'face', 3:'nail', 4:'pear', \n",
    "              5:'piano',6:'radio', 7:'spider', 8:'star', 9:'sword'}\n",
    "\n",
    "# Compute confusion matrix\n",
    "cf_matrix = confusion_matrix(y_test, y_pred_cnn)\n",
    "np.set_printoptions(precision=2)\n",
    "\n",
    "# Plot non-normalized confusion matrix\n",
    "fig = plt.figure(figsize=(10,7))\n",
    "fig = plt.imshow(cf_matrix, interpolation='nearest', cmap=plt.cm.Blues)\n",
    "_ =plt.title('Confusion Matrix - CNN')\n",
    "_ = plt.colorbar()\n",
    "_ = tick_marks = np.arange(len(label_dict))\n",
    "_ = plt.xticks(tick_marks, label_dict.values(), rotation=90)\n",
    "_ = plt.yticks(tick_marks, label_dict.values())\n",
    "_ = plt.tight_layout()\n",
    "_ = plt.ylabel('True label')\n",
    "_ = plt.xlabel('Predicted label')\n",
    "thresh = cf_matrix.max() / 2.\n",
    "for i, j in itertools.product(range(cf_matrix.shape[0]), range(cf_matrix.shape[1])):\n",
    "    plt.text(j, i, cf_matrix[i, j], horizontalalignment=\"center\",\n",
    "                color=\"white\" if cf_matrix[i, j] > thresh else \"black\")"
   ]
  },
  {
   "cell_type": "markdown",
   "metadata": {},
   "source": [
    "#### Using the Model for Predicting"
   ]
  },
  {
   "cell_type": "code",
   "execution_count": 30,
   "metadata": {},
   "outputs": [],
   "source": [
    "test_image = np.expand_dims(X_test_cnn[9], axis=3)\n",
    "test_image = test_image.reshape(1,28, 28,1)"
   ]
  },
  {
   "cell_type": "code",
   "execution_count": 31,
   "metadata": {},
   "outputs": [
    {
     "data": {
      "text/plain": [
       "<matplotlib.image.AxesImage at 0x20fc2f878d0>"
      ]
     },
     "execution_count": 31,
     "metadata": {},
     "output_type": "execute_result"
    },
    {
     "data": {
      "image/png": "[encoded data removed]",
      "text/plain": [
       "<matplotlib.figure.Figure at 0x20fc2374a58>"
      ]
     },
     "metadata": {},
     "output_type": "display_data"
    }
   ],
   "source": [
    "plt.imshow(X_test_cnn[9][:,:,0], cmap=plt.get_cmap('binary'))"
   ]
  },
  {
   "cell_type": "code",
   "execution_count": 32,
   "metadata": {},
   "outputs": [
    {
     "name": "stdout",
     "output_type": "stream",
     "text": [
      "{0: 'cannon', 1: 'eye', 2: 'face', 3: 'nail', 4: 'pear', 5: 'piana', 6: 'radio', 7: 'spider', 8: 'star', 9: 'sword'} \n",
      " \n",
      " [ 0.  0.  0.  0.  0.  0.  0.  0.  0.  1.] \n",
      " \n",
      " (array([9], dtype=int64),)\n"
     ]
    }
   ],
   "source": [
    "print(label_dict,# Dictionary to match label with code\n",
    "      '\\n','\\n',\n",
    "      y_test_cnn[9],# True/False (1/0) of label. Code = position of True\n",
    "      '\\n','\\n',\n",
    "      np.where(y_test_cnn[9] == 1)) # The code "
   ]
  },
  {
   "cell_type": "code",
   "execution_count": 33,
   "metadata": {},
   "outputs": [
    {
     "data": {
      "text/plain": [
       "array([9], dtype=int64)"
      ]
     },
     "execution_count": 33,
     "metadata": {},
     "output_type": "execute_result"
    }
   ],
   "source": [
    "model.predict_classes(test_image,batch_size=1)"
   ]
  },
  {
   "cell_type": "markdown",
   "metadata": {},
   "source": [
    "### Patterns Uncovered in Hidden Layers - Sword"
   ]
  },
  {
   "cell_type": "code",
   "execution_count": 34,
   "metadata": {},
   "outputs": [],
   "source": [
    "def get_activations(model, model_inputs, print_shape_only=True, layer_name=None):\n",
    "    import keras.backend as K\n",
    "    print('----- activations -----')\n",
    "    activations = []\n",
    "    inp = model.input\n",
    "\n",
    "    model_multi_inputs_cond = True\n",
    "    if not isinstance(inp, list):\n",
    "        # only one input! let's wrap it in a list.\n",
    "        inp = [inp]\n",
    "        model_multi_inputs_cond = False\n",
    "\n",
    "    outputs = [layer.output for layer in model.layers if\n",
    "               layer.name == layer_name or layer_name is None]  # all layer outputs\n",
    "\n",
    "    funcs = [K.function(inp + [K.learning_phase()], [out]) for out in outputs]  # evaluation functions\n",
    "\n",
    "    if model_multi_inputs_cond:\n",
    "        list_inputs = []\n",
    "        list_inputs.extend(model_inputs)\n",
    "        list_inputs.append(1.)\n",
    "    else:\n",
    "        list_inputs = [model_inputs, 1.]\n",
    "\n",
    "    # Learning phase. 1 = Test mode (no dropout or batch normalization)\n",
    "    # layer_outputs = [func([model_inputs, 1.])[0] for func in funcs]\n",
    "    layer_outputs = [func(list_inputs)[0] for func in funcs]\n",
    "    for layer_activations in layer_outputs:\n",
    "        activations.append(layer_activations)\n",
    "        if print_shape_only:\n",
    "            print(layer_activations.shape)\n",
    "        else:\n",
    "            print(layer_activations)\n",
    "    return activations"
   ]
  },
  {
   "cell_type": "code",
   "execution_count": 35,
   "metadata": {},
   "outputs": [],
   "source": [
    "def display_activations(activation_maps):\n",
    "    batch_size = activation_maps[0].shape[0]\n",
    "    assert batch_size == 1, 'One image at a time to visualize.'\n",
    "    for i, activation_map in enumerate(activation_maps):\n",
    "        print('Displaying activation map {}'.format(i))\n",
    "        shape = activation_map.shape\n",
    "        if len(shape) == 4:\n",
    "            activations = np.hstack(np.transpose(activation_map[0], (2, 0, 1)))\n",
    "        elif len(shape) == 2:\n",
    "            # try to make it square as much as possible. we can skip some activations.\n",
    "            activations = activation_map[0]\n",
    "            num_activations = len(activations)\n",
    "            if num_activations > 1024:  # too hard to display it on the screen.\n",
    "                square_param = int(np.floor(np.sqrt(num_activations)))\n",
    "                activations = activations[0: square_param * square_param]\n",
    "                activations = np.reshape(activations, (square_param, square_param))\n",
    "            else:\n",
    "                activations = np.expand_dims(activations, axis=0)\n",
    "        else:\n",
    "            raise Exception('len(shape) = 3 has not been implemented.')\n",
    "        plt.figure(figsize=(25,10))\n",
    "        plt.imshow(activations, interpolation='None', cmap='binary')\n",
    "        plt.show()"
   ]
  },
  {
   "cell_type": "code",
   "execution_count": 36,
   "metadata": {},
   "outputs": [
    {
     "name": "stdout",
     "output_type": "stream",
     "text": [
      "----- activations -----\n",
      "(1, 24, 24, 32)\n",
      "(1, 22, 22, 64)\n",
      "(1, 11, 11, 64)\n",
      "(1, 11, 11, 64)\n",
      "(1, 7744)\n",
      "(1, 128)\n",
      "(1, 128)\n",
      "(1, 10)\n"
     ]
    }
   ],
   "source": [
    "activations = get_activations(model, test_image)"
   ]
  },
  {
   "cell_type": "code",
   "execution_count": 37,
   "metadata": {},
   "outputs": [
    {
     "name": "stdout",
     "output_type": "stream",
     "text": [
      "Displaying activation map 0\n"
     ]
    },
    {
     "data": {
      "image/png": "[encoded data removed]",
      "text/plain": [
       "<matplotlib.figure.Figure at 0x20fbc4fbfd0>"
      ]
     },
     "metadata": {},
     "output_type": "display_data"
    },
    {
     "name": "stdout",
     "output_type": "stream",
     "text": [
      "Displaying activation map 1\n"
     ]
    },
    {
     "data": {
      "image/png": "[encoded data removed]",
      "text/plain": [
       "<matplotlib.figure.Figure at 0x20fc2fdeac8>"
      ]
     },
     "metadata": {},
     "output_type": "display_data"
    },
    {
     "name": "stdout",
     "output_type": "stream",
     "text": [
      "Displaying activation map 2\n"
     ]
    },
    {
     "data": {
      "image/png": "[encoded data removed]",
      "text/plain": [
       "<matplotlib.figure.Figure at 0x20fc3036588>"
      ]
     },
     "metadata": {},
     "output_type": "display_data"
    },
    {
     "name": "stdout",
     "output_type": "stream",
     "text": [
      "Displaying activation map 3\n"
     ]
    },
    {
     "data": {
      "image/png": "[encoded data removed]",
      "text/plain": [
       "<matplotlib.figure.Figure at 0x20fc3ed9780>"
      ]
     },
     "metadata": {},
     "output_type": "display_data"
    },
    {
     "name": "stdout",
     "output_type": "stream",
     "text": [
      "Displaying activation map 4\n"
     ]
    },
    {
     "data": {
      "image/png": "[encoded data removed]",
      "text/plain": [
       "<matplotlib.figure.Figure at 0x20fc445f550>"
      ]
     },
     "metadata": {},
     "output_type": "display_data"
    },
    {
     "name": "stdout",
     "output_type": "stream",
     "text": [
      "Displaying activation map 5\n"
     ]
    },
    {
     "data": {
      "image/png": "[encoded data removed]",
      "text/plain": [
       "<matplotlib.figure.Figure at 0x20fc3f9e8d0>"
      ]
     },
     "metadata": {},
     "output_type": "display_data"
    },
    {
     "name": "stdout",
     "output_type": "stream",
     "text": [
      "Displaying activation map 6\n"
     ]
    },
    {
     "data": {
      "image/png": "[encoded data removed]",
      "text/plain": [
       "<matplotlib.figure.Figure at 0x20fc3fd49b0>"
      ]
     },
     "metadata": {},
     "output_type": "display_data"
    },
    {
     "name": "stdout",
     "output_type": "stream",
     "text": [
      "Displaying activation map 7\n"
     ]
    },
    {
     "data": {
      "image/png": "[encoded data removed]",
      "text/plain": [
       "<matplotlib.figure.Figure at 0x20fc3fa43c8>"
      ]
     },
     "metadata": {},
     "output_type": "display_data"
    }
   ],
   "source": [
    "display_activations(activations)"
   ]
  },
  {
   "cell_type": "markdown",
   "metadata": {},
   "source": [
    "## Transfer Learning - VGG16"
   ]
  },
  {
   "cell_type": "code",
   "execution_count": 38,
   "metadata": {},
   "outputs": [
    {
     "name": "stdout",
     "output_type": "stream",
     "text": [
      "_________________________________________________________________\n",
      "Layer (type)                 Output Shape              Param #   \n",
      "=================================================================\n",
      "input_1 (InputLayer)         (None, None, None, 3)     0         \n",
      "_________________________________________________________________\n",
      "block1_conv1 (Conv2D)        (None, None, None, 64)    1792      \n",
      "_________________________________________________________________\n",
      "block1_conv2 (Conv2D)        (None, None, None, 64)    36928     \n",
      "_________________________________________________________________\n",
      "block1_pool (MaxPooling2D)   (None, None, None, 64)    0         \n",
      "_________________________________________________________________\n",
      "block2_conv1 (Conv2D)        (None, None, None, 128)   73856     \n",
      "_________________________________________________________________\n",
      "block2_conv2 (Conv2D)        (None, None, None, 128)   147584    \n",
      "_________________________________________________________________\n",
      "block2_pool (MaxPooling2D)   (None, None, None, 128)   0         \n",
      "_________________________________________________________________\n",
      "block3_conv1 (Conv2D)        (None, None, None, 256)   295168    \n",
      "_________________________________________________________________\n",
      "block3_conv2 (Conv2D)        (None, None, None, 256)   590080    \n",
      "_________________________________________________________________\n",
      "block3_conv3 (Conv2D)        (None, None, None, 256)   590080    \n",
      "_________________________________________________________________\n",
      "block3_pool (MaxPooling2D)   (None, None, None, 256)   0         \n",
      "_________________________________________________________________\n",
      "block4_conv1 (Conv2D)        (None, None, None, 512)   1180160   \n",
      "_________________________________________________________________\n",
      "block4_conv2 (Conv2D)        (None, None, None, 512)   2359808   \n",
      "_________________________________________________________________\n",
      "block4_conv3 (Conv2D)        (None, None, None, 512)   2359808   \n",
      "_________________________________________________________________\n",
      "block4_pool (MaxPooling2D)   (None, None, None, 512)   0         \n",
      "_________________________________________________________________\n",
      "block5_conv1 (Conv2D)        (None, None, None, 512)   2359808   \n",
      "_________________________________________________________________\n",
      "block5_conv2 (Conv2D)        (None, None, None, 512)   2359808   \n",
      "_________________________________________________________________\n",
      "block5_conv3 (Conv2D)        (None, None, None, 512)   2359808   \n",
      "_________________________________________________________________\n",
      "block5_pool (MaxPooling2D)   (None, None, None, 512)   0         \n",
      "=================================================================\n",
      "Total params: 14,714,688\n",
      "Trainable params: 14,714,688\n",
      "Non-trainable params: 0\n",
      "_________________________________________________________________\n"
     ]
    }
   ],
   "source": [
    "from keras import applications\n",
    "from skimage.transform import resize\n",
    "import cv2\n",
    "\n",
    "batch_size = 128\n",
    "num_classes = 10\n",
    "epochs = 50\n",
    "\n",
    "vgg_model = applications.VGG16(weights='imagenet', include_top=False)\n",
    "vgg_model.summary()"
   ]
  },
  {
   "cell_type": "markdown",
   "metadata": {},
   "source": [
    "#### X_Train"
   ]
  },
  {
   "cell_type": "code",
   "execution_count": 39,
   "metadata": {},
   "outputs": [
    {
     "name": "stdout",
     "output_type": "stream",
     "text": [
      "21000/21000 [==============================] - 418s 20ms/step\n"
     ]
    }
   ],
   "source": [
    "# Resize the heighth and width to meet the minimum - X_train\n",
    "resized_train = np.empty((0,56,56))\n",
    "\n",
    "for line in X_train_cnn:\n",
    "    img = cv2.resize(line, None, fx=2, fy=2, interpolation = cv2.INTER_CUBIC)\n",
    "    resized_train = np.append(resized_train, [img], axis=0)\n",
    "    \n",
    "# Turn grayscale into RGB\n",
    "X_train_tl = np.stack((resized_train,)*3, -1)\n",
    "    \n",
    "bottleneck_features_train = vgg_model.predict(X_train_tl,verbose=1)"
   ]
  },
  {
   "cell_type": "markdown",
   "metadata": {},
   "source": [
    "#### X_Test"
   ]
  },
  {
   "cell_type": "code",
   "execution_count": 40,
   "metadata": {},
   "outputs": [
    {
     "name": "stdout",
     "output_type": "stream",
     "text": [
      "9000/9000 [==============================] - 179s 20ms/step\n"
     ]
    }
   ],
   "source": [
    "# Resize the heighth and width to meet the minimum - X_test\n",
    "resized_test = np.empty((0,56,56))\n",
    "\n",
    "for line in X_test_cnn:\n",
    "    img = cv2.resize(line, None, fx=2, fy=2, interpolation = cv2.INTER_CUBIC)\n",
    "    resized_test = np.append(resized_test, [img], axis=0)\n",
    "    \n",
    "# Turn grayscale into RGB\n",
    "X_test_tl = np.stack((resized_test,)*3, -1)\n",
    "\n",
    "bottleneck_features_test = vgg_model.predict(X_test_tl,verbose=1)"
   ]
  },
  {
   "cell_type": "code",
   "execution_count": 41,
   "metadata": {},
   "outputs": [],
   "source": [
    "clf_model = Sequential()\n",
    "clf_model.add(Flatten(input_shape=bottleneck_features_train.shape[1:]))\n",
    "clf_model.add(Dense(512, activation='relu'))\n",
    "clf_model.add(Dropout(0.5))\n",
    "clf_model.add(Dense(256, activation='relu'))\n",
    "clf_model.add(Dropout(0.5))\n",
    "clf_model.add(Dense(num_classes, activation='softmax'))"
   ]
  },
  {
   "cell_type": "code",
   "execution_count": 42,
   "metadata": {},
   "outputs": [
    {
     "data": {
      "image/svg+xml": [
       "<svg height=\"553pt\" viewBox=\"0.00 0.00 343.00 553.00\" width=\"343pt\" xmlns=\"http://www.w3.org/2000/svg\" xmlns:xlink=\"http://www.w3.org/1999/xlink\">\n",
       "<g class=\"graph\" id=\"graph0\" transform=\"scale(1 1) rotate(0) translate(4 549)\">\n",
       "<title>G</title>\n",
       "<polygon fill=\"white\" points=\"-4,4 -4,-549 339,-549 339,4 -4,4\" stroke=\"none\"/>\n",
       "<!-- 2266706022016 -->\n",
       "<g class=\"node\" id=\"node1\"><title>2266706022016</title>\n",
       "<polygon fill=\"none\" points=\"0,-498.5 0,-544.5 335,-544.5 335,-498.5 0,-498.5\" stroke=\"black\"/>\n",
       "<text font-family=\"Times New Roman,serif\" font-size=\"14.00\" text-anchor=\"middle\" x=\"83.5\" y=\"-517.8\">flatten_2_input: InputLayer</text>\n",
       "<polyline fill=\"none\" points=\"167,-498.5 167,-544.5 \" stroke=\"black\"/>\n",
       "<text font-family=\"Times New Roman,serif\" font-size=\"14.00\" text-anchor=\"middle\" x=\"195\" y=\"-529.3\">input:</text>\n",
       "<polyline fill=\"none\" points=\"167,-521.5 223,-521.5 \" stroke=\"black\"/>\n",
       "<text font-family=\"Times New Roman,serif\" font-size=\"14.00\" text-anchor=\"middle\" x=\"195\" y=\"-506.3\">output:</text>\n",
       "<polyline fill=\"none\" points=\"223,-498.5 223,-544.5 \" stroke=\"black\"/>\n",
       "<text font-family=\"Times New Roman,serif\" font-size=\"14.00\" text-anchor=\"middle\" x=\"279\" y=\"-529.3\">(None, 1, 1, 512)</text>\n",
       "<polyline fill=\"none\" points=\"223,-521.5 335,-521.5 \" stroke=\"black\"/>\n",
       "<text font-family=\"Times New Roman,serif\" font-size=\"14.00\" text-anchor=\"middle\" x=\"279\" y=\"-506.3\">(None, 1, 1, 512)</text>\n",
       "</g>\n",
       "<!-- 2266738219496 -->\n",
       "<g class=\"node\" id=\"node2\"><title>2266738219496</title>\n",
       "<polygon fill=\"none\" points=\"29,-415.5 29,-461.5 306,-461.5 306,-415.5 29,-415.5\" stroke=\"black\"/>\n",
       "<text font-family=\"Times New Roman,serif\" font-size=\"14.00\" text-anchor=\"middle\" x=\"83.5\" y=\"-434.8\">flatten_2: Flatten</text>\n",
       "<polyline fill=\"none\" points=\"138,-415.5 138,-461.5 \" stroke=\"black\"/>\n",
       "<text font-family=\"Times New Roman,serif\" font-size=\"14.00\" text-anchor=\"middle\" x=\"166\" y=\"-446.3\">input:</text>\n",
       "<polyline fill=\"none\" points=\"138,-438.5 194,-438.5 \" stroke=\"black\"/>\n",
       "<text font-family=\"Times New Roman,serif\" font-size=\"14.00\" text-anchor=\"middle\" x=\"166\" y=\"-423.3\">output:</text>\n",
       "<polyline fill=\"none\" points=\"194,-415.5 194,-461.5 \" stroke=\"black\"/>\n",
       "<text font-family=\"Times New Roman,serif\" font-size=\"14.00\" text-anchor=\"middle\" x=\"250\" y=\"-446.3\">(None, 1, 1, 512)</text>\n",
       "<polyline fill=\"none\" points=\"194,-438.5 306,-438.5 \" stroke=\"black\"/>\n",
       "<text font-family=\"Times New Roman,serif\" font-size=\"14.00\" text-anchor=\"middle\" x=\"250\" y=\"-423.3\">(None, 512)</text>\n",
       "</g>\n",
       "<!-- 2266706022016&#45;&gt;2266738219496 -->\n",
       "<g class=\"edge\" id=\"edge1\"><title>2266706022016-&gt;2266738219496</title>\n",
       "<path d=\"M167.5,-498.366C167.5,-490.152 167.5,-480.658 167.5,-471.725\" fill=\"none\" stroke=\"black\"/>\n",
       "<polygon fill=\"black\" points=\"171,-471.607 167.5,-461.607 164,-471.607 171,-471.607\" stroke=\"black\"/>\n",
       "</g>\n",
       "<!-- 2266738219440 -->\n",
       "<g class=\"node\" id=\"node3\"><title>2266738219440</title>\n",
       "<polygon fill=\"none\" points=\"46,-332.5 46,-378.5 289,-378.5 289,-332.5 46,-332.5\" stroke=\"black\"/>\n",
       "<text font-family=\"Times New Roman,serif\" font-size=\"14.00\" text-anchor=\"middle\" x=\"98\" y=\"-351.8\">dense_3: Dense</text>\n",
       "<polyline fill=\"none\" points=\"150,-332.5 150,-378.5 \" stroke=\"black\"/>\n",
       "<text font-family=\"Times New Roman,serif\" font-size=\"14.00\" text-anchor=\"middle\" x=\"178\" y=\"-363.3\">input:</text>\n",
       "<polyline fill=\"none\" points=\"150,-355.5 206,-355.5 \" stroke=\"black\"/>\n",
       "<text font-family=\"Times New Roman,serif\" font-size=\"14.00\" text-anchor=\"middle\" x=\"178\" y=\"-340.3\">output:</text>\n",
       "<polyline fill=\"none\" points=\"206,-332.5 206,-378.5 \" stroke=\"black\"/>\n",
       "<text font-family=\"Times New Roman,serif\" font-size=\"14.00\" text-anchor=\"middle\" x=\"247.5\" y=\"-363.3\">(None, 512)</text>\n",
       "<polyline fill=\"none\" points=\"206,-355.5 289,-355.5 \" stroke=\"black\"/>\n",
       "<text font-family=\"Times New Roman,serif\" font-size=\"14.00\" text-anchor=\"middle\" x=\"247.5\" y=\"-340.3\">(None, 512)</text>\n",
       "</g>\n",
       "<!-- 2266738219496&#45;&gt;2266738219440 -->\n",
       "<g class=\"edge\" id=\"edge2\"><title>2266738219496-&gt;2266738219440</title>\n",
       "<path d=\"M167.5,-415.366C167.5,-407.152 167.5,-397.658 167.5,-388.725\" fill=\"none\" stroke=\"black\"/>\n",
       "<polygon fill=\"black\" points=\"171,-388.607 167.5,-378.607 164,-388.607 171,-388.607\" stroke=\"black\"/>\n",
       "</g>\n",
       "<!-- 2266738218040 -->\n",
       "<g class=\"node\" id=\"node4\"><title>2266738218040</title>\n",
       "<polygon fill=\"none\" points=\"33,-249.5 33,-295.5 302,-295.5 302,-249.5 33,-249.5\" stroke=\"black\"/>\n",
       "<text font-family=\"Times New Roman,serif\" font-size=\"14.00\" text-anchor=\"middle\" x=\"98\" y=\"-268.8\">dropout_3: Dropout</text>\n",
       "<polyline fill=\"none\" points=\"163,-249.5 163,-295.5 \" stroke=\"black\"/>\n",
       "<text font-family=\"Times New Roman,serif\" font-size=\"14.00\" text-anchor=\"middle\" x=\"191\" y=\"-280.3\">input:</text>\n",
       "<polyline fill=\"none\" points=\"163,-272.5 219,-272.5 \" stroke=\"black\"/>\n",
       "<text font-family=\"Times New Roman,serif\" font-size=\"14.00\" text-anchor=\"middle\" x=\"191\" y=\"-257.3\">output:</text>\n",
       "<polyline fill=\"none\" points=\"219,-249.5 219,-295.5 \" stroke=\"black\"/>\n",
       "<text font-family=\"Times New Roman,serif\" font-size=\"14.00\" text-anchor=\"middle\" x=\"260.5\" y=\"-280.3\">(None, 512)</text>\n",
       "<polyline fill=\"none\" points=\"219,-272.5 302,-272.5 \" stroke=\"black\"/>\n",
       "<text font-family=\"Times New Roman,serif\" font-size=\"14.00\" text-anchor=\"middle\" x=\"260.5\" y=\"-257.3\">(None, 512)</text>\n",
       "</g>\n",
       "<!-- 2266738219440&#45;&gt;2266738218040 -->\n",
       "<g class=\"edge\" id=\"edge3\"><title>2266738219440-&gt;2266738218040</title>\n",
       "<path d=\"M167.5,-332.366C167.5,-324.152 167.5,-314.658 167.5,-305.725\" fill=\"none\" stroke=\"black\"/>\n",
       "<polygon fill=\"black\" points=\"171,-305.607 167.5,-295.607 164,-305.607 171,-305.607\" stroke=\"black\"/>\n",
       "</g>\n",
       "<!-- 2266738242336 -->\n",
       "<g class=\"node\" id=\"node5\"><title>2266738242336</title>\n",
       "<polygon fill=\"none\" points=\"46,-166.5 46,-212.5 289,-212.5 289,-166.5 46,-166.5\" stroke=\"black\"/>\n",
       "<text font-family=\"Times New Roman,serif\" font-size=\"14.00\" text-anchor=\"middle\" x=\"98\" y=\"-185.8\">dense_4: Dense</text>\n",
       "<polyline fill=\"none\" points=\"150,-166.5 150,-212.5 \" stroke=\"black\"/>\n",
       "<text font-family=\"Times New Roman,serif\" font-size=\"14.00\" text-anchor=\"middle\" x=\"178\" y=\"-197.3\">input:</text>\n",
       "<polyline fill=\"none\" points=\"150,-189.5 206,-189.5 \" stroke=\"black\"/>\n",
       "<text font-family=\"Times New Roman,serif\" font-size=\"14.00\" text-anchor=\"middle\" x=\"178\" y=\"-174.3\">output:</text>\n",
       "<polyline fill=\"none\" points=\"206,-166.5 206,-212.5 \" stroke=\"black\"/>\n",
       "<text font-family=\"Times New Roman,serif\" font-size=\"14.00\" text-anchor=\"middle\" x=\"247.5\" y=\"-197.3\">(None, 512)</text>\n",
       "<polyline fill=\"none\" points=\"206,-189.5 289,-189.5 \" stroke=\"black\"/>\n",
       "<text font-family=\"Times New Roman,serif\" font-size=\"14.00\" text-anchor=\"middle\" x=\"247.5\" y=\"-174.3\">(None, 256)</text>\n",
       "</g>\n",
       "<!-- 2266738218040&#45;&gt;2266738242336 -->\n",
       "<g class=\"edge\" id=\"edge4\"><title>2266738218040-&gt;2266738242336</title>\n",
       "<path d=\"M167.5,-249.366C167.5,-241.152 167.5,-231.658 167.5,-222.725\" fill=\"none\" stroke=\"black\"/>\n",
       "<polygon fill=\"black\" points=\"171,-222.607 167.5,-212.607 164,-222.607 171,-222.607\" stroke=\"black\"/>\n",
       "</g>\n",
       "<!-- 2266706013040 -->\n",
       "<g class=\"node\" id=\"node6\"><title>2266706013040</title>\n",
       "<polygon fill=\"none\" points=\"33,-83.5 33,-129.5 302,-129.5 302,-83.5 33,-83.5\" stroke=\"black\"/>\n",
       "<text font-family=\"Times New Roman,serif\" font-size=\"14.00\" text-anchor=\"middle\" x=\"98\" y=\"-102.8\">dropout_4: Dropout</text>\n",
       "<polyline fill=\"none\" points=\"163,-83.5 163,-129.5 \" stroke=\"black\"/>\n",
       "<text font-family=\"Times New Roman,serif\" font-size=\"14.00\" text-anchor=\"middle\" x=\"191\" y=\"-114.3\">input:</text>\n",
       "<polyline fill=\"none\" points=\"163,-106.5 219,-106.5 \" stroke=\"black\"/>\n",
       "<text font-family=\"Times New Roman,serif\" font-size=\"14.00\" text-anchor=\"middle\" x=\"191\" y=\"-91.3\">output:</text>\n",
       "<polyline fill=\"none\" points=\"219,-83.5 219,-129.5 \" stroke=\"black\"/>\n",
       "<text font-family=\"Times New Roman,serif\" font-size=\"14.00\" text-anchor=\"middle\" x=\"260.5\" y=\"-114.3\">(None, 256)</text>\n",
       "<polyline fill=\"none\" points=\"219,-106.5 302,-106.5 \" stroke=\"black\"/>\n",
       "<text font-family=\"Times New Roman,serif\" font-size=\"14.00\" text-anchor=\"middle\" x=\"260.5\" y=\"-91.3\">(None, 256)</text>\n",
       "</g>\n",
       "<!-- 2266738242336&#45;&gt;2266706013040 -->\n",
       "<g class=\"edge\" id=\"edge5\"><title>2266738242336-&gt;2266706013040</title>\n",
       "<path d=\"M167.5,-166.366C167.5,-158.152 167.5,-148.658 167.5,-139.725\" fill=\"none\" stroke=\"black\"/>\n",
       "<polygon fill=\"black\" points=\"171,-139.607 167.5,-129.607 164,-139.607 171,-139.607\" stroke=\"black\"/>\n",
       "</g>\n",
       "<!-- 2266738108344 -->\n",
       "<g class=\"node\" id=\"node7\"><title>2266738108344</title>\n",
       "<polygon fill=\"none\" points=\"46,-0.5 46,-46.5 289,-46.5 289,-0.5 46,-0.5\" stroke=\"black\"/>\n",
       "<text font-family=\"Times New Roman,serif\" font-size=\"14.00\" text-anchor=\"middle\" x=\"98\" y=\"-19.8\">dense_5: Dense</text>\n",
       "<polyline fill=\"none\" points=\"150,-0.5 150,-46.5 \" stroke=\"black\"/>\n",
       "<text font-family=\"Times New Roman,serif\" font-size=\"14.00\" text-anchor=\"middle\" x=\"178\" y=\"-31.3\">input:</text>\n",
       "<polyline fill=\"none\" points=\"150,-23.5 206,-23.5 \" stroke=\"black\"/>\n",
       "<text font-family=\"Times New Roman,serif\" font-size=\"14.00\" text-anchor=\"middle\" x=\"178\" y=\"-8.3\">output:</text>\n",
       "<polyline fill=\"none\" points=\"206,-0.5 206,-46.5 \" stroke=\"black\"/>\n",
       "<text font-family=\"Times New Roman,serif\" font-size=\"14.00\" text-anchor=\"middle\" x=\"247.5\" y=\"-31.3\">(None, 256)</text>\n",
       "<polyline fill=\"none\" points=\"206,-23.5 289,-23.5 \" stroke=\"black\"/>\n",
       "<text font-family=\"Times New Roman,serif\" font-size=\"14.00\" text-anchor=\"middle\" x=\"247.5\" y=\"-8.3\">(None, 10)</text>\n",
       "</g>\n",
       "<!-- 2266706013040&#45;&gt;2266738108344 -->\n",
       "<g class=\"edge\" id=\"edge6\"><title>2266706013040-&gt;2266738108344</title>\n",
       "<path d=\"M167.5,-83.3664C167.5,-75.1516 167.5,-65.6579 167.5,-56.7252\" fill=\"none\" stroke=\"black\"/>\n",
       "<polygon fill=\"black\" points=\"171,-56.6068 167.5,-46.6068 164,-56.6069 171,-56.6068\" stroke=\"black\"/>\n",
       "</g>\n",
       "</g>\n",
       "</svg>"
      ],
      "text/plain": [
       "<IPython.core.display.SVG object>"
      ]
     },
     "execution_count": 42,
     "metadata": {},
     "output_type": "execute_result"
    }
   ],
   "source": [
    "SVG(model_to_dot(clf_model, show_shapes=True, \n",
    "                 show_layer_names=True, rankdir='TB').create(prog='dot', format='svg'))"
   ]
  },
  {
   "cell_type": "code",
   "execution_count": 43,
   "metadata": {},
   "outputs": [],
   "source": [
    "clf_model.compile(loss=keras.losses.categorical_crossentropy,\n",
    "              optimizer=keras.optimizers.Adadelta(),\n",
    "              metrics=['accuracy'])"
   ]
  },
  {
   "cell_type": "code",
   "execution_count": 44,
   "metadata": {},
   "outputs": [
    {
     "name": "stdout",
     "output_type": "stream",
     "text": [
      "Epoch 1/50\n",
      "21000/21000 [==============================] - 2s 112us/step - loss: 0.8854 - acc: 0.7144\n",
      "Epoch 2/50\n",
      "21000/21000 [==============================] - 2s 110us/step - loss: 0.4866 - acc: 0.8549\n",
      "Epoch 3/50\n",
      "21000/21000 [==============================] - 2s 107us/step - loss: 0.4155 - acc: 0.8750\n",
      "Epoch 4/50\n",
      "21000/21000 [==============================] - 2s 105us/step - loss: 0.3857 - acc: 0.8854\n",
      "Epoch 5/50\n",
      "21000/21000 [==============================] - 2s 105us/step - loss: 0.3635 - acc: 0.8895\n",
      "Epoch 6/50\n",
      "21000/21000 [==============================] - 2s 103us/step - loss: 0.3397 - acc: 0.8981\n",
      "Epoch 7/50\n",
      "21000/21000 [==============================] - 2s 97us/step - loss: 0.3370 - acc: 0.8994\n",
      "Epoch 8/50\n",
      "21000/21000 [==============================] - 2s 99us/step - loss: 0.3197 - acc: 0.9061\n",
      "Epoch 9/50\n",
      "21000/21000 [==============================] - 2s 96us/step - loss: 0.3123 - acc: 0.9059\n",
      "Epoch 10/50\n",
      "21000/21000 [==============================] - 2s 99us/step - loss: 0.3002 - acc: 0.9083\n",
      "Epoch 11/50\n",
      "21000/21000 [==============================] - 2s 97us/step - loss: 0.2900 - acc: 0.9121\n",
      "Epoch 12/50\n",
      "21000/21000 [==============================] - 2s 111us/step - loss: 0.2885 - acc: 0.9116\n",
      "Epoch 13/50\n",
      "21000/21000 [==============================] - 2s 99us/step - loss: 0.2757 - acc: 0.9175\n",
      "Epoch 14/50\n",
      "21000/21000 [==============================] - 2s 92us/step - loss: 0.2758 - acc: 0.9161\n",
      "Epoch 15/50\n",
      "21000/21000 [==============================] - 2s 90us/step - loss: 0.2732 - acc: 0.9210\n",
      "Epoch 16/50\n",
      "21000/21000 [==============================] - 2s 91us/step - loss: 0.2609 - acc: 0.9195\n",
      "Epoch 17/50\n",
      "21000/21000 [==============================] - 2s 93us/step - loss: 0.2595 - acc: 0.9200\n",
      "Epoch 18/50\n",
      "21000/21000 [==============================] - 2s 99us/step - loss: 0.2519 - acc: 0.9234\n",
      "Epoch 19/50\n",
      "21000/21000 [==============================] - 2s 110us/step - loss: 0.2463 - acc: 0.9258\n",
      "Epoch 20/50\n",
      "21000/21000 [==============================] - 2s 108us/step - loss: 0.2457 - acc: 0.9258\n",
      "Epoch 21/50\n",
      "21000/21000 [==============================] - 2s 104us/step - loss: 0.2353 - acc: 0.9274\n",
      "Epoch 22/50\n",
      "21000/21000 [==============================] - 2s 100us/step - loss: 0.2378 - acc: 0.9254\n",
      "Epoch 23/50\n",
      "21000/21000 [==============================] - 2s 96us/step - loss: 0.2310 - acc: 0.9297\n",
      "Epoch 24/50\n",
      "21000/21000 [==============================] - 2s 100us/step - loss: 0.2286 - acc: 0.9298\n",
      "Epoch 25/50\n",
      "21000/21000 [==============================] - 2s 106us/step - loss: 0.2261 - acc: 0.9310\n",
      "Epoch 26/50\n",
      "21000/21000 [==============================] - 2s 104us/step - loss: 0.2202 - acc: 0.9333\n",
      "Epoch 27/50\n",
      "21000/21000 [==============================] - 2s 100us/step - loss: 0.2165 - acc: 0.9331\n",
      "Epoch 28/50\n",
      "21000/21000 [==============================] - 2s 102us/step - loss: 0.2141 - acc: 0.9338\n",
      "Epoch 29/50\n",
      "21000/21000 [==============================] - 2s 104us/step - loss: 0.2100 - acc: 0.9342\n",
      "Epoch 30/50\n",
      "21000/21000 [==============================] - 2s 92us/step - loss: 0.2115 - acc: 0.9348\n",
      "Epoch 31/50\n",
      "21000/21000 [==============================] - 2s 91us/step - loss: 0.2069 - acc: 0.9377\n",
      "Epoch 32/50\n",
      "21000/21000 [==============================] - 2s 92us/step - loss: 0.1968 - acc: 0.9387\n",
      "Epoch 33/50\n",
      "21000/21000 [==============================] - 2s 94us/step - loss: 0.1985 - acc: 0.9389\n",
      "Epoch 34/50\n",
      "21000/21000 [==============================] - 2s 94us/step - loss: 0.1892 - acc: 0.9403\n",
      "Epoch 35/50\n",
      "21000/21000 [==============================] - 2s 91us/step - loss: 0.1918 - acc: 0.9406\n",
      "Epoch 36/50\n",
      "21000/21000 [==============================] - 2s 95us/step - loss: 0.1857 - acc: 0.9430\n",
      "Epoch 37/50\n",
      "21000/21000 [==============================] - 2s 89us/step - loss: 0.1869 - acc: 0.9436\n",
      "Epoch 38/50\n",
      "21000/21000 [==============================] - 2s 89us/step - loss: 0.1832 - acc: 0.9420\n",
      "Epoch 39/50\n",
      "21000/21000 [==============================] - 2s 98us/step - loss: 0.1801 - acc: 0.9430\n",
      "Epoch 40/50\n",
      "21000/21000 [==============================] - 2s 98us/step - loss: 0.1768 - acc: 0.9436\n",
      "Epoch 41/50\n",
      "21000/21000 [==============================] - 2s 105us/step - loss: 0.1713 - acc: 0.9464\n",
      "Epoch 42/50\n",
      "21000/21000 [==============================] - 2s 110us/step - loss: 0.1749 - acc: 0.9456\n",
      "Epoch 43/50\n",
      "21000/21000 [==============================] - 2s 97us/step - loss: 0.1730 - acc: 0.9458\n",
      "Epoch 44/50\n",
      "21000/21000 [==============================] - 2s 95us/step - loss: 0.1701 - acc: 0.9458\n",
      "Epoch 45/50\n",
      "21000/21000 [==============================] - 2s 92us/step - loss: 0.1636 - acc: 0.9501\n",
      "Epoch 46/50\n",
      "21000/21000 [==============================] - 2s 92us/step - loss: 0.1642 - acc: 0.9481\n",
      "Epoch 47/50\n",
      "21000/21000 [==============================] - 2s 91us/step - loss: 0.1589 - acc: 0.9508\n",
      "Epoch 48/50\n",
      "21000/21000 [==============================] - 2s 92us/step - loss: 0.1598 - acc: 0.9504\n",
      "Epoch 49/50\n",
      "21000/21000 [==============================] - 2s 95us/step - loss: 0.1554 - acc: 0.9502\n",
      "Epoch 50/50\n",
      "21000/21000 [==============================] - 2s 91us/step - loss: 0.1538 - acc: 0.9506\n"
     ]
    },
    {
     "data": {
      "text/plain": [
       "<keras.callbacks.History at 0x20fc4160198>"
      ]
     },
     "execution_count": 44,
     "metadata": {},
     "output_type": "execute_result"
    }
   ],
   "source": [
    "clf_model.fit(bottleneck_features_train, y_train_cnn,\n",
    "          batch_size=batch_size,\n",
    "          epochs=epochs,\n",
    "          verbose=1)"
   ]
  },
  {
   "cell_type": "markdown",
   "metadata": {},
   "source": [
    "# Predict and Test Model Performance"
   ]
  },
  {
   "cell_type": "code",
   "execution_count": 45,
   "metadata": {},
   "outputs": [
    {
     "name": "stdout",
     "output_type": "stream",
     "text": [
      "9000/9000 [==============================] - 1s 60us/step\n"
     ]
    }
   ],
   "source": [
    "vgg16_score = clf_model.evaluate(bottleneck_features_test, y_test_cnn, verbose=1)"
   ]
  },
  {
   "cell_type": "code",
   "execution_count": 46,
   "metadata": {},
   "outputs": [
    {
     "name": "stdout",
     "output_type": "stream",
     "text": [
      "Test loss: 0.319106397375\n",
      "Test accuracy: 0.918666666667\n"
     ]
    }
   ],
   "source": [
    "print('Test loss:', vgg16_score[0])\n",
    "print('Test accuracy:', vgg16_score[1])"
   ]
  },
  {
   "cell_type": "markdown",
   "metadata": {},
   "source": [
    "# Results"
   ]
  },
  {
   "cell_type": "code",
   "execution_count": 49,
   "metadata": {},
   "outputs": [
    {
     "name": "stdout",
     "output_type": "stream",
     "text": [
      "KNN accuracy:  0.819555555556 \n",
      " Random forest accuracy:  0.804555555556 \n",
      " Linear SVC accuracy:  0.717777777778 \n",
      " Gaussian Radial Basis Function SVC Accuracy:  0.781555555556 \n",
      " Multi-Layer Perceptron accuracy:  0.845666666667 \n",
      " Convolutional Neural Network Score: 0.909555555556 \n",
      " Transfer Learning Score (VGG16) 0.918666666667\n"
     ]
    }
   ],
   "source": [
    "print('KNN accuracy: ',acc_knn,\n",
    "      '\\n',\n",
    "      'Random forest accuracy: ',acc_rfc,\n",
    "      '\\n',\n",
    "      'Linear SVC accuracy: ',acc_lsvc,\n",
    "      '\\n',\n",
    "      'Gaussian Radial Basis Function SVC Accuracy: ',acc_svc,\n",
    "      '\\n',\n",
    "      'Multi-Layer Perceptron accuracy: ',acc_mlp,\n",
    "      '\\n',\n",
    "      'Convolutional Neural Network Score:',cnn_score[1],\n",
    "      '\\n', \n",
    "      'Transfer Learning Score (VGG16)', vgg16_score[1]\n",
    "     )"
   ]
  },
  {
   "cell_type": "code",
   "execution_count": null,
   "metadata": {},
   "outputs": [],
   "source": []
  }
 ],
 "metadata": {
  "kernelspec": {
   "display_name": "Python 3",
   "language": "python",
   "name": "python3"
  },
  "language_info": {
   "codemirror_mode": {
    "name": "ipython",
    "version": 3
   },
   "file_extension": ".py",
   "mimetype": "text/x-python",
   "name": "python",
   "nbconvert_exporter": "python",
   "pygments_lexer": "ipython3",
   "version": "3.6.3"
  }
 },
 "nbformat": 4,
 "nbformat_minor": 2
}
